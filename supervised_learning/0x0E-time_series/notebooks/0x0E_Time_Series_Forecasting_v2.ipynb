{
  "nbformat": 4,
  "nbformat_minor": 0,
  "metadata": {
    "colab": {
      "name": "0x0E_Time_Series_Forecasting_public.ipynb",
      "provenance": [],
      "collapsed_sections": [],
      "toc_visible": true
    },
    "kernelspec": {
      "name": "python3",
      "display_name": "Python 3"
    },
    "language_info": {
      "name": "python"
    }
  },
  "cells": [
    {
      "cell_type": "markdown",
      "metadata": {
        "id": "1AwJra1IJ70k"
      },
      "source": [
        "#Using Recurrent Neural Networks trying to predict Bitcoin prices"
      ]
    },
    {
      "cell_type": "markdown",
      "metadata": {
        "id": "sT2CMlcTVu1A"
      },
      "source": [
        "![RNN](https://miro.medium.com/max/2000/1*QFOzE0TEMFERg3G5_5HiPA.png)"
      ]
    },
    {
      "cell_type": "markdown",
      "metadata": {
        "id": "hjffKyBdWRgW"
      },
      "source": [
        "While the purpose of this article is not to go in details about how Recurrent Neural Networks (RNN) actually work, we are going to implement the Long Short-Term Memory (LSTM) architecture trying to predict the prices of the Bitcoin for a given Dataset, looking forward to fulfill the steps of exploratory data analysis, data prepossessing, data re scaling, time windowing, model designing, model training and lastly the prediction.\n",
        "\n",
        "**The goal is to use the past 24 hours of BTC data to predict the value of BTC at the close of the following hour. Lets do it!**\n",
        "\n"
      ]
    },
    {
      "cell_type": "markdown",
      "metadata": {
        "id": "RYYzhVV2Z0Ih"
      },
      "source": [
        "## Exploratory Data Analysis"
      ]
    },
    {
      "cell_type": "markdown",
      "metadata": {
        "id": "El48QArraHyX"
      },
      "source": [
        "### Setup"
      ]
    },
    {
      "cell_type": "code",
      "metadata": {
        "id": "OCMOCCaeKISY"
      },
      "source": [
        "import os\n",
        "import datetime\n",
        "import matplotlib as mpl\n",
        "import matplotlib.pyplot as plt\n",
        "import numpy as np\n",
        "import pandas as pd\n",
        "import seaborn as sns\n",
        "import tensorflow as tf"
      ],
      "execution_count": 1,
      "outputs": []
    },
    {
      "cell_type": "code",
      "metadata": {
        "id": "NFgVGD8ciBk8"
      },
      "source": [
        "mpl.rcParams['figure.figsize'] = (8, 6)\n",
        "mpl.rcParams['axes.grid'] = False"
      ],
      "execution_count": 2,
      "outputs": []
    },
    {
      "cell_type": "code",
      "metadata": {
        "id": "r8XHYKLhIWhm"
      },
      "source": [
        "seed = 0\n",
        "tf.random.set_seed(seed)\n",
        "np.random.seed(seed)"
      ],
      "execution_count": 3,
      "outputs": []
    },
    {
      "cell_type": "markdown",
      "metadata": {
        "id": "GcW2n3b7aTKA"
      },
      "source": [
        "### Importing Data"
      ]
    },
    {
      "cell_type": "markdown",
      "metadata": {
        "id": "uWvxi7y7bP4N"
      },
      "source": [
        "We are going to import Dataset of the prices of Bitcoin from Coinbase cryptocurrency exchange platform that contains the data of the prices prices formed minute by minute between 2014-12-01 and 2019-01-09:"
      ]
    },
    {
      "cell_type": "code",
      "metadata": {
        "colab": {
          "base_uri": "https://localhost:8080/"
        },
        "id": "EfyoBsAHaXWQ",
        "outputId": "4ba65902-d8e3-476a-ec6e-2f0915f37480"
      },
      "source": [
        "zip_path = tf.keras.utils.get_file(\n",
        "    origin='https://github.com/gcifuentess/holbertonschool-machine_learning/raw/main/supervised_learning/0x0E-time_series/data/coinbaseUSD_1-min_data_2014-12-01_to_2019-01-09.csv.zip',\n",
        "    fname='coinbaseUSD_1-min_data_2014-12-01_to_2019-01-09.csv.zip',\n",
        "    extract=True)\n",
        "csv_path, _ = os.path.splitext(zip_path)"
      ],
      "execution_count": 4,
      "outputs": [
        {
          "output_type": "stream",
          "name": "stdout",
          "text": [
            "Downloading data from https://github.com/gcifuentess/holbertonschool-machine_learning/raw/main/supervised_learning/0x0E-time_series/data/coinbaseUSD_1-min_data_2014-12-01_to_2019-01-09.csv.zip\n",
            "52609024/52602556 [==============================] - 1s 0us/step\n",
            "52617216/52602556 [==============================] - 1s 0us/step\n"
          ]
        }
      ]
    },
    {
      "cell_type": "code",
      "metadata": {
        "id": "7u7E4xwYpnTB"
      },
      "source": [
        "df = pd.read_csv(csv_path)"
      ],
      "execution_count": 5,
      "outputs": []
    },
    {
      "cell_type": "markdown",
      "metadata": {
        "id": "tjpM1vawbHVC"
      },
      "source": [
        "Lets see the very first lines of the dataset:"
      ]
    },
    {
      "cell_type": "code",
      "metadata": {
        "colab": {
          "base_uri": "https://localhost:8080/",
          "height": 204
        },
        "id": "yT9AtUZGbGhi",
        "outputId": "a0f45729-e571-4b0a-8997-131d828a8866"
      },
      "source": [
        "df.head()"
      ],
      "execution_count": 6,
      "outputs": [
        {
          "output_type": "execute_result",
          "data": {
            "text/html": [
              "<div>\n",
              "<style scoped>\n",
              "    .dataframe tbody tr th:only-of-type {\n",
              "        vertical-align: middle;\n",
              "    }\n",
              "\n",
              "    .dataframe tbody tr th {\n",
              "        vertical-align: top;\n",
              "    }\n",
              "\n",
              "    .dataframe thead th {\n",
              "        text-align: right;\n",
              "    }\n",
              "</style>\n",
              "<table border=\"1\" class=\"dataframe\">\n",
              "  <thead>\n",
              "    <tr style=\"text-align: right;\">\n",
              "      <th></th>\n",
              "      <th>Timestamp</th>\n",
              "      <th>Open</th>\n",
              "      <th>High</th>\n",
              "      <th>Low</th>\n",
              "      <th>Close</th>\n",
              "      <th>Volume_(BTC)</th>\n",
              "      <th>Volume_(Currency)</th>\n",
              "      <th>Weighted_Price</th>\n",
              "    </tr>\n",
              "  </thead>\n",
              "  <tbody>\n",
              "    <tr>\n",
              "      <th>0</th>\n",
              "      <td>1417411980</td>\n",
              "      <td>300.0</td>\n",
              "      <td>300.0</td>\n",
              "      <td>300.0</td>\n",
              "      <td>300.0</td>\n",
              "      <td>0.01</td>\n",
              "      <td>3.0</td>\n",
              "      <td>300.0</td>\n",
              "    </tr>\n",
              "    <tr>\n",
              "      <th>1</th>\n",
              "      <td>1417412040</td>\n",
              "      <td>NaN</td>\n",
              "      <td>NaN</td>\n",
              "      <td>NaN</td>\n",
              "      <td>NaN</td>\n",
              "      <td>NaN</td>\n",
              "      <td>NaN</td>\n",
              "      <td>NaN</td>\n",
              "    </tr>\n",
              "    <tr>\n",
              "      <th>2</th>\n",
              "      <td>1417412100</td>\n",
              "      <td>NaN</td>\n",
              "      <td>NaN</td>\n",
              "      <td>NaN</td>\n",
              "      <td>NaN</td>\n",
              "      <td>NaN</td>\n",
              "      <td>NaN</td>\n",
              "      <td>NaN</td>\n",
              "    </tr>\n",
              "    <tr>\n",
              "      <th>3</th>\n",
              "      <td>1417412160</td>\n",
              "      <td>NaN</td>\n",
              "      <td>NaN</td>\n",
              "      <td>NaN</td>\n",
              "      <td>NaN</td>\n",
              "      <td>NaN</td>\n",
              "      <td>NaN</td>\n",
              "      <td>NaN</td>\n",
              "    </tr>\n",
              "    <tr>\n",
              "      <th>4</th>\n",
              "      <td>1417412220</td>\n",
              "      <td>NaN</td>\n",
              "      <td>NaN</td>\n",
              "      <td>NaN</td>\n",
              "      <td>NaN</td>\n",
              "      <td>NaN</td>\n",
              "      <td>NaN</td>\n",
              "      <td>NaN</td>\n",
              "    </tr>\n",
              "  </tbody>\n",
              "</table>\n",
              "</div>"
            ],
            "text/plain": [
              "    Timestamp   Open   High  ...  Volume_(BTC)  Volume_(Currency)  Weighted_Price\n",
              "0  1417411980  300.0  300.0  ...          0.01                3.0           300.0\n",
              "1  1417412040    NaN    NaN  ...           NaN                NaN             NaN\n",
              "2  1417412100    NaN    NaN  ...           NaN                NaN             NaN\n",
              "3  1417412160    NaN    NaN  ...           NaN                NaN             NaN\n",
              "4  1417412220    NaN    NaN  ...           NaN                NaN             NaN\n",
              "\n",
              "[5 rows x 8 columns]"
            ]
          },
          "metadata": {},
          "execution_count": 6
        }
      ]
    },
    {
      "cell_type": "markdown",
      "metadata": {
        "id": "J7KyMQVhdBhd"
      },
      "source": [
        "From this first lines, we can conclude at least 3 different things: 1) the data in the first column (Timestamp) of the dataframe is not human readable (at least no for me :D), 2) we found other 7 features and we don't know which to pick, and 3) there are several NaN values in between."
      ]
    },
    {
      "cell_type": "markdown",
      "metadata": {
        "id": "Ueaet7DdeJ3n"
      },
      "source": [
        "1) Timestamp (not human readable dates), here we can see the equivalency between Timestamp and Datetime:"
      ]
    },
    {
      "cell_type": "code",
      "metadata": {
        "colab": {
          "base_uri": "https://localhost:8080/",
          "height": 204
        },
        "id": "7pDlUgiXa0iu",
        "outputId": "ebedf112-5f11-4cea-ab86-dc892ea845ee"
      },
      "source": [
        "df_timestamp = df['Timestamp'][:5].to_frame()\n",
        "df_timestamp['Datetime'] = pd.to_datetime(df_timestamp[\"Timestamp\"], unit='s')\n",
        "df_timestamp"
      ],
      "execution_count": 7,
      "outputs": [
        {
          "output_type": "execute_result",
          "data": {
            "text/html": [
              "<div>\n",
              "<style scoped>\n",
              "    .dataframe tbody tr th:only-of-type {\n",
              "        vertical-align: middle;\n",
              "    }\n",
              "\n",
              "    .dataframe tbody tr th {\n",
              "        vertical-align: top;\n",
              "    }\n",
              "\n",
              "    .dataframe thead th {\n",
              "        text-align: right;\n",
              "    }\n",
              "</style>\n",
              "<table border=\"1\" class=\"dataframe\">\n",
              "  <thead>\n",
              "    <tr style=\"text-align: right;\">\n",
              "      <th></th>\n",
              "      <th>Timestamp</th>\n",
              "      <th>Datetime</th>\n",
              "    </tr>\n",
              "  </thead>\n",
              "  <tbody>\n",
              "    <tr>\n",
              "      <th>0</th>\n",
              "      <td>1417411980</td>\n",
              "      <td>2014-12-01 05:33:00</td>\n",
              "    </tr>\n",
              "    <tr>\n",
              "      <th>1</th>\n",
              "      <td>1417412040</td>\n",
              "      <td>2014-12-01 05:34:00</td>\n",
              "    </tr>\n",
              "    <tr>\n",
              "      <th>2</th>\n",
              "      <td>1417412100</td>\n",
              "      <td>2014-12-01 05:35:00</td>\n",
              "    </tr>\n",
              "    <tr>\n",
              "      <th>3</th>\n",
              "      <td>1417412160</td>\n",
              "      <td>2014-12-01 05:36:00</td>\n",
              "    </tr>\n",
              "    <tr>\n",
              "      <th>4</th>\n",
              "      <td>1417412220</td>\n",
              "      <td>2014-12-01 05:37:00</td>\n",
              "    </tr>\n",
              "  </tbody>\n",
              "</table>\n",
              "</div>"
            ],
            "text/plain": [
              "    Timestamp            Datetime\n",
              "0  1417411980 2014-12-01 05:33:00\n",
              "1  1417412040 2014-12-01 05:34:00\n",
              "2  1417412100 2014-12-01 05:35:00\n",
              "3  1417412160 2014-12-01 05:36:00\n",
              "4  1417412220 2014-12-01 05:37:00"
            ]
          },
          "metadata": {},
          "execution_count": 7
        }
      ]
    },
    {
      "cell_type": "markdown",
      "metadata": {
        "id": "ltmnCPJ7tu7W"
      },
      "source": [
        "Now we can see that the date has a minute periods of time, and we need to transform this to an hourly basis."
      ]
    },
    {
      "cell_type": "markdown",
      "metadata": {
        "id": "cQtIG8l9fSuz"
      },
      "source": [
        "2) Watching the relationship between features. For this, we are using a correlogram:"
      ]
    },
    {
      "cell_type": "code",
      "metadata": {
        "colab": {
          "base_uri": "https://localhost:8080/",
          "height": 572
        },
        "id": "8Cn18GNRfSJN",
        "outputId": "bb178df5-9e60-4bff-cb14-8aa4da2bd8f0"
      },
      "source": [
        "corr_matrix = df.corr()\n",
        "plt.figure(figsize=(12, 8))\n",
        "sns.heatmap(corr_matrix, annot=True)\n",
        "plt.show()"
      ],
      "execution_count": 8,
      "outputs": [
        {
          "output_type": "display_data",
          "data": {
            "image/png": "[encoded data removed]",
            "text/plain": [
              "<Figure size 864x576 with 2 Axes>"
            ]
          },
          "metadata": {
            "needs_background": "light"
          }
        }
      ]
    },
    {
      "cell_type": "markdown",
      "metadata": {
        "id": "xHp7r30pf3TF"
      },
      "source": [
        "we can see know that Open, High, Low, Close and Weighted_Price features are fully correlated, so for the purpose of this implementation is enough to take just one of them. We decided to pick the Close, because the [Closing Price](https://www.investopedia.com/terms/c/closingprice.asp#:~:text=The%20closing%20price%20is%20the,officially%20closes%20for%20normal%20trading.) is widely used in financial markets.\n",
        "\n",
        "That lives us with Volume_(BTC) and Volume_(currency) features, but as we are just going to build a simple RNN model, we are going to discard it for the moment. (it will be interesting for a next opportunity to include this features in the model)"
      ]
    },
    {
      "cell_type": "markdown",
      "metadata": {
        "id": "XeKM4rTUijQO"
      },
      "source": [
        "3) there are several NaN values in between. Let's count how many NaN values are the Close column:\n",
        "\n"
      ]
    },
    {
      "cell_type": "code",
      "metadata": {
        "colab": {
          "base_uri": "https://localhost:8080/"
        },
        "id": "4QGPZBzOihaE",
        "outputId": "29a291c5-899e-4eed-a9e3-bc9529e08338"
      },
      "source": [
        "len(df['Close'][df['Close'].isna()])"
      ],
      "execution_count": 9,
      "outputs": [
        {
          "output_type": "execute_result",
          "data": {
            "text/plain": [
              "109069"
            ]
          },
          "metadata": {},
          "execution_count": 9
        }
      ]
    },
    {
      "cell_type": "code",
      "metadata": {
        "colab": {
          "base_uri": "https://localhost:8080/"
        },
        "id": "7__Ym5snjMNx",
        "outputId": "e0965b5a-ed3f-438c-a965-ec1201ca5e45"
      },
      "source": [
        "print(\"{:.2%} of the datapoints are NaN values\".format(len(df['Close'][df['Close'].isna()]) / len(df['Close'])))"
      ],
      "execution_count": 10,
      "outputs": [
        {
          "output_type": "stream",
          "name": "stdout",
          "text": [
            "5.19% of the datapoints are NaN values\n"
          ]
        }
      ]
    },
    {
      "cell_type": "markdown",
      "metadata": {
        "id": "GG6aKc_uhfJ-"
      },
      "source": [
        "### Plotting Data\n",
        "We are going to plot the data for the selected features to keep understanding it:"
      ]
    },
    {
      "cell_type": "code",
      "metadata": {
        "colab": {
          "base_uri": "https://localhost:8080/",
          "height": 375
        },
        "id": "65APSJphhiMl",
        "outputId": "28b7fe1f-69a7-4a89-b5b9-44f402a97b04"
      },
      "source": [
        "plot_cols = ['Close']\n",
        "plot_features = df[plot_cols]\n",
        "plot_features.index = pd.to_datetime(df[\"Timestamp\"], unit='s')\n",
        "_ = plot_features.plot(subplots=True)"
      ],
      "execution_count": 11,
      "outputs": [
        {
          "output_type": "display_data",
          "data": {
            "image/png": "[encoded data removed]",
            "text/plain": [
              "<Figure size 576x432 with 1 Axes>"
            ]
          },
          "metadata": {
            "needs_background": "light"
          }
        }
      ]
    },
    {
      "cell_type": "markdown",
      "metadata": {
        "id": "pUpOnYJmrZCY"
      },
      "source": [
        "From the above chart we can quickly observe the prices behave reallly different before and after 2017. From 2015 to 2017 the price shows a short range in price volatility and between 2017 and 2019 we observe big movements in it.\n",
        "\n",
        "We now know we need to transform the time visualization (Datetime), we can just keep the Close feature of the remainder features, we need to handle almost 5% of missing values and the data has almost two types of behavior during time, so let's pre-process the data."
      ]
    },
    {
      "cell_type": "markdown",
      "metadata": {
        "id": "iC-KxsBXstAO"
      },
      "source": [
        "## Data Preprocessing"
      ]
    },
    {
      "cell_type": "markdown",
      "metadata": {
        "id": "MX5DJ6Lhs8yO"
      },
      "source": [
        "### Timestamp to Datetime"
      ]
    },
    {
      "cell_type": "code",
      "metadata": {
        "colab": {
          "base_uri": "https://localhost:8080/",
          "height": 204
        },
        "id": "zOTNgHWyf2oe",
        "outputId": "09ab1a31-5b03-4ad0-bd67-81410fa83f76"
      },
      "source": [
        "df['Timestamp'] = pd.to_datetime(df[\"Timestamp\"], unit='s')\n",
        "df.rename(columns={'Timestamp': 'Datetime'}, inplace=True)\n",
        "df.head()"
      ],
      "execution_count": 12,
      "outputs": [
        {
          "output_type": "execute_result",
          "data": {
            "text/html": [
              "<div>\n",
              "<style scoped>\n",
              "    .dataframe tbody tr th:only-of-type {\n",
              "        vertical-align: middle;\n",
              "    }\n",
              "\n",
              "    .dataframe tbody tr th {\n",
              "        vertical-align: top;\n",
              "    }\n",
              "\n",
              "    .dataframe thead th {\n",
              "        text-align: right;\n",
              "    }\n",
              "</style>\n",
              "<table border=\"1\" class=\"dataframe\">\n",
              "  <thead>\n",
              "    <tr style=\"text-align: right;\">\n",
              "      <th></th>\n",
              "      <th>Datetime</th>\n",
              "      <th>Open</th>\n",
              "      <th>High</th>\n",
              "      <th>Low</th>\n",
              "      <th>Close</th>\n",
              "      <th>Volume_(BTC)</th>\n",
              "      <th>Volume_(Currency)</th>\n",
              "      <th>Weighted_Price</th>\n",
              "    </tr>\n",
              "  </thead>\n",
              "  <tbody>\n",
              "    <tr>\n",
              "      <th>0</th>\n",
              "      <td>2014-12-01 05:33:00</td>\n",
              "      <td>300.0</td>\n",
              "      <td>300.0</td>\n",
              "      <td>300.0</td>\n",
              "      <td>300.0</td>\n",
              "      <td>0.01</td>\n",
              "      <td>3.0</td>\n",
              "      <td>300.0</td>\n",
              "    </tr>\n",
              "    <tr>\n",
              "      <th>1</th>\n",
              "      <td>2014-12-01 05:34:00</td>\n",
              "      <td>NaN</td>\n",
              "      <td>NaN</td>\n",
              "      <td>NaN</td>\n",
              "      <td>NaN</td>\n",
              "      <td>NaN</td>\n",
              "      <td>NaN</td>\n",
              "      <td>NaN</td>\n",
              "    </tr>\n",
              "    <tr>\n",
              "      <th>2</th>\n",
              "      <td>2014-12-01 05:35:00</td>\n",
              "      <td>NaN</td>\n",
              "      <td>NaN</td>\n",
              "      <td>NaN</td>\n",
              "      <td>NaN</td>\n",
              "      <td>NaN</td>\n",
              "      <td>NaN</td>\n",
              "      <td>NaN</td>\n",
              "    </tr>\n",
              "    <tr>\n",
              "      <th>3</th>\n",
              "      <td>2014-12-01 05:36:00</td>\n",
              "      <td>NaN</td>\n",
              "      <td>NaN</td>\n",
              "      <td>NaN</td>\n",
              "      <td>NaN</td>\n",
              "      <td>NaN</td>\n",
              "      <td>NaN</td>\n",
              "      <td>NaN</td>\n",
              "    </tr>\n",
              "    <tr>\n",
              "      <th>4</th>\n",
              "      <td>2014-12-01 05:37:00</td>\n",
              "      <td>NaN</td>\n",
              "      <td>NaN</td>\n",
              "      <td>NaN</td>\n",
              "      <td>NaN</td>\n",
              "      <td>NaN</td>\n",
              "      <td>NaN</td>\n",
              "      <td>NaN</td>\n",
              "    </tr>\n",
              "  </tbody>\n",
              "</table>\n",
              "</div>"
            ],
            "text/plain": [
              "             Datetime   Open  ...  Volume_(Currency)  Weighted_Price\n",
              "0 2014-12-01 05:33:00  300.0  ...                3.0           300.0\n",
              "1 2014-12-01 05:34:00    NaN  ...                NaN             NaN\n",
              "2 2014-12-01 05:35:00    NaN  ...                NaN             NaN\n",
              "3 2014-12-01 05:36:00    NaN  ...                NaN             NaN\n",
              "4 2014-12-01 05:37:00    NaN  ...                NaN             NaN\n",
              "\n",
              "[5 rows x 8 columns]"
            ]
          },
          "metadata": {},
          "execution_count": 12
        }
      ]
    },
    {
      "cell_type": "markdown",
      "metadata": {
        "id": "qf09dieitG7F"
      },
      "source": [
        "### Selecting Features"
      ]
    },
    {
      "cell_type": "code",
      "metadata": {
        "colab": {
          "base_uri": "https://localhost:8080/",
          "height": 235
        },
        "id": "wD7ojhhQosUh",
        "outputId": "57437609-f8f3-4c08-88e6-576adc92d751"
      },
      "source": [
        " df = df[['Datetime', 'Close']]\n",
        " df.set_index('Datetime', inplace=True)\n",
        " df.head()"
      ],
      "execution_count": 13,
      "outputs": [
        {
          "output_type": "execute_result",
          "data": {
            "text/html": [
              "<div>\n",
              "<style scoped>\n",
              "    .dataframe tbody tr th:only-of-type {\n",
              "        vertical-align: middle;\n",
              "    }\n",
              "\n",
              "    .dataframe tbody tr th {\n",
              "        vertical-align: top;\n",
              "    }\n",
              "\n",
              "    .dataframe thead th {\n",
              "        text-align: right;\n",
              "    }\n",
              "</style>\n",
              "<table border=\"1\" class=\"dataframe\">\n",
              "  <thead>\n",
              "    <tr style=\"text-align: right;\">\n",
              "      <th></th>\n",
              "      <th>Close</th>\n",
              "    </tr>\n",
              "    <tr>\n",
              "      <th>Datetime</th>\n",
              "      <th></th>\n",
              "    </tr>\n",
              "  </thead>\n",
              "  <tbody>\n",
              "    <tr>\n",
              "      <th>2014-12-01 05:33:00</th>\n",
              "      <td>300.0</td>\n",
              "    </tr>\n",
              "    <tr>\n",
              "      <th>2014-12-01 05:34:00</th>\n",
              "      <td>NaN</td>\n",
              "    </tr>\n",
              "    <tr>\n",
              "      <th>2014-12-01 05:35:00</th>\n",
              "      <td>NaN</td>\n",
              "    </tr>\n",
              "    <tr>\n",
              "      <th>2014-12-01 05:36:00</th>\n",
              "      <td>NaN</td>\n",
              "    </tr>\n",
              "    <tr>\n",
              "      <th>2014-12-01 05:37:00</th>\n",
              "      <td>NaN</td>\n",
              "    </tr>\n",
              "  </tbody>\n",
              "</table>\n",
              "</div>"
            ],
            "text/plain": [
              "                     Close\n",
              "Datetime                  \n",
              "2014-12-01 05:33:00  300.0\n",
              "2014-12-01 05:34:00    NaN\n",
              "2014-12-01 05:35:00    NaN\n",
              "2014-12-01 05:36:00    NaN\n",
              "2014-12-01 05:37:00    NaN"
            ]
          },
          "metadata": {},
          "execution_count": 13
        }
      ]
    },
    {
      "cell_type": "markdown",
      "metadata": {
        "id": "021o2cayuCPn"
      },
      "source": [
        "### Handling Missing Values"
      ]
    },
    {
      "cell_type": "code",
      "metadata": {
        "colab": {
          "base_uri": "https://localhost:8080/",
          "height": 235
        },
        "id": "fRWD3JG_uGjW",
        "outputId": "d2aef0a7-cfe5-4990-e401-4cd69d08c0e8"
      },
      "source": [
        "# We are using Forward fill:\n",
        "df['Close'].fillna(method='ffill', inplace=True)\n",
        "df.head()"
      ],
      "execution_count": 14,
      "outputs": [
        {
          "output_type": "execute_result",
          "data": {
            "text/html": [
              "<div>\n",
              "<style scoped>\n",
              "    .dataframe tbody tr th:only-of-type {\n",
              "        vertical-align: middle;\n",
              "    }\n",
              "\n",
              "    .dataframe tbody tr th {\n",
              "        vertical-align: top;\n",
              "    }\n",
              "\n",
              "    .dataframe thead th {\n",
              "        text-align: right;\n",
              "    }\n",
              "</style>\n",
              "<table border=\"1\" class=\"dataframe\">\n",
              "  <thead>\n",
              "    <tr style=\"text-align: right;\">\n",
              "      <th></th>\n",
              "      <th>Close</th>\n",
              "    </tr>\n",
              "    <tr>\n",
              "      <th>Datetime</th>\n",
              "      <th></th>\n",
              "    </tr>\n",
              "  </thead>\n",
              "  <tbody>\n",
              "    <tr>\n",
              "      <th>2014-12-01 05:33:00</th>\n",
              "      <td>300.0</td>\n",
              "    </tr>\n",
              "    <tr>\n",
              "      <th>2014-12-01 05:34:00</th>\n",
              "      <td>300.0</td>\n",
              "    </tr>\n",
              "    <tr>\n",
              "      <th>2014-12-01 05:35:00</th>\n",
              "      <td>300.0</td>\n",
              "    </tr>\n",
              "    <tr>\n",
              "      <th>2014-12-01 05:36:00</th>\n",
              "      <td>300.0</td>\n",
              "    </tr>\n",
              "    <tr>\n",
              "      <th>2014-12-01 05:37:00</th>\n",
              "      <td>300.0</td>\n",
              "    </tr>\n",
              "  </tbody>\n",
              "</table>\n",
              "</div>"
            ],
            "text/plain": [
              "                     Close\n",
              "Datetime                  \n",
              "2014-12-01 05:33:00  300.0\n",
              "2014-12-01 05:34:00  300.0\n",
              "2014-12-01 05:35:00  300.0\n",
              "2014-12-01 05:36:00  300.0\n",
              "2014-12-01 05:37:00  300.0"
            ]
          },
          "metadata": {},
          "execution_count": 14
        }
      ]
    },
    {
      "cell_type": "markdown",
      "metadata": {
        "id": "SjEH3ZI-uf_5"
      },
      "source": [
        "### Changing Periodicity (minutes to hours)"
      ]
    },
    {
      "cell_type": "code",
      "metadata": {
        "colab": {
          "base_uri": "https://localhost:8080/",
          "height": 235
        },
        "id": "TYAQAVDpune_",
        "outputId": "a03e192f-ae44-4b59-848e-68fc642f5139"
      },
      "source": [
        "df['Datetime'] = df.index\n",
        "df = df.groupby([(df.index.year), (df.index.month),(df.index.day), (df.index.hour)]).last()\n",
        "df.set_index('Datetime', inplace=True)\n",
        "df.head()"
      ],
      "execution_count": 15,
      "outputs": [
        {
          "output_type": "execute_result",
          "data": {
            "text/html": [
              "<div>\n",
              "<style scoped>\n",
              "    .dataframe tbody tr th:only-of-type {\n",
              "        vertical-align: middle;\n",
              "    }\n",
              "\n",
              "    .dataframe tbody tr th {\n",
              "        vertical-align: top;\n",
              "    }\n",
              "\n",
              "    .dataframe thead th {\n",
              "        text-align: right;\n",
              "    }\n",
              "</style>\n",
              "<table border=\"1\" class=\"dataframe\">\n",
              "  <thead>\n",
              "    <tr style=\"text-align: right;\">\n",
              "      <th></th>\n",
              "      <th>Close</th>\n",
              "    </tr>\n",
              "    <tr>\n",
              "      <th>Datetime</th>\n",
              "      <th></th>\n",
              "    </tr>\n",
              "  </thead>\n",
              "  <tbody>\n",
              "    <tr>\n",
              "      <th>2014-12-01 05:59:00</th>\n",
              "      <td>300.0</td>\n",
              "    </tr>\n",
              "    <tr>\n",
              "      <th>2014-12-01 06:59:00</th>\n",
              "      <td>370.0</td>\n",
              "    </tr>\n",
              "    <tr>\n",
              "      <th>2014-12-01 07:59:00</th>\n",
              "      <td>370.0</td>\n",
              "    </tr>\n",
              "    <tr>\n",
              "      <th>2014-12-01 08:59:00</th>\n",
              "      <td>370.0</td>\n",
              "    </tr>\n",
              "    <tr>\n",
              "      <th>2014-12-01 09:59:00</th>\n",
              "      <td>370.0</td>\n",
              "    </tr>\n",
              "  </tbody>\n",
              "</table>\n",
              "</div>"
            ],
            "text/plain": [
              "                     Close\n",
              "Datetime                  \n",
              "2014-12-01 05:59:00  300.0\n",
              "2014-12-01 06:59:00  370.0\n",
              "2014-12-01 07:59:00  370.0\n",
              "2014-12-01 08:59:00  370.0\n",
              "2014-12-01 09:59:00  370.0"
            ]
          },
          "metadata": {},
          "execution_count": 15
        }
      ]
    },
    {
      "cell_type": "markdown",
      "metadata": {
        "id": "U8CDzuhh6_FR"
      },
      "source": [
        "If we now look at the tail of the dataframe we can see the last datapoint has not the same periodicity of the rest, so we need to delete it:"
      ]
    },
    {
      "cell_type": "code",
      "metadata": {
        "id": "TL-vEVU97NYs"
      },
      "source": [
        "df = df[:-1]"
      ],
      "execution_count": 16,
      "outputs": []
    },
    {
      "cell_type": "markdown",
      "metadata": {
        "id": "lcdaMrFS9a8j"
      },
      "source": [
        "### Extract Relevant Section of Data (2017 - 2019)"
      ]
    },
    {
      "cell_type": "code",
      "metadata": {
        "colab": {
          "base_uri": "https://localhost:8080/",
          "height": 235
        },
        "id": "2eeB7gpp9mCA",
        "outputId": "cce1a7d3-735c-49fb-9f26-3c6f50f644e0"
      },
      "source": [
        "trunc = df.index.to_series().between(\"2017\", \"2021\")\n",
        "df = df[trunc]\n",
        "df.head()"
      ],
      "execution_count": 17,
      "outputs": [
        {
          "output_type": "execute_result",
          "data": {
            "text/html": [
              "<div>\n",
              "<style scoped>\n",
              "    .dataframe tbody tr th:only-of-type {\n",
              "        vertical-align: middle;\n",
              "    }\n",
              "\n",
              "    .dataframe tbody tr th {\n",
              "        vertical-align: top;\n",
              "    }\n",
              "\n",
              "    .dataframe thead th {\n",
              "        text-align: right;\n",
              "    }\n",
              "</style>\n",
              "<table border=\"1\" class=\"dataframe\">\n",
              "  <thead>\n",
              "    <tr style=\"text-align: right;\">\n",
              "      <th></th>\n",
              "      <th>Close</th>\n",
              "    </tr>\n",
              "    <tr>\n",
              "      <th>Datetime</th>\n",
              "      <th></th>\n",
              "    </tr>\n",
              "  </thead>\n",
              "  <tbody>\n",
              "    <tr>\n",
              "      <th>2017-01-01 00:59:00</th>\n",
              "      <td>970.27</td>\n",
              "    </tr>\n",
              "    <tr>\n",
              "      <th>2017-01-01 01:59:00</th>\n",
              "      <td>970.49</td>\n",
              "    </tr>\n",
              "    <tr>\n",
              "      <th>2017-01-01 02:59:00</th>\n",
              "      <td>967.95</td>\n",
              "    </tr>\n",
              "    <tr>\n",
              "      <th>2017-01-01 03:59:00</th>\n",
              "      <td>968.14</td>\n",
              "    </tr>\n",
              "    <tr>\n",
              "      <th>2017-01-01 04:59:00</th>\n",
              "      <td>968.10</td>\n",
              "    </tr>\n",
              "  </tbody>\n",
              "</table>\n",
              "</div>"
            ],
            "text/plain": [
              "                      Close\n",
              "Datetime                   \n",
              "2017-01-01 00:59:00  970.27\n",
              "2017-01-01 01:59:00  970.49\n",
              "2017-01-01 02:59:00  967.95\n",
              "2017-01-01 03:59:00  968.14\n",
              "2017-01-01 04:59:00  968.10"
            ]
          },
          "metadata": {},
          "execution_count": 17
        }
      ]
    },
    {
      "cell_type": "markdown",
      "metadata": {
        "id": "Xz1HXj8M_ojH"
      },
      "source": [
        "### Slipt Data (Train and Test sets)"
      ]
    },
    {
      "cell_type": "code",
      "metadata": {
        "id": "0Ik0FHKs_v8F"
      },
      "source": [
        "SPLIT = 0.70\n",
        "n = len(df)\n",
        "train_df = df[0:int(n * SPLIT)]\n",
        "test_df = df[int(n * SPLIT):]\n",
        "train_df.reset_index(inplace=True)\n",
        "test_df.reset_index(inplace=True)\n",
        "train_df_datetime = train_df.pop('Datetime')\n",
        "test_df_datetime = test_df.pop('Datetime')"
      ],
      "execution_count": 18,
      "outputs": []
    },
    {
      "cell_type": "code",
      "metadata": {
        "colab": {
          "base_uri": "https://localhost:8080/"
        },
        "id": "lWYQVYXE9k5D",
        "outputId": "a20ecf0f-4b3b-4e7c-8a63-9e60187d9de2"
      },
      "source": [
        "train_df_datetime[0]"
      ],
      "execution_count": 19,
      "outputs": [
        {
          "output_type": "execute_result",
          "data": {
            "text/plain": [
              "Timestamp('2017-01-01 00:59:00')"
            ]
          },
          "metadata": {},
          "execution_count": 19
        }
      ]
    },
    {
      "cell_type": "markdown",
      "metadata": {
        "id": "5ia22mOADdyU"
      },
      "source": [
        "### Saving Preprocessed Data\n"
      ]
    },
    {
      "cell_type": "code",
      "metadata": {
        "id": "lnNXPQ5rEOaC"
      },
      "source": [
        "train_df.to_csv(\"./train_df.csv\")\n",
        "test_df.to_csv(\"./test_df.csv\")\n",
        "train_df_datetime.to_csv(\"./train_df_datetime.csv\")\n",
        "test_df_datetime.to_csv(\"./test_df_datetime.csv\")"
      ],
      "execution_count": 20,
      "outputs": []
    },
    {
      "cell_type": "markdown",
      "metadata": {
        "id": "tteCG93xCbum"
      },
      "source": [
        "### Plotting The New Preprocessed Data Sets"
      ]
    },
    {
      "cell_type": "code",
      "metadata": {
        "colab": {
          "base_uri": "https://localhost:8080/",
          "height": 447
        },
        "id": "LvOXbRbGCl8D",
        "outputId": "89376d0f-bf03-4e9b-8b77-e95d042b152d"
      },
      "source": [
        "plt.figure(figsize=(15, 7))\n",
        "plt.plot(train_df_datetime, train_df,\n",
        "             label='Train_inputs')\n",
        "plt.plot(test_df_datetime , test_df,\n",
        "             label='Test_inputs', color='green')\n",
        "plt.legend()\n",
        "plt.plot()"
      ],
      "execution_count": 21,
      "outputs": [
        {
          "output_type": "execute_result",
          "data": {
            "text/plain": [
              "[]"
            ]
          },
          "metadata": {},
          "execution_count": 21
        },
        {
          "output_type": "display_data",
          "data": {
            "image/png": "[encoded data removed]",
            "text/plain": [
              "<Figure size 1080x504 with 1 Axes>"
            ]
          },
          "metadata": {
            "needs_background": "light"
          }
        }
      ]
    },
    {
      "cell_type": "markdown",
      "metadata": {
        "id": "YAU6muvK-nPJ"
      },
      "source": [
        "## Data Rescaling\n",
        "To reach a Neural Network convergetion, the data should be rescaled or normalized:"
      ]
    },
    {
      "cell_type": "code",
      "metadata": {
        "id": "puC3crXIH-_8"
      },
      "source": [
        "# To read the csv files generated during the Preprocessing\n",
        "train_df = pd.read_csv(\"./train_df.csv\", index_col=0)\n",
        "test_df = pd.read_csv(\"./test_df.csv\", index_col=0)\n",
        "train_df_datetime = pd.read_csv(\"./train_df_datetime.csv\", index_col=0)\n",
        "test_df_datetime = pd.read_csv(\"./test_df_datetime.csv\", index_col=0)\n",
        "train_df_datetime['Datetime'] = pd.to_datetime(train_df_datetime['Datetime'])\n",
        "test_df_datetime['Datetime'] = pd.to_datetime(test_df_datetime['Datetime'])\n",
        "train_df_datetime.set_index('Datetime', inplace=True)\n",
        "test_df_datetime.set_index('Datetime', inplace=True)"
      ],
      "execution_count": 22,
      "outputs": []
    },
    {
      "cell_type": "code",
      "metadata": {
        "id": "mmVZDo1J-mHX"
      },
      "source": [
        "def rescale_data(df, m_std):\n",
        "  '''Rescales or normalizes the dataframe with respect to the training mean\n",
        "     and standard deviation\n",
        "  Args:\n",
        "      df is the pandas dataframe to be rescaled\n",
        "      m_std is a tupple containing the training mean and standard deviation\n",
        "\n",
        "  Returns: the rescaled data frame\n",
        "  '''\n",
        "  return (df - m_std[0]) / m_std[1]"
      ],
      "execution_count": 23,
      "outputs": []
    },
    {
      "cell_type": "code",
      "metadata": {
        "id": "RdjJAYfLMk2W"
      },
      "source": [
        "def direscale_data(df, m_std):\n",
        "  '''Reverses the reescaling or normalization of the dataframe\n",
        "  Args:\n",
        "      df is the pandas dataframe to be direscaled\n",
        "      m_std is a tupple containing the training mean and standard deviation\n",
        "\n",
        "  Returns: the direscaled data frame\n",
        "  '''\n",
        "  return (df * m_std[1]) + m_std[0]"
      ],
      "execution_count": 24,
      "outputs": []
    },
    {
      "cell_type": "code",
      "metadata": {
        "id": "c9DntE-1NHS1"
      },
      "source": [
        "m_std = (train_df.mean(), train_df.std())"
      ],
      "execution_count": 25,
      "outputs": []
    },
    {
      "cell_type": "code",
      "metadata": {
        "id": "f8nWk6psBiVk"
      },
      "source": [
        "train_df = rescale_data(train_df, m_std)\n",
        "test_df = rescale_data(test_df, m_std)"
      ],
      "execution_count": 26,
      "outputs": []
    },
    {
      "cell_type": "markdown",
      "metadata": {
        "id": "ZFd50nnVEzJ4"
      },
      "source": [
        "## Modeling\n",
        "**IMPORTANT**: All the code in this section (Modeling) is heavily based on the Tensorflow Time Series Tutorial ([check it here](https://www.tensorflow.org/tutorials/structured_data/time_series)). All the credits for them.\n"
      ]
    },
    {
      "cell_type": "markdown",
      "metadata": {
        "id": "x72AKMlDE0fS"
      },
      "source": [
        "### Time windowing\n",
        "The model in this article will make a set of predictions based on a window of consecutive samples from the data.\n",
        "\n",
        "The main features of the input windows are:\n",
        "\n",
        "* The width (number of time steps) of the input and label windows.\n",
        "* The time offset between them.\n",
        "* Which features are used as inputs, labels, or both.\n",
        "\n",
        "For example, to make a single prediction 24 hours into the future, given 24 hours of history, you might define a window like this:\n",
        "![Time_Window](https://www.tensorflow.org/tutorials/structured_data/images/raw_window_24h.png)"
      ]
    },
    {
      "cell_type": "code",
      "metadata": {
        "id": "rhJrWRXmE4xz"
      },
      "source": [
        "class WindowGenerator():\n",
        "  def __init__(self, input_width, label_width, shift,\n",
        "               train_df=train_df, test_df=test_df,\n",
        "               label_columns=None):\n",
        "    # Store the raw data.\n",
        "    self.train_df = train_df\n",
        "    self.test_df = test_df\n",
        "\n",
        "    # Work out the label column indices.\n",
        "    self.label_columns = label_columns\n",
        "    if label_columns is not None:\n",
        "      self.label_columns_indices = {name: i for i, name in\n",
        "                                    enumerate(label_columns)}\n",
        "    self.column_indices = {name: i for i, name in\n",
        "                           enumerate(train_df.columns)}\n",
        "\n",
        "    # Work out the window parameters.\n",
        "    self.input_width = input_width\n",
        "    self.label_width = label_width\n",
        "    self.shift = shift\n",
        "\n",
        "    self.total_window_size = input_width + shift\n",
        "\n",
        "    self.input_slice = slice(0, input_width)\n",
        "    self.input_indices = np.arange(self.total_window_size)[self.input_slice]\n",
        "\n",
        "    self.label_start = self.total_window_size - self.label_width\n",
        "    self.labels_slice = slice(self.label_start, None)\n",
        "    self.label_indices = np.arange(self.total_window_size)[self.labels_slice]\n",
        "\n",
        "  def __repr__(self):\n",
        "    return '\\n'.join([\n",
        "        f'Total window size: {self.total_window_size}',\n",
        "        f'Input indices: {self.input_indices}',\n",
        "        f'Label indices: {self.label_indices}',\n",
        "        f'Label column name(s): {self.label_columns}'])"
      ],
      "execution_count": 27,
      "outputs": []
    },
    {
      "cell_type": "code",
      "metadata": {
        "id": "d47fCK-REvf2"
      },
      "source": [
        "def split_window(self, features):\n",
        "  inputs = features[:, self.input_slice, :]\n",
        "  labels = features[:, self.labels_slice, :]\n",
        "  if self.label_columns is not None:\n",
        "    labels = tf.stack(\n",
        "        [labels[:, :, self.column_indices[name]] for name in self.label_columns],\n",
        "        axis=-1)\n",
        "\n",
        "  # Slicing doesn't preserve static shape information, so set the shapes\n",
        "  # manually. This way the `tf.data.Datasets` are easier to inspect.\n",
        "  inputs.set_shape([None, self.input_width, None])\n",
        "  labels.set_shape([None, self.label_width, None])\n",
        "\n",
        "  return inputs, labels\n",
        "\n",
        "WindowGenerator.split_window = split_window"
      ],
      "execution_count": 28,
      "outputs": []
    },
    {
      "cell_type": "code",
      "metadata": {
        "id": "U0ARwxOgFQNS"
      },
      "source": [
        "def plot(self, model=None, plot_col='Close', max_subplots=4):\n",
        "  inputs, labels = self.example\n",
        "  plt.figure(figsize=(12, 16))\n",
        "  plot_col_index = self.column_indices[plot_col]\n",
        "  max_n = min(max_subplots, len(inputs))\n",
        "  for n in range(max_n):\n",
        "    plt.subplot(max_n, 1, n + 1)\n",
        "    plt.ylabel(f'{plot_col} [normed]')\n",
        "    plt.plot(self.input_indices, inputs[n, :, plot_col_index],\n",
        "             label='Inputs', marker='.', zorder=-10)\n",
        "\n",
        "    if self.label_columns:\n",
        "      label_col_index = self.label_columns_indices.get(plot_col, None)\n",
        "    else:\n",
        "      label_col_index = plot_col_index\n",
        "\n",
        "    if label_col_index is None:\n",
        "      continue\n",
        "\n",
        "    plt.scatter(self.label_indices, labels[n, :, label_col_index],\n",
        "                edgecolors='k', label='Labels', c='#2ca02c', s=64)\n",
        "    if model is not None:\n",
        "      predictions = model(inputs)\n",
        "      p_shape = predictions.shape\n",
        "      plt.scatter(self.label_indices, predictions[n, :, label_col_index],\n",
        "                  marker='X', edgecolors='k', label='Predictions',\n",
        "                  c='#ff7f0e', s=64)\n",
        " \n",
        "    if n == 0:\n",
        "      plt.legend()\n",
        "\n",
        "  plt.xlabel('Time [h]')\n",
        "\n",
        "WindowGenerator.plot = plot"
      ],
      "execution_count": 29,
      "outputs": []
    },
    {
      "cell_type": "code",
      "metadata": {
        "id": "kfK6HvVJFVJ0"
      },
      "source": [
        "def make_dataset(self, data):\n",
        "  data = np.array(data, dtype=np.float32)\n",
        "  ds = tf.keras.preprocessing.timeseries_dataset_from_array(\n",
        "      data=data,\n",
        "      targets=None,\n",
        "      sequence_length=self.total_window_size,\n",
        "      sequence_stride=1,\n",
        "      shuffle=True,\n",
        "      batch_size=64,)\n",
        "\n",
        "  ds = ds.map(self.split_window)\n",
        "\n",
        "  return ds\n",
        "\n",
        "WindowGenerator.make_dataset = make_dataset"
      ],
      "execution_count": 30,
      "outputs": []
    },
    {
      "cell_type": "markdown",
      "metadata": {
        "id": "p4sphkBTSA6G"
      },
      "source": [
        "One important thing to remark here, is the functionality of the tf.data.Dataset() configuration, or in this case the tf.keras.preprocessing.timeseries_dataset_from_array().\n",
        "\n",
        "\n",
        "I recommend you to check the Tensorflow Guide about [Datasets](https://www.tensorflow.org/guide/data#basic_mechanics), but in short words, what this does is to create an iterable object containing all the input dataset cropped in chunks of size equal to the batch_size, each one containing groups with length sequence_length of datapoints.\n",
        "\n",
        "\n",
        "For this example (this article) this method will return several chucks of data with shape (64, 25, 1), that later are mapped to be 2 sub groups, one with shape (64, 24, 1) and the other (64, 1, 1), this means chunks with shape [batch, time, features]"
      ]
    },
    {
      "cell_type": "code",
      "metadata": {
        "id": "3_JgRDumFbKg"
      },
      "source": [
        "@property\n",
        "def train(self):\n",
        "  return self.make_dataset(self.train_df)\n",
        "\n",
        "@property\n",
        "def test(self):\n",
        "  return self.make_dataset(self.test_df)\n",
        "\n",
        "@property\n",
        "def example(self):\n",
        "  \"\"\"Get and cache an example batch of `inputs, labels` for plotting.\"\"\"\n",
        "  result = getattr(self, '_example', None)\n",
        "  if result is None:\n",
        "    # No example batch was found, so get one from the `.train` dataset\n",
        "    result = next(iter(self.train))\n",
        "    # And cache it for next time\n",
        "    self._example = result\n",
        "  return result\n",
        "\n",
        "WindowGenerator.train = train\n",
        "WindowGenerator.test = test\n",
        "WindowGenerator.example = example"
      ],
      "execution_count": 31,
      "outputs": []
    },
    {
      "cell_type": "markdown",
      "metadata": {
        "id": "8uwlBCP1GnM1"
      },
      "source": [
        "### Model Design (Recurrent Neural Network)"
      ]
    },
    {
      "cell_type": "code",
      "metadata": {
        "id": "Y-XIEzNcGtRY"
      },
      "source": [
        "lstm_model = tf.keras.models.Sequential([\n",
        "    # Shape [batch, time, features] => [batch, time, lstm_units]\n",
        "    tf.keras.layers.LSTM(32, return_sequences=True),\n",
        "    tf.keras.layers.LSTM(64, return_sequences=True),\n",
        "    # Shape => [batch, time, features]\n",
        "    tf.keras.layers.Dense(units=1),\n",
        "    #tf.keras.layers.Reshape([1, -1])\n",
        "])"
      ],
      "execution_count": 32,
      "outputs": []
    },
    {
      "cell_type": "markdown",
      "metadata": {
        "id": "QU3q6_CRO5l7"
      },
      "source": [
        "Since all of the LSTM layers have set \n",
        "\n",
        "```\n",
        "return_sequences=True\n",
        "```\n",
        "the layer returns an output for each input. This is useful for:\n",
        "* Stacking RNN layers.\n",
        "* Training a model on multiple time steps simultaneously.\n",
        "\n",
        "As you can see, we have two stacked LSTM layers, and when the model is trained you will see a Plot of batch samples, where there is outputs for each input.\n",
        "\n",
        "![LSTM_Windows](https://www.tensorflow.org/tutorials/structured_data/images/lstm_many_window.png)\n"
      ]
    },
    {
      "cell_type": "markdown",
      "metadata": {
        "id": "5qualnyLG0Aa"
      },
      "source": [
        "### Model Training"
      ]
    },
    {
      "cell_type": "markdown",
      "metadata": {
        "id": "GU5PfIPMQKNF"
      },
      "source": [
        "Here is defined the function to compile and train the model:"
      ]
    },
    {
      "cell_type": "code",
      "metadata": {
        "id": "zpFyVyQvG47z"
      },
      "source": [
        "MAX_EPOCHS = 50\n",
        "\n",
        "def compile_and_fit(model, window, patience=5):\n",
        "  early_stopping = tf.keras.callbacks.EarlyStopping(monitor='val_loss',\n",
        "                                                    patience=patience,\n",
        "                                                    mode='min')\n",
        "\n",
        "  model.compile(loss=tf.losses.MeanSquaredError(),\n",
        "                optimizer=tf.optimizers.Adam(),\n",
        "                metrics=[tf.metrics.MeanAbsoluteError()])\n",
        "\n",
        "  history = model.fit(window.train, epochs=MAX_EPOCHS,\n",
        "                      validation_data=window.test,\n",
        "                      callbacks=[early_stopping])\n",
        "  return history                     "
      ],
      "execution_count": 33,
      "outputs": []
    },
    {
      "cell_type": "markdown",
      "metadata": {
        "id": "mraFgX46QX6P"
      },
      "source": [
        "Now a WindowGenerator instance is created:"
      ]
    },
    {
      "cell_type": "code",
      "metadata": {
        "colab": {
          "base_uri": "https://localhost:8080/"
        },
        "id": "-uhjGNxAIV97",
        "outputId": "90c80832-4e8e-4b91-fb32-84a538d3c225"
      },
      "source": [
        "wide_window = WindowGenerator(\n",
        "    input_width=24, label_width=24, shift=1,\n",
        "    label_columns=['Close'])\n",
        "\n",
        "wide_window"
      ],
      "execution_count": 34,
      "outputs": [
        {
          "output_type": "execute_result",
          "data": {
            "text/plain": [
              "Total window size: 25\n",
              "Input indices: [ 0  1  2  3  4  5  6  7  8  9 10 11 12 13 14 15 16 17 18 19 20 21 22 23]\n",
              "Label indices: [ 1  2  3  4  5  6  7  8  9 10 11 12 13 14 15 16 17 18 19 20 21 22 23 24]\n",
              "Label column name(s): ['Close']"
            ]
          },
          "metadata": {},
          "execution_count": 34
        }
      ]
    },
    {
      "cell_type": "markdown",
      "metadata": {
        "id": "_7Z5fqFoQfKl"
      },
      "source": [
        "Time to train de model!!"
      ]
    },
    {
      "cell_type": "code",
      "metadata": {
        "colab": {
          "base_uri": "https://localhost:8080/"
        },
        "id": "HZpLqmCyHSTg",
        "outputId": "3eb48cfb-b5af-49cb-f4a2-783d00152ad9"
      },
      "source": [
        "if (not os.path.exists('./bitcoin_prediction.h5')):\n",
        "    history = compile_and_fit(lstm_model, wide_window)\n",
        "    lstm_model.save('./bitcoin_prediction.h5')\n",
        "else:\n",
        "    lstm_model = tf.keras.models.load_model('./bitcoin_prediction.h5')"
      ],
      "execution_count": 35,
      "outputs": [
        {
          "output_type": "stream",
          "name": "stdout",
          "text": [
            "Epoch 1/50\n",
            "194/194 [==============================] - 13s 47ms/step - loss: 0.1048 - mean_absolute_error: 0.1677 - val_loss: 0.0042 - val_mean_absolute_error: 0.0341\n",
            "Epoch 2/50\n",
            "194/194 [==============================] - 8s 41ms/step - loss: 0.0220 - mean_absolute_error: 0.0610 - val_loss: 0.0017 - val_mean_absolute_error: 0.0212\n",
            "Epoch 3/50\n",
            "194/194 [==============================] - 8s 43ms/step - loss: 0.0062 - mean_absolute_error: 0.0342 - val_loss: 7.2873e-04 - val_mean_absolute_error: 0.0140\n",
            "Epoch 4/50\n",
            "194/194 [==============================] - 8s 42ms/step - loss: 0.0021 - mean_absolute_error: 0.0221 - val_loss: 5.7062e-04 - val_mean_absolute_error: 0.0116\n",
            "Epoch 5/50\n",
            "194/194 [==============================] - 8s 43ms/step - loss: 0.0011 - mean_absolute_error: 0.0175 - val_loss: 3.8034e-04 - val_mean_absolute_error: 0.0094\n",
            "Epoch 6/50\n",
            "194/194 [==============================] - 8s 42ms/step - loss: 7.7737e-04 - mean_absolute_error: 0.0149 - val_loss: 2.6536e-04 - val_mean_absolute_error: 0.0088\n",
            "Epoch 7/50\n",
            "194/194 [==============================] - 8s 43ms/step - loss: 6.9545e-04 - mean_absolute_error: 0.0138 - val_loss: 2.0313e-04 - val_mean_absolute_error: 0.0077\n",
            "Epoch 8/50\n",
            "194/194 [==============================] - 8s 42ms/step - loss: 6.7025e-04 - mean_absolute_error: 0.0134 - val_loss: 1.7307e-04 - val_mean_absolute_error: 0.0071\n",
            "Epoch 9/50\n",
            "194/194 [==============================] - 8s 43ms/step - loss: 6.5400e-04 - mean_absolute_error: 0.0131 - val_loss: 1.5650e-04 - val_mean_absolute_error: 0.0068\n",
            "Epoch 10/50\n",
            "194/194 [==============================] - 8s 43ms/step - loss: 6.4578e-04 - mean_absolute_error: 0.0132 - val_loss: 1.5097e-04 - val_mean_absolute_error: 0.0071\n",
            "Epoch 11/50\n",
            "194/194 [==============================] - 9s 44ms/step - loss: 6.3381e-04 - mean_absolute_error: 0.0130 - val_loss: 1.3753e-04 - val_mean_absolute_error: 0.0064\n",
            "Epoch 12/50\n",
            "194/194 [==============================] - 8s 43ms/step - loss: 6.2659e-04 - mean_absolute_error: 0.0130 - val_loss: 1.4232e-04 - val_mean_absolute_error: 0.0071\n",
            "Epoch 13/50\n",
            "194/194 [==============================] - 8s 42ms/step - loss: 6.2293e-04 - mean_absolute_error: 0.0131 - val_loss: 1.6091e-04 - val_mean_absolute_error: 0.0087\n",
            "Epoch 14/50\n",
            "194/194 [==============================] - 8s 43ms/step - loss: 6.1224e-04 - mean_absolute_error: 0.0130 - val_loss: 1.3112e-04 - val_mean_absolute_error: 0.0069\n",
            "Epoch 15/50\n",
            "194/194 [==============================] - 8s 42ms/step - loss: 6.1234e-04 - mean_absolute_error: 0.0131 - val_loss: 1.1521e-04 - val_mean_absolute_error: 0.0061\n",
            "Epoch 16/50\n",
            "194/194 [==============================] - 9s 44ms/step - loss: 5.9293e-04 - mean_absolute_error: 0.0125 - val_loss: 1.1004e-04 - val_mean_absolute_error: 0.0060\n",
            "Epoch 17/50\n",
            "194/194 [==============================] - 8s 41ms/step - loss: 5.8402e-04 - mean_absolute_error: 0.0123 - val_loss: 1.0910e-04 - val_mean_absolute_error: 0.0063\n",
            "Epoch 18/50\n",
            "194/194 [==============================] - 9s 44ms/step - loss: 5.7980e-04 - mean_absolute_error: 0.0124 - val_loss: 1.0336e-04 - val_mean_absolute_error: 0.0058\n",
            "Epoch 19/50\n",
            "194/194 [==============================] - 8s 42ms/step - loss: 5.8434e-04 - mean_absolute_error: 0.0128 - val_loss: 1.0753e-04 - val_mean_absolute_error: 0.0065\n",
            "Epoch 20/50\n",
            "194/194 [==============================] - 8s 43ms/step - loss: 5.6750e-04 - mean_absolute_error: 0.0122 - val_loss: 9.4085e-05 - val_mean_absolute_error: 0.0055\n",
            "Epoch 21/50\n",
            "194/194 [==============================] - 8s 41ms/step - loss: 5.7007e-04 - mean_absolute_error: 0.0123 - val_loss: 1.0215e-04 - val_mean_absolute_error: 0.0064\n",
            "Epoch 22/50\n",
            "194/194 [==============================] - 8s 43ms/step - loss: 5.6809e-04 - mean_absolute_error: 0.0124 - val_loss: 9.9117e-05 - val_mean_absolute_error: 0.0062\n",
            "Epoch 23/50\n",
            "194/194 [==============================] - 8s 43ms/step - loss: 5.6510e-04 - mean_absolute_error: 0.0123 - val_loss: 8.8939e-05 - val_mean_absolute_error: 0.0054\n",
            "Epoch 24/50\n",
            "194/194 [==============================] - 8s 42ms/step - loss: 5.5905e-04 - mean_absolute_error: 0.0120 - val_loss: 9.0154e-05 - val_mean_absolute_error: 0.0055\n",
            "Epoch 25/50\n",
            "194/194 [==============================] - 9s 44ms/step - loss: 5.6205e-04 - mean_absolute_error: 0.0122 - val_loss: 8.8719e-05 - val_mean_absolute_error: 0.0054\n",
            "Epoch 26/50\n",
            "194/194 [==============================] - 8s 41ms/step - loss: 5.5218e-04 - mean_absolute_error: 0.0117 - val_loss: 1.6044e-04 - val_mean_absolute_error: 0.0099\n",
            "Epoch 27/50\n",
            "194/194 [==============================] - 8s 42ms/step - loss: 5.7075e-04 - mean_absolute_error: 0.0124 - val_loss: 9.4337e-05 - val_mean_absolute_error: 0.0059\n",
            "Epoch 28/50\n",
            "194/194 [==============================] - 8s 43ms/step - loss: 5.6057e-04 - mean_absolute_error: 0.0122 - val_loss: 8.7006e-05 - val_mean_absolute_error: 0.0053\n",
            "Epoch 29/50\n",
            "194/194 [==============================] - 8s 43ms/step - loss: 5.6059e-04 - mean_absolute_error: 0.0123 - val_loss: 1.4862e-04 - val_mean_absolute_error: 0.0094\n",
            "Epoch 30/50\n",
            "194/194 [==============================] - 8s 43ms/step - loss: 5.6033e-04 - mean_absolute_error: 0.0122 - val_loss: 8.5370e-05 - val_mean_absolute_error: 0.0052\n",
            "Epoch 31/50\n",
            "194/194 [==============================] - 8s 44ms/step - loss: 5.6004e-04 - mean_absolute_error: 0.0121 - val_loss: 1.2655e-04 - val_mean_absolute_error: 0.0081\n",
            "Epoch 32/50\n",
            "194/194 [==============================] - 8s 43ms/step - loss: 5.6450e-04 - mean_absolute_error: 0.0121 - val_loss: 1.0357e-04 - val_mean_absolute_error: 0.0066\n",
            "Epoch 33/50\n",
            "194/194 [==============================] - 8s 42ms/step - loss: 5.6081e-04 - mean_absolute_error: 0.0121 - val_loss: 8.6728e-05 - val_mean_absolute_error: 0.0052\n",
            "Epoch 34/50\n",
            "194/194 [==============================] - 9s 44ms/step - loss: 5.6960e-04 - mean_absolute_error: 0.0124 - val_loss: 8.9641e-05 - val_mean_absolute_error: 0.0055\n",
            "Epoch 35/50\n",
            "194/194 [==============================] - 8s 43ms/step - loss: 5.7713e-04 - mean_absolute_error: 0.0125 - val_loss: 8.5138e-05 - val_mean_absolute_error: 0.0051\n",
            "Epoch 36/50\n",
            "194/194 [==============================] - 8s 43ms/step - loss: 5.4831e-04 - mean_absolute_error: 0.0116 - val_loss: 9.1546e-05 - val_mean_absolute_error: 0.0057\n",
            "Epoch 37/50\n",
            "194/194 [==============================] - 8s 42ms/step - loss: 5.5444e-04 - mean_absolute_error: 0.0117 - val_loss: 1.0264e-04 - val_mean_absolute_error: 0.0066\n",
            "Epoch 38/50\n",
            "194/194 [==============================] - 8s 43ms/step - loss: 5.6281e-04 - mean_absolute_error: 0.0123 - val_loss: 8.6655e-05 - val_mean_absolute_error: 0.0053\n",
            "Epoch 39/50\n",
            "194/194 [==============================] - 9s 44ms/step - loss: 5.6321e-04 - mean_absolute_error: 0.0120 - val_loss: 9.2563e-05 - val_mean_absolute_error: 0.0058\n",
            "Epoch 40/50\n",
            "194/194 [==============================] - 8s 43ms/step - loss: 5.5223e-04 - mean_absolute_error: 0.0118 - val_loss: 8.5686e-05 - val_mean_absolute_error: 0.0052\n"
          ]
        }
      ]
    },
    {
      "cell_type": "markdown",
      "metadata": {
        "id": "LOCCOOM2HmEW"
      },
      "source": [
        "### Plotting Training Results"
      ]
    },
    {
      "cell_type": "code",
      "metadata": {
        "colab": {
          "base_uri": "https://localhost:8080/",
          "height": 932
        },
        "id": "ZsXTTIACHk8i",
        "outputId": "1f0da309-f8a0-4d3b-b3c6-c428933ca498"
      },
      "source": [
        "wide_window.plot(lstm_model)"
      ],
      "execution_count": 36,
      "outputs": [
        {
          "output_type": "display_data",
          "data": {
            "image/png": "[encoded data removed]",
            "text/plain": [
              "<Figure size 864x1152 with 4 Axes>"
            ]
          },
          "metadata": {
            "needs_background": "light"
          }
        }
      ]
    },
    {
      "cell_type": "markdown",
      "metadata": {
        "id": "mzgrdZ2bQkyt"
      },
      "source": [
        "In the above image we can find 4 different examples of 4 different batches of 24 inputs, 24 outputs and 24 labels. As we discuss earlier, this 24 outputs and labels are here because we set return_sequences=True when we were designing the model.\n",
        "\n",
        "As you can see, even when the predictions are not equal to the labels, they are close enough to move to the prediction of all our test dataset."
      ]
    },
    {
      "cell_type": "markdown",
      "metadata": {
        "id": "y399xG-RLjab"
      },
      "source": [
        "## Predicting"
      ]
    },
    {
      "cell_type": "markdown",
      "metadata": {
        "id": "-rmLEeX6Lna3"
      },
      "source": [
        "### Running Predictions"
      ]
    },
    {
      "cell_type": "code",
      "metadata": {
        "id": "YsYB4QGcNliy"
      },
      "source": [
        "predictions = lstm_model.predict(\n",
        "    tf.keras.preprocessing.timeseries_dataset_from_array(\n",
        "      data= test_df,\n",
        "      targets=None,\n",
        "      sequence_length=wide_window.input_width,\n",
        "      sequence_stride=1,\n",
        "      shuffle=False,\n",
        "      batch_size=1,)\n",
        ")"
      ],
      "execution_count": 37,
      "outputs": []
    },
    {
      "cell_type": "code",
      "metadata": {
        "id": "J3ie71QSOD95"
      },
      "source": [
        "outputs = predictions[:, -1:,:]\n",
        "new_shape = (outputs.shape[0], outputs.shape[1])"
      ],
      "execution_count": 38,
      "outputs": []
    },
    {
      "cell_type": "code",
      "metadata": {
        "id": "feROaYMPOKcg"
      },
      "source": [
        "df_preds2_test = pd.DataFrame(\n",
        "    data=outputs.reshape(new_shape),\n",
        "    columns=['Close'],\n",
        ")  "
      ],
      "execution_count": 39,
      "outputs": []
    },
    {
      "cell_type": "code",
      "metadata": {
        "id": "IvzB8AJnOU3W"
      },
      "source": [
        "df_preds_test = pd.DataFrame(np.nan, index=range(24), columns=['Close'])\n",
        "df_preds_test = df_preds_test.append(df_preds2_test)\n",
        "idx_start = test_df.index[0]\n",
        "idx_end = test_df.index[-1]\n",
        "df_preds_test['idxs'] = range(idx_start, idx_end + 2)\n",
        "df_preds_test.set_index(keys='idxs', drop=True, inplace=True)"
      ],
      "execution_count": 40,
      "outputs": []
    },
    {
      "cell_type": "markdown",
      "metadata": {
        "id": "I85YnH-4Vsfk"
      },
      "source": [
        "In this sub section, we passed to the model all the Test dataset to predict the next value every 24 hours. For that matter and in order to enable or facilitate the plotting of this results, we did this steps:\n",
        "\n",
        "* Pass the dataset to the model\n",
        "* Create a dataframe with the outputs\n",
        "* Insert 24 NaN values at the beginning of the time serie"
      ]
    },
    {
      "cell_type": "markdown",
      "metadata": {
        "id": "LZ9IpLDF69A8"
      },
      "source": [
        "### Plotting Predictions"
      ]
    },
    {
      "cell_type": "code",
      "metadata": {
        "id": "BkFlV7kCLrig"
      },
      "source": [
        "# Return the data to is original scale\n",
        "test_df = direscale_data(test_df, m_std)\n",
        "df_preds_test = direscale_data(df_preds_test, m_std)"
      ],
      "execution_count": 41,
      "outputs": []
    },
    {
      "cell_type": "code",
      "metadata": {
        "colab": {
          "base_uri": "https://localhost:8080/",
          "height": 461
        },
        "id": "-aqoa3GUOeHl",
        "outputId": "90701263-8d59-4f00-b70e-f3d6d119c707"
      },
      "source": [
        "# Plot a sample section of the data set\n",
        "plt.figure(figsize=(15, 7))\n",
        "days = 7\n",
        "hours = days * 24\n",
        "plt.plot(test_df_datetime.index[-hours:], test_df[-hours:], label='Inputs', marker='.')\n",
        "plt.plot(test_df_datetime.index[-hours:], df_preds_test[-hours - 1:-1], label='Predictions', marker='.')\n",
        "plt.xlabel('Time (H)')\n",
        "plt.ylabel('Price $USD')\n",
        "plt.legend()\n",
        "plt.plot()"
      ],
      "execution_count": 42,
      "outputs": [
        {
          "output_type": "execute_result",
          "data": {
            "text/plain": [
              "[]"
            ]
          },
          "metadata": {},
          "execution_count": 42
        },
        {
          "output_type": "display_data",
          "data": {
            "image/png": "[encoded data removed]",
            "text/plain": [
              "<Figure size 1080x504 with 1 Axes>"
            ]
          },
          "metadata": {
            "needs_background": "light"
          }
        }
      ]
    },
    {
      "cell_type": "markdown",
      "metadata": {
        "id": "8HByl0jTXDNe"
      },
      "source": [
        "## Conclusion\n",
        "\n",
        "After all of this code we see and approach of using Recurrent Neural Networks and specifically the Long Short-Term Memory architecture trying to forecast the Bitcoin Prices and we know now this is not a simple task. And even when the last plot shows us interesting results, if you stay and watch it for a little more time, you can realize a pattern in there, you can see the predictions behave almost equal as the inputs does, with the difference they seem to be shifted one period to the right, and for me this is quite disappointing.\n",
        "\n",
        "There could be several reasons for this to happened, but one that satisfies my enough is this one: **\"Running the data on a single point-by-point prediction as mentioned above gives something that matches the returns pretty closely. But this is slightly deceptive. Upon a closer examination, the prediction line is made up of singular prediction points that have had the whole prior true history window behind them. Because of that, the network doesn't need to know much about the time series itself other than that each next point most likely won't be too far from the last point\"** you can find the original article [here](https://www.altumintelligence.com/articles/a/Time-Series-Prediction-Using-LSTM-Deep-Neural-Networks).\n",
        "\n",
        "This is just one of the many applications of RNNs, so I hope to keep looking after new opportunities to apply this technology. Thanks."
      ]
    }
  ]
}