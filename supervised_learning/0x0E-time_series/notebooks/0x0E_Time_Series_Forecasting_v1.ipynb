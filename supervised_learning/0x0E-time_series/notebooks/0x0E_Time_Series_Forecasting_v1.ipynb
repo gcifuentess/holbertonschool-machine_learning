{
  "nbformat": 4,
  "nbformat_minor": 0,
  "metadata": {
    "colab": {
      "name": "0x0E. Time Series Forecasting.ipynb",
      "provenance": []
    },
    "kernelspec": {
      "name": "python3",
      "display_name": "Python 3"
    },
    "language_info": {
      "name": "python"
    }
  },
  "cells": [
    {
      "cell_type": "markdown",
      "metadata": {
        "id": "BN1N3wGU6rdy"
      },
      "source": [
        "# **Bitcoin Forecasting**"
      ]
    },
    {
      "cell_type": "markdown",
      "metadata": {
        "id": "_7swe3y-69uM"
      },
      "source": [
        "## Setup"
      ]
    },
    {
      "cell_type": "code",
      "metadata": {
        "id": "IRb2jwd2_CGH"
      },
      "source": [
        "# %tensorflow_version 1.x"
      ],
      "execution_count": null,
      "outputs": []
    },
    {
      "cell_type": "code",
      "metadata": {
        "id": "9Hdh-ize6vf9"
      },
      "source": [
        "import os\n",
        "import datetime\n",
        "\n",
        "import IPython\n",
        "import IPython.display\n",
        "import matplotlib as mpl\n",
        "import matplotlib.pyplot as plt\n",
        "import numpy as np\n",
        "import pandas as pd\n",
        "import seaborn as sns\n",
        "import tensorflow as tf\n",
        "\n",
        "mpl.rcParams['figure.figsize'] = (8, 6)\n",
        "mpl.rcParams['axes.grid'] = False"
      ],
      "execution_count": null,
      "outputs": []
    },
    {
      "cell_type": "markdown",
      "metadata": {
        "id": "EbyIXXAO6-_G"
      },
      "source": [
        "## Importing data"
      ]
    },
    {
      "cell_type": "code",
      "metadata": {
        "colab": {
          "base_uri": "https://localhost:8080/"
        },
        "id": "RoYmooLZ7Ftr",
        "outputId": "b1630e14-4548-4dd2-fbbc-ddbaf721cb1e"
      },
      "source": [
        "from google.colab import drive\n",
        "drive.mount(\"/content/drive\")"
      ],
      "execution_count": null,
      "outputs": [
        {
          "output_type": "stream",
          "name": "stdout",
          "text": [
            "Mounted at /content/drive\n"
          ]
        }
      ]
    },
    {
      "cell_type": "code",
      "metadata": {
        "id": "ZneF-1ck-rFS"
      },
      "source": [
        "!cp /content/drive/MyDrive/Colab\\ Notebooks/bitstampUSD_1-min_data_2012-01-01_to_2020-04-22.csv.zip ./\n",
        "!cp /content/drive/MyDrive/Colab\\ Notebooks/coinbaseUSD_1-min_data_2014-12-01_to_2019-01-09.csv.zip ./"
      ],
      "execution_count": null,
      "outputs": []
    },
    {
      "cell_type": "code",
      "metadata": {
        "id": "Oblil5jt-85s"
      },
      "source": [
        "# optional - if previous cells didn't work\n",
        "#from google.colab import files\n",
        "#uploaded = files.upload()"
      ],
      "execution_count": null,
      "outputs": []
    },
    {
      "cell_type": "code",
      "metadata": {
        "id": "5DSVJpJfCi94",
        "colab": {
          "base_uri": "https://localhost:8080/"
        },
        "outputId": "6646b47a-8459-4313-bf88-eac5e8c318de"
      },
      "source": [
        "!unzip \"./bitstampUSD_1-min_data_2012-01-01_to_2020-04-22.csv.zip\"\n",
        "!unzip \"./coinbaseUSD_1-min_data_2014-12-01_to_2019-01-09.csv.zip\""
      ],
      "execution_count": null,
      "outputs": [
        {
          "output_type": "stream",
          "name": "stdout",
          "text": [
            "Archive:  ./bitstampUSD_1-min_data_2012-01-01_to_2020-04-22.csv.zip\n",
            "  inflating: bitstampUSD_1-min_data_2012-01-01_to_2020-04-22.csv  \n",
            "Archive:  ./coinbaseUSD_1-min_data_2014-12-01_to_2019-01-09.csv.zip\n",
            "  inflating: coinbaseUSD_1-min_data_2014-12-01_to_2019-01-09.csv  \n"
          ]
        }
      ]
    },
    {
      "cell_type": "code",
      "metadata": {
        "id": "nw5WmDJW6hIs"
      },
      "source": [
        "csv_path_bitstamp = \"./bitstampUSD_1-min_data_2012-01-01_to_2020-04-22.csv\"\n",
        "csv_path_coinbase = \"./coinbaseUSD_1-min_data_2014-12-01_to_2019-01-09.csv\"\n",
        "df_bitstamp = pd.read_csv(csv_path_bitstamp)\n",
        "df_coinbase = pd.read_csv(csv_path_coinbase)"
      ],
      "execution_count": null,
      "outputs": []
    },
    {
      "cell_type": "code",
      "metadata": {
        "colab": {
          "base_uri": "https://localhost:8080/",
          "height": 204
        },
        "id": "C4NVw8YOEDWr",
        "outputId": "2f6b667a-1f33-47fd-d661-be2104643803"
      },
      "source": [
        "df_bitstamp.head()"
      ],
      "execution_count": null,
      "outputs": [
        {
          "output_type": "execute_result",
          "data": {
            "text/html": [
              "<div>\n",
              "<style scoped>\n",
              "    .dataframe tbody tr th:only-of-type {\n",
              "        vertical-align: middle;\n",
              "    }\n",
              "\n",
              "    .dataframe tbody tr th {\n",
              "        vertical-align: top;\n",
              "    }\n",
              "\n",
              "    .dataframe thead th {\n",
              "        text-align: right;\n",
              "    }\n",
              "</style>\n",
              "<table border=\"1\" class=\"dataframe\">\n",
              "  <thead>\n",
              "    <tr style=\"text-align: right;\">\n",
              "      <th></th>\n",
              "      <th>Timestamp</th>\n",
              "      <th>Open</th>\n",
              "      <th>High</th>\n",
              "      <th>Low</th>\n",
              "      <th>Close</th>\n",
              "      <th>Volume_(BTC)</th>\n",
              "      <th>Volume_(Currency)</th>\n",
              "      <th>Weighted_Price</th>\n",
              "    </tr>\n",
              "  </thead>\n",
              "  <tbody>\n",
              "    <tr>\n",
              "      <th>0</th>\n",
              "      <td>1325317920</td>\n",
              "      <td>4.39</td>\n",
              "      <td>4.39</td>\n",
              "      <td>4.39</td>\n",
              "      <td>4.39</td>\n",
              "      <td>0.455581</td>\n",
              "      <td>2.0</td>\n",
              "      <td>4.39</td>\n",
              "    </tr>\n",
              "    <tr>\n",
              "      <th>1</th>\n",
              "      <td>1325317980</td>\n",
              "      <td>NaN</td>\n",
              "      <td>NaN</td>\n",
              "      <td>NaN</td>\n",
              "      <td>NaN</td>\n",
              "      <td>NaN</td>\n",
              "      <td>NaN</td>\n",
              "      <td>NaN</td>\n",
              "    </tr>\n",
              "    <tr>\n",
              "      <th>2</th>\n",
              "      <td>1325318040</td>\n",
              "      <td>NaN</td>\n",
              "      <td>NaN</td>\n",
              "      <td>NaN</td>\n",
              "      <td>NaN</td>\n",
              "      <td>NaN</td>\n",
              "      <td>NaN</td>\n",
              "      <td>NaN</td>\n",
              "    </tr>\n",
              "    <tr>\n",
              "      <th>3</th>\n",
              "      <td>1325318100</td>\n",
              "      <td>NaN</td>\n",
              "      <td>NaN</td>\n",
              "      <td>NaN</td>\n",
              "      <td>NaN</td>\n",
              "      <td>NaN</td>\n",
              "      <td>NaN</td>\n",
              "      <td>NaN</td>\n",
              "    </tr>\n",
              "    <tr>\n",
              "      <th>4</th>\n",
              "      <td>1325318160</td>\n",
              "      <td>NaN</td>\n",
              "      <td>NaN</td>\n",
              "      <td>NaN</td>\n",
              "      <td>NaN</td>\n",
              "      <td>NaN</td>\n",
              "      <td>NaN</td>\n",
              "      <td>NaN</td>\n",
              "    </tr>\n",
              "  </tbody>\n",
              "</table>\n",
              "</div>"
            ],
            "text/plain": [
              "    Timestamp  Open  High  ...  Volume_(BTC)  Volume_(Currency)  Weighted_Price\n",
              "0  1325317920  4.39  4.39  ...      0.455581                2.0            4.39\n",
              "1  1325317980   NaN   NaN  ...           NaN                NaN             NaN\n",
              "2  1325318040   NaN   NaN  ...           NaN                NaN             NaN\n",
              "3  1325318100   NaN   NaN  ...           NaN                NaN             NaN\n",
              "4  1325318160   NaN   NaN  ...           NaN                NaN             NaN\n",
              "\n",
              "[5 rows x 8 columns]"
            ]
          },
          "metadata": {},
          "execution_count": 8
        }
      ]
    },
    {
      "cell_type": "code",
      "metadata": {
        "colab": {
          "base_uri": "https://localhost:8080/",
          "height": 204
        },
        "id": "WOXAymKsEK0e",
        "outputId": "d393580e-e679-47b0-9bfa-2c22026e8212"
      },
      "source": [
        "df_coinbase.head()"
      ],
      "execution_count": null,
      "outputs": [
        {
          "output_type": "execute_result",
          "data": {
            "text/html": [
              "<div>\n",
              "<style scoped>\n",
              "    .dataframe tbody tr th:only-of-type {\n",
              "        vertical-align: middle;\n",
              "    }\n",
              "\n",
              "    .dataframe tbody tr th {\n",
              "        vertical-align: top;\n",
              "    }\n",
              "\n",
              "    .dataframe thead th {\n",
              "        text-align: right;\n",
              "    }\n",
              "</style>\n",
              "<table border=\"1\" class=\"dataframe\">\n",
              "  <thead>\n",
              "    <tr style=\"text-align: right;\">\n",
              "      <th></th>\n",
              "      <th>Timestamp</th>\n",
              "      <th>Open</th>\n",
              "      <th>High</th>\n",
              "      <th>Low</th>\n",
              "      <th>Close</th>\n",
              "      <th>Volume_(BTC)</th>\n",
              "      <th>Volume_(Currency)</th>\n",
              "      <th>Weighted_Price</th>\n",
              "    </tr>\n",
              "  </thead>\n",
              "  <tbody>\n",
              "    <tr>\n",
              "      <th>0</th>\n",
              "      <td>1417411980</td>\n",
              "      <td>300.0</td>\n",
              "      <td>300.0</td>\n",
              "      <td>300.0</td>\n",
              "      <td>300.0</td>\n",
              "      <td>0.01</td>\n",
              "      <td>3.0</td>\n",
              "      <td>300.0</td>\n",
              "    </tr>\n",
              "    <tr>\n",
              "      <th>1</th>\n",
              "      <td>1417412040</td>\n",
              "      <td>NaN</td>\n",
              "      <td>NaN</td>\n",
              "      <td>NaN</td>\n",
              "      <td>NaN</td>\n",
              "      <td>NaN</td>\n",
              "      <td>NaN</td>\n",
              "      <td>NaN</td>\n",
              "    </tr>\n",
              "    <tr>\n",
              "      <th>2</th>\n",
              "      <td>1417412100</td>\n",
              "      <td>NaN</td>\n",
              "      <td>NaN</td>\n",
              "      <td>NaN</td>\n",
              "      <td>NaN</td>\n",
              "      <td>NaN</td>\n",
              "      <td>NaN</td>\n",
              "      <td>NaN</td>\n",
              "    </tr>\n",
              "    <tr>\n",
              "      <th>3</th>\n",
              "      <td>1417412160</td>\n",
              "      <td>NaN</td>\n",
              "      <td>NaN</td>\n",
              "      <td>NaN</td>\n",
              "      <td>NaN</td>\n",
              "      <td>NaN</td>\n",
              "      <td>NaN</td>\n",
              "      <td>NaN</td>\n",
              "    </tr>\n",
              "    <tr>\n",
              "      <th>4</th>\n",
              "      <td>1417412220</td>\n",
              "      <td>NaN</td>\n",
              "      <td>NaN</td>\n",
              "      <td>NaN</td>\n",
              "      <td>NaN</td>\n",
              "      <td>NaN</td>\n",
              "      <td>NaN</td>\n",
              "      <td>NaN</td>\n",
              "    </tr>\n",
              "  </tbody>\n",
              "</table>\n",
              "</div>"
            ],
            "text/plain": [
              "    Timestamp   Open   High  ...  Volume_(BTC)  Volume_(Currency)  Weighted_Price\n",
              "0  1417411980  300.0  300.0  ...          0.01                3.0           300.0\n",
              "1  1417412040    NaN    NaN  ...           NaN                NaN             NaN\n",
              "2  1417412100    NaN    NaN  ...           NaN                NaN             NaN\n",
              "3  1417412160    NaN    NaN  ...           NaN                NaN             NaN\n",
              "4  1417412220    NaN    NaN  ...           NaN                NaN             NaN\n",
              "\n",
              "[5 rows x 8 columns]"
            ]
          },
          "metadata": {},
          "execution_count": 9
        }
      ]
    },
    {
      "cell_type": "code",
      "metadata": {
        "id": "QauIvbRRPDrf"
      },
      "source": [
        "columns_to_drop = [\"Open\", \"High\",\t\"Low\",\t\"Volume_(BTC)\",\t\"Volume_(Currency)\",\t\"Weighted_Price\"]\n",
        "df_bitstamp.drop([col for col in columns_to_drop if col in df_bitstamp.columns], axis=1, inplace=True)\n",
        "df_coinbase.drop([col for col in columns_to_drop if col in df_coinbase.columns], axis=1, inplace=True)\n",
        "# df_bitstamp.dropna(inplace=True)\n",
        "# df_coinbase.dropna(inplace=True)"
      ],
      "execution_count": null,
      "outputs": []
    },
    {
      "cell_type": "code",
      "metadata": {
        "id": "b_ZOYoNPJ0Rj"
      },
      "source": [
        "df_bitstamp['Timestamp'] = pd.to_datetime(df_bitstamp[\"Timestamp\"], unit='s')\n",
        "df_coinbase['Timestamp'] = pd.to_datetime(df_coinbase[\"Timestamp\"], unit='s')\n",
        "df_bitstamp.rename(columns={'Timestamp': 'Datetime'}, inplace=True)\n",
        "df_coinbase.rename(columns={'Timestamp': 'Datetime'}, inplace=True)\n",
        "# df['Timestamp'] = pd.to_datetime(df[\"Timestamp\"], unit='s')\n",
        "# df.rename(columns={'Timestamp': 'Datetime'}, inplace=True)"
      ],
      "execution_count": null,
      "outputs": []
    },
    {
      "cell_type": "code",
      "metadata": {
        "id": "cpRzs2yX6uw1"
      },
      "source": [
        "# Setting the datetime as the index\n",
        "df_bitstamp.set_index('Datetime', inplace=True)\n",
        "df_coinbase.set_index('Datetime', inplace=True)"
      ],
      "execution_count": null,
      "outputs": []
    },
    {
      "cell_type": "code",
      "metadata": {
        "colab": {
          "base_uri": "https://localhost:8080/",
          "height": 390
        },
        "id": "H4g4zU0HGgBx",
        "outputId": "7a483d3f-e7ba-48b3-85b8-6cb53f299978"
      },
      "source": [
        "df_bitstamp_summary = df_bitstamp.groupby([(df_bitstamp.index.year)]).count()\n",
        "df_bitstamp_summary"
      ],
      "execution_count": null,
      "outputs": [
        {
          "output_type": "execute_result",
          "data": {
            "text/html": [
              "<div>\n",
              "<style scoped>\n",
              "    .dataframe tbody tr th:only-of-type {\n",
              "        vertical-align: middle;\n",
              "    }\n",
              "\n",
              "    .dataframe tbody tr th {\n",
              "        vertical-align: top;\n",
              "    }\n",
              "\n",
              "    .dataframe thead th {\n",
              "        text-align: right;\n",
              "    }\n",
              "</style>\n",
              "<table border=\"1\" class=\"dataframe\">\n",
              "  <thead>\n",
              "    <tr style=\"text-align: right;\">\n",
              "      <th></th>\n",
              "      <th>Close</th>\n",
              "    </tr>\n",
              "    <tr>\n",
              "      <th>Datetime</th>\n",
              "      <th></th>\n",
              "    </tr>\n",
              "  </thead>\n",
              "  <tbody>\n",
              "    <tr>\n",
              "      <th>2011</th>\n",
              "      <td>4</td>\n",
              "    </tr>\n",
              "    <tr>\n",
              "      <th>2012</th>\n",
              "      <td>26629</td>\n",
              "    </tr>\n",
              "    <tr>\n",
              "      <th>2013</th>\n",
              "      <td>319761</td>\n",
              "    </tr>\n",
              "    <tr>\n",
              "      <th>2014</th>\n",
              "      <td>398176</td>\n",
              "    </tr>\n",
              "    <tr>\n",
              "      <th>2015</th>\n",
              "      <td>372735</td>\n",
              "    </tr>\n",
              "    <tr>\n",
              "      <th>2016</th>\n",
              "      <td>352099</td>\n",
              "    </tr>\n",
              "    <tr>\n",
              "      <th>2017</th>\n",
              "      <td>483332</td>\n",
              "    </tr>\n",
              "    <tr>\n",
              "      <th>2018</th>\n",
              "      <td>505773</td>\n",
              "    </tr>\n",
              "    <tr>\n",
              "      <th>2019</th>\n",
              "      <td>508340</td>\n",
              "    </tr>\n",
              "    <tr>\n",
              "      <th>2020</th>\n",
              "      <td>159631</td>\n",
              "    </tr>\n",
              "  </tbody>\n",
              "</table>\n",
              "</div>"
            ],
            "text/plain": [
              "           Close\n",
              "Datetime        \n",
              "2011           4\n",
              "2012       26629\n",
              "2013      319761\n",
              "2014      398176\n",
              "2015      372735\n",
              "2016      352099\n",
              "2017      483332\n",
              "2018      505773\n",
              "2019      508340\n",
              "2020      159631"
            ]
          },
          "metadata": {},
          "execution_count": 13
        }
      ]
    },
    {
      "cell_type": "code",
      "metadata": {
        "colab": {
          "base_uri": "https://localhost:8080/",
          "height": 266
        },
        "id": "L1sLGaBzGfe9",
        "outputId": "62329fb2-8b8d-4a5d-d5e2-3b2effea4296"
      },
      "source": [
        "df_coinbase_summary = df_coinbase.groupby([(df_coinbase.index.year)]).count()\n",
        "df_coinbase_summary"
      ],
      "execution_count": null,
      "outputs": [
        {
          "output_type": "execute_result",
          "data": {
            "text/html": [
              "<div>\n",
              "<style scoped>\n",
              "    .dataframe tbody tr th:only-of-type {\n",
              "        vertical-align: middle;\n",
              "    }\n",
              "\n",
              "    .dataframe tbody tr th {\n",
              "        vertical-align: top;\n",
              "    }\n",
              "\n",
              "    .dataframe thead th {\n",
              "        text-align: right;\n",
              "    }\n",
              "</style>\n",
              "<table border=\"1\" class=\"dataframe\">\n",
              "  <thead>\n",
              "    <tr style=\"text-align: right;\">\n",
              "      <th></th>\n",
              "      <th>Close</th>\n",
              "    </tr>\n",
              "    <tr>\n",
              "      <th>Datetime</th>\n",
              "      <th></th>\n",
              "    </tr>\n",
              "  </thead>\n",
              "  <tbody>\n",
              "    <tr>\n",
              "      <th>2014</th>\n",
              "      <td>27</td>\n",
              "    </tr>\n",
              "    <tr>\n",
              "      <th>2015</th>\n",
              "      <td>440516</td>\n",
              "    </tr>\n",
              "    <tr>\n",
              "      <th>2016</th>\n",
              "      <td>501586</td>\n",
              "    </tr>\n",
              "    <tr>\n",
              "      <th>2017</th>\n",
              "      <td>514769</td>\n",
              "    </tr>\n",
              "    <tr>\n",
              "      <th>2018</th>\n",
              "      <td>523827</td>\n",
              "    </tr>\n",
              "    <tr>\n",
              "      <th>2019</th>\n",
              "      <td>9966</td>\n",
              "    </tr>\n",
              "  </tbody>\n",
              "</table>\n",
              "</div>"
            ],
            "text/plain": [
              "           Close\n",
              "Datetime        \n",
              "2014          27\n",
              "2015      440516\n",
              "2016      501586\n",
              "2017      514769\n",
              "2018      523827\n",
              "2019        9966"
            ]
          },
          "metadata": {},
          "execution_count": 14
        }
      ]
    },
    {
      "cell_type": "code",
      "metadata": {
        "id": "MBSe2MnrHnmx"
      },
      "source": [
        "# Compare the number of rows in each dataset for the comparable years\n",
        "# if the summary is positive then coinbase is more populated, bitstamp otherwise\n",
        "df_compare_summary = df_coinbase_summary.iloc[1:-1].join(df_bitstamp_summary, how='left', rsuffix='_bitstamp')\n",
        "df_compare_summary['Diff'] = df_compare_summary['Close'] - df_compare_summary['Close_bitstamp']\n",
        "summary = df_compare_summary['Diff'].sum()"
      ],
      "execution_count": null,
      "outputs": []
    },
    {
      "cell_type": "code",
      "metadata": {
        "id": "WqwDGtnsLwW5"
      },
      "source": [
        "# Compare the quantity of NaNs in each dataset\n",
        "df_bitstamp_na = df_bitstamp.loc[~df_bitstamp['Close'].notna()].copy()\n",
        "df_bitstamp_na.fillna(1, inplace=True)\n",
        "df_bitstamp_na = df_bitstamp_na.groupby([(df_bitstamp_na.index.year)]).count()\n",
        "df_coinbase_na = df_coinbase.loc[~df_coinbase['Close'].notna()].copy()\n",
        "df_coinbase_na.fillna(1, inplace=True)\n",
        "df_coinbase_na = df_coinbase_na.groupby([(df_coinbase_na.index.year)]).count()\n",
        "df_compare_na = df_coinbase_na.iloc[1:-1].join(df_bitstamp_na, how='left', rsuffix='_bitstamp')\n",
        "df_compare_na['Diff'] = df_compare_na['Close_bitstamp'] - df_compare_na['Close']\n",
        "total_na = df_compare_na['Diff'].sum()"
      ],
      "execution_count": null,
      "outputs": []
    },
    {
      "cell_type": "code",
      "metadata": {
        "id": "etHyDL-Rex5C"
      },
      "source": [
        "if summary + total_na >= 0:\n",
        "  selected_dataset = df_coinbase\n",
        "else:\n",
        "  selected_dataset = df_bitstamp"
      ],
      "execution_count": null,
      "outputs": []
    },
    {
      "cell_type": "code",
      "metadata": {
        "colab": {
          "base_uri": "https://localhost:8080/",
          "height": 450
        },
        "id": "VjW9JzM9fuwC",
        "outputId": "0016734d-340c-4980-e54c-e24f7aa36344"
      },
      "source": [
        "selected_dataset"
      ],
      "execution_count": null,
      "outputs": [
        {
          "output_type": "execute_result",
          "data": {
            "text/html": [
              "<div>\n",
              "<style scoped>\n",
              "    .dataframe tbody tr th:only-of-type {\n",
              "        vertical-align: middle;\n",
              "    }\n",
              "\n",
              "    .dataframe tbody tr th {\n",
              "        vertical-align: top;\n",
              "    }\n",
              "\n",
              "    .dataframe thead th {\n",
              "        text-align: right;\n",
              "    }\n",
              "</style>\n",
              "<table border=\"1\" class=\"dataframe\">\n",
              "  <thead>\n",
              "    <tr style=\"text-align: right;\">\n",
              "      <th></th>\n",
              "      <th>Close</th>\n",
              "    </tr>\n",
              "    <tr>\n",
              "      <th>Datetime</th>\n",
              "      <th></th>\n",
              "    </tr>\n",
              "  </thead>\n",
              "  <tbody>\n",
              "    <tr>\n",
              "      <th>2014-12-01 05:33:00</th>\n",
              "      <td>300.00</td>\n",
              "    </tr>\n",
              "    <tr>\n",
              "      <th>2014-12-01 05:34:00</th>\n",
              "      <td>NaN</td>\n",
              "    </tr>\n",
              "    <tr>\n",
              "      <th>2014-12-01 05:35:00</th>\n",
              "      <td>NaN</td>\n",
              "    </tr>\n",
              "    <tr>\n",
              "      <th>2014-12-01 05:36:00</th>\n",
              "      <td>NaN</td>\n",
              "    </tr>\n",
              "    <tr>\n",
              "      <th>2014-12-01 05:37:00</th>\n",
              "      <td>NaN</td>\n",
              "    </tr>\n",
              "    <tr>\n",
              "      <th>...</th>\n",
              "      <td>...</td>\n",
              "    </tr>\n",
              "    <tr>\n",
              "      <th>2019-01-07 22:02:00</th>\n",
              "      <td>4006.01</td>\n",
              "    </tr>\n",
              "    <tr>\n",
              "      <th>2019-01-07 22:03:00</th>\n",
              "      <td>4006.01</td>\n",
              "    </tr>\n",
              "    <tr>\n",
              "      <th>2019-01-07 22:04:00</th>\n",
              "      <td>4006.01</td>\n",
              "    </tr>\n",
              "    <tr>\n",
              "      <th>2019-01-07 22:05:00</th>\n",
              "      <td>4005.50</td>\n",
              "    </tr>\n",
              "    <tr>\n",
              "      <th>2019-01-07 22:06:00</th>\n",
              "      <td>4005.99</td>\n",
              "    </tr>\n",
              "  </tbody>\n",
              "</table>\n",
              "<p>2099760 rows × 1 columns</p>\n",
              "</div>"
            ],
            "text/plain": [
              "                       Close\n",
              "Datetime                    \n",
              "2014-12-01 05:33:00   300.00\n",
              "2014-12-01 05:34:00      NaN\n",
              "2014-12-01 05:35:00      NaN\n",
              "2014-12-01 05:36:00      NaN\n",
              "2014-12-01 05:37:00      NaN\n",
              "...                      ...\n",
              "2019-01-07 22:02:00  4006.01\n",
              "2019-01-07 22:03:00  4006.01\n",
              "2019-01-07 22:04:00  4006.01\n",
              "2019-01-07 22:05:00  4005.50\n",
              "2019-01-07 22:06:00  4005.99\n",
              "\n",
              "[2099760 rows x 1 columns]"
            ]
          },
          "metadata": {},
          "execution_count": 18
        }
      ]
    },
    {
      "cell_type": "code",
      "metadata": {
        "id": "BohXHWqndbHs"
      },
      "source": [
        "init_d = selected_dataset.index[0]\n",
        "end_d = selected_dataset.index[-1]\n",
        "datetime_index = pd.date_range(init_d, end_d, freq='T')\n",
        "df = pd.DataFrame(index=datetime_index)"
      ],
      "execution_count": null,
      "outputs": []
    },
    {
      "cell_type": "code",
      "metadata": {
        "id": "IsVNELVpA-__"
      },
      "source": [
        "df = df.join(selected_dataset, how='left')"
      ],
      "execution_count": null,
      "outputs": []
    },
    {
      "cell_type": "code",
      "metadata": {
        "id": "ZxkFNf48N_rk"
      },
      "source": [
        "df['Close'].fillna(method='ffill', inplace=True)"
      ],
      "execution_count": null,
      "outputs": []
    },
    {
      "cell_type": "code",
      "metadata": {
        "colab": {
          "base_uri": "https://localhost:8080/",
          "height": 1000
        },
        "id": "bgYZiccAN0VC",
        "outputId": "554e8951-10c0-4213-b4a4-ac981de3cf60"
      },
      "source": [
        "df.head(50)"
      ],
      "execution_count": null,
      "outputs": [
        {
          "output_type": "execute_result",
          "data": {
            "text/html": [
              "<div>\n",
              "<style scoped>\n",
              "    .dataframe tbody tr th:only-of-type {\n",
              "        vertical-align: middle;\n",
              "    }\n",
              "\n",
              "    .dataframe tbody tr th {\n",
              "        vertical-align: top;\n",
              "    }\n",
              "\n",
              "    .dataframe thead th {\n",
              "        text-align: right;\n",
              "    }\n",
              "</style>\n",
              "<table border=\"1\" class=\"dataframe\">\n",
              "  <thead>\n",
              "    <tr style=\"text-align: right;\">\n",
              "      <th></th>\n",
              "      <th>Close</th>\n",
              "    </tr>\n",
              "  </thead>\n",
              "  <tbody>\n",
              "    <tr>\n",
              "      <th>2014-12-01 05:33:00</th>\n",
              "      <td>300.0</td>\n",
              "    </tr>\n",
              "    <tr>\n",
              "      <th>2014-12-01 05:34:00</th>\n",
              "      <td>300.0</td>\n",
              "    </tr>\n",
              "    <tr>\n",
              "      <th>2014-12-01 05:35:00</th>\n",
              "      <td>300.0</td>\n",
              "    </tr>\n",
              "    <tr>\n",
              "      <th>2014-12-01 05:36:00</th>\n",
              "      <td>300.0</td>\n",
              "    </tr>\n",
              "    <tr>\n",
              "      <th>2014-12-01 05:37:00</th>\n",
              "      <td>300.0</td>\n",
              "    </tr>\n",
              "    <tr>\n",
              "      <th>2014-12-01 05:38:00</th>\n",
              "      <td>300.0</td>\n",
              "    </tr>\n",
              "    <tr>\n",
              "      <th>2014-12-01 05:39:00</th>\n",
              "      <td>300.0</td>\n",
              "    </tr>\n",
              "    <tr>\n",
              "      <th>2014-12-01 05:40:00</th>\n",
              "      <td>300.0</td>\n",
              "    </tr>\n",
              "    <tr>\n",
              "      <th>2014-12-01 05:41:00</th>\n",
              "      <td>300.0</td>\n",
              "    </tr>\n",
              "    <tr>\n",
              "      <th>2014-12-01 05:42:00</th>\n",
              "      <td>300.0</td>\n",
              "    </tr>\n",
              "    <tr>\n",
              "      <th>2014-12-01 05:43:00</th>\n",
              "      <td>300.0</td>\n",
              "    </tr>\n",
              "    <tr>\n",
              "      <th>2014-12-01 05:44:00</th>\n",
              "      <td>300.0</td>\n",
              "    </tr>\n",
              "    <tr>\n",
              "      <th>2014-12-01 05:45:00</th>\n",
              "      <td>300.0</td>\n",
              "    </tr>\n",
              "    <tr>\n",
              "      <th>2014-12-01 05:46:00</th>\n",
              "      <td>300.0</td>\n",
              "    </tr>\n",
              "    <tr>\n",
              "      <th>2014-12-01 05:47:00</th>\n",
              "      <td>300.0</td>\n",
              "    </tr>\n",
              "    <tr>\n",
              "      <th>2014-12-01 05:48:00</th>\n",
              "      <td>300.0</td>\n",
              "    </tr>\n",
              "    <tr>\n",
              "      <th>2014-12-01 05:49:00</th>\n",
              "      <td>300.0</td>\n",
              "    </tr>\n",
              "    <tr>\n",
              "      <th>2014-12-01 05:50:00</th>\n",
              "      <td>300.0</td>\n",
              "    </tr>\n",
              "    <tr>\n",
              "      <th>2014-12-01 05:51:00</th>\n",
              "      <td>300.0</td>\n",
              "    </tr>\n",
              "    <tr>\n",
              "      <th>2014-12-01 05:52:00</th>\n",
              "      <td>300.0</td>\n",
              "    </tr>\n",
              "    <tr>\n",
              "      <th>2014-12-01 05:53:00</th>\n",
              "      <td>300.0</td>\n",
              "    </tr>\n",
              "    <tr>\n",
              "      <th>2014-12-01 05:54:00</th>\n",
              "      <td>300.0</td>\n",
              "    </tr>\n",
              "    <tr>\n",
              "      <th>2014-12-01 05:55:00</th>\n",
              "      <td>300.0</td>\n",
              "    </tr>\n",
              "    <tr>\n",
              "      <th>2014-12-01 05:56:00</th>\n",
              "      <td>300.0</td>\n",
              "    </tr>\n",
              "    <tr>\n",
              "      <th>2014-12-01 05:57:00</th>\n",
              "      <td>300.0</td>\n",
              "    </tr>\n",
              "    <tr>\n",
              "      <th>2014-12-01 05:58:00</th>\n",
              "      <td>300.0</td>\n",
              "    </tr>\n",
              "    <tr>\n",
              "      <th>2014-12-01 05:59:00</th>\n",
              "      <td>300.0</td>\n",
              "    </tr>\n",
              "    <tr>\n",
              "      <th>2014-12-01 06:00:00</th>\n",
              "      <td>300.0</td>\n",
              "    </tr>\n",
              "    <tr>\n",
              "      <th>2014-12-01 06:01:00</th>\n",
              "      <td>300.0</td>\n",
              "    </tr>\n",
              "    <tr>\n",
              "      <th>2014-12-01 06:02:00</th>\n",
              "      <td>300.0</td>\n",
              "    </tr>\n",
              "    <tr>\n",
              "      <th>2014-12-01 06:03:00</th>\n",
              "      <td>300.0</td>\n",
              "    </tr>\n",
              "    <tr>\n",
              "      <th>2014-12-01 06:04:00</th>\n",
              "      <td>300.0</td>\n",
              "    </tr>\n",
              "    <tr>\n",
              "      <th>2014-12-01 06:05:00</th>\n",
              "      <td>300.0</td>\n",
              "    </tr>\n",
              "    <tr>\n",
              "      <th>2014-12-01 06:06:00</th>\n",
              "      <td>300.0</td>\n",
              "    </tr>\n",
              "    <tr>\n",
              "      <th>2014-12-01 06:07:00</th>\n",
              "      <td>300.0</td>\n",
              "    </tr>\n",
              "    <tr>\n",
              "      <th>2014-12-01 06:08:00</th>\n",
              "      <td>300.0</td>\n",
              "    </tr>\n",
              "    <tr>\n",
              "      <th>2014-12-01 06:09:00</th>\n",
              "      <td>300.0</td>\n",
              "    </tr>\n",
              "    <tr>\n",
              "      <th>2014-12-01 06:10:00</th>\n",
              "      <td>300.0</td>\n",
              "    </tr>\n",
              "    <tr>\n",
              "      <th>2014-12-01 06:11:00</th>\n",
              "      <td>300.0</td>\n",
              "    </tr>\n",
              "    <tr>\n",
              "      <th>2014-12-01 06:12:00</th>\n",
              "      <td>300.0</td>\n",
              "    </tr>\n",
              "    <tr>\n",
              "      <th>2014-12-01 06:13:00</th>\n",
              "      <td>300.0</td>\n",
              "    </tr>\n",
              "    <tr>\n",
              "      <th>2014-12-01 06:14:00</th>\n",
              "      <td>300.0</td>\n",
              "    </tr>\n",
              "    <tr>\n",
              "      <th>2014-12-01 06:15:00</th>\n",
              "      <td>300.0</td>\n",
              "    </tr>\n",
              "    <tr>\n",
              "      <th>2014-12-01 06:16:00</th>\n",
              "      <td>300.0</td>\n",
              "    </tr>\n",
              "    <tr>\n",
              "      <th>2014-12-01 06:17:00</th>\n",
              "      <td>300.0</td>\n",
              "    </tr>\n",
              "    <tr>\n",
              "      <th>2014-12-01 06:18:00</th>\n",
              "      <td>300.0</td>\n",
              "    </tr>\n",
              "    <tr>\n",
              "      <th>2014-12-01 06:19:00</th>\n",
              "      <td>300.0</td>\n",
              "    </tr>\n",
              "    <tr>\n",
              "      <th>2014-12-01 06:20:00</th>\n",
              "      <td>300.0</td>\n",
              "    </tr>\n",
              "    <tr>\n",
              "      <th>2014-12-01 06:21:00</th>\n",
              "      <td>300.0</td>\n",
              "    </tr>\n",
              "    <tr>\n",
              "      <th>2014-12-01 06:22:00</th>\n",
              "      <td>300.0</td>\n",
              "    </tr>\n",
              "  </tbody>\n",
              "</table>\n",
              "</div>"
            ],
            "text/plain": [
              "                     Close\n",
              "2014-12-01 05:33:00  300.0\n",
              "2014-12-01 05:34:00  300.0\n",
              "2014-12-01 05:35:00  300.0\n",
              "2014-12-01 05:36:00  300.0\n",
              "2014-12-01 05:37:00  300.0\n",
              "2014-12-01 05:38:00  300.0\n",
              "2014-12-01 05:39:00  300.0\n",
              "2014-12-01 05:40:00  300.0\n",
              "2014-12-01 05:41:00  300.0\n",
              "2014-12-01 05:42:00  300.0\n",
              "2014-12-01 05:43:00  300.0\n",
              "2014-12-01 05:44:00  300.0\n",
              "2014-12-01 05:45:00  300.0\n",
              "2014-12-01 05:46:00  300.0\n",
              "2014-12-01 05:47:00  300.0\n",
              "2014-12-01 05:48:00  300.0\n",
              "2014-12-01 05:49:00  300.0\n",
              "2014-12-01 05:50:00  300.0\n",
              "2014-12-01 05:51:00  300.0\n",
              "2014-12-01 05:52:00  300.0\n",
              "2014-12-01 05:53:00  300.0\n",
              "2014-12-01 05:54:00  300.0\n",
              "2014-12-01 05:55:00  300.0\n",
              "2014-12-01 05:56:00  300.0\n",
              "2014-12-01 05:57:00  300.0\n",
              "2014-12-01 05:58:00  300.0\n",
              "2014-12-01 05:59:00  300.0\n",
              "2014-12-01 06:00:00  300.0\n",
              "2014-12-01 06:01:00  300.0\n",
              "2014-12-01 06:02:00  300.0\n",
              "2014-12-01 06:03:00  300.0\n",
              "2014-12-01 06:04:00  300.0\n",
              "2014-12-01 06:05:00  300.0\n",
              "2014-12-01 06:06:00  300.0\n",
              "2014-12-01 06:07:00  300.0\n",
              "2014-12-01 06:08:00  300.0\n",
              "2014-12-01 06:09:00  300.0\n",
              "2014-12-01 06:10:00  300.0\n",
              "2014-12-01 06:11:00  300.0\n",
              "2014-12-01 06:12:00  300.0\n",
              "2014-12-01 06:13:00  300.0\n",
              "2014-12-01 06:14:00  300.0\n",
              "2014-12-01 06:15:00  300.0\n",
              "2014-12-01 06:16:00  300.0\n",
              "2014-12-01 06:17:00  300.0\n",
              "2014-12-01 06:18:00  300.0\n",
              "2014-12-01 06:19:00  300.0\n",
              "2014-12-01 06:20:00  300.0\n",
              "2014-12-01 06:21:00  300.0\n",
              "2014-12-01 06:22:00  300.0"
            ]
          },
          "metadata": {},
          "execution_count": 22
        }
      ]
    },
    {
      "cell_type": "code",
      "metadata": {
        "colab": {
          "base_uri": "https://localhost:8080/",
          "height": 235
        },
        "id": "d4nR619kj0Uq",
        "outputId": "54239f72-7bdf-4662-87f7-09eefeb7180b"
      },
      "source": [
        "#df = df[df.index.year != 2014]\n",
        "#df = df[df.index.year != 2019]\n",
        "df.groupby([(df.index.year)]).count()"
      ],
      "execution_count": null,
      "outputs": [
        {
          "output_type": "execute_result",
          "data": {
            "text/html": [
              "<div>\n",
              "<style scoped>\n",
              "    .dataframe tbody tr th:only-of-type {\n",
              "        vertical-align: middle;\n",
              "    }\n",
              "\n",
              "    .dataframe tbody tr th {\n",
              "        vertical-align: top;\n",
              "    }\n",
              "\n",
              "    .dataframe thead th {\n",
              "        text-align: right;\n",
              "    }\n",
              "</style>\n",
              "<table border=\"1\" class=\"dataframe\">\n",
              "  <thead>\n",
              "    <tr style=\"text-align: right;\">\n",
              "      <th></th>\n",
              "      <th>Close</th>\n",
              "    </tr>\n",
              "  </thead>\n",
              "  <tbody>\n",
              "    <tr>\n",
              "      <th>2014</th>\n",
              "      <td>44307</td>\n",
              "    </tr>\n",
              "    <tr>\n",
              "      <th>2015</th>\n",
              "      <td>525600</td>\n",
              "    </tr>\n",
              "    <tr>\n",
              "      <th>2016</th>\n",
              "      <td>527040</td>\n",
              "    </tr>\n",
              "    <tr>\n",
              "      <th>2017</th>\n",
              "      <td>525600</td>\n",
              "    </tr>\n",
              "    <tr>\n",
              "      <th>2018</th>\n",
              "      <td>525600</td>\n",
              "    </tr>\n",
              "    <tr>\n",
              "      <th>2019</th>\n",
              "      <td>9967</td>\n",
              "    </tr>\n",
              "  </tbody>\n",
              "</table>\n",
              "</div>"
            ],
            "text/plain": [
              "       Close\n",
              "2014   44307\n",
              "2015  525600\n",
              "2016  527040\n",
              "2017  525600\n",
              "2018  525600\n",
              "2019    9967"
            ]
          },
          "metadata": {},
          "execution_count": 23
        }
      ]
    },
    {
      "cell_type": "code",
      "metadata": {
        "id": "3VcKTne5Qp0E"
      },
      "source": [
        "df['Datetime'] = df.index\n",
        "# df[::60]"
      ],
      "execution_count": null,
      "outputs": []
    },
    {
      "cell_type": "code",
      "metadata": {
        "id": "VQvCoNtoPPBI"
      },
      "source": [
        "df = df.groupby([(df.index.year), (df.index.month),(df.index.day), (df.index.hour)]).last()\n",
        "df.set_index('Datetime', inplace=True)"
      ],
      "execution_count": null,
      "outputs": []
    },
    {
      "cell_type": "code",
      "metadata": {
        "colab": {
          "base_uri": "https://localhost:8080/",
          "height": 235
        },
        "id": "DtRBcLEVSGr4",
        "outputId": "517f311e-ada0-4d5a-f339-42f1a85df90f"
      },
      "source": [
        "df.head()"
      ],
      "execution_count": null,
      "outputs": [
        {
          "output_type": "execute_result",
          "data": {
            "text/html": [
              "<div>\n",
              "<style scoped>\n",
              "    .dataframe tbody tr th:only-of-type {\n",
              "        vertical-align: middle;\n",
              "    }\n",
              "\n",
              "    .dataframe tbody tr th {\n",
              "        vertical-align: top;\n",
              "    }\n",
              "\n",
              "    .dataframe thead th {\n",
              "        text-align: right;\n",
              "    }\n",
              "</style>\n",
              "<table border=\"1\" class=\"dataframe\">\n",
              "  <thead>\n",
              "    <tr style=\"text-align: right;\">\n",
              "      <th></th>\n",
              "      <th>Close</th>\n",
              "    </tr>\n",
              "    <tr>\n",
              "      <th>Datetime</th>\n",
              "      <th></th>\n",
              "    </tr>\n",
              "  </thead>\n",
              "  <tbody>\n",
              "    <tr>\n",
              "      <th>2014-12-01 05:59:00</th>\n",
              "      <td>300.0</td>\n",
              "    </tr>\n",
              "    <tr>\n",
              "      <th>2014-12-01 06:59:00</th>\n",
              "      <td>370.0</td>\n",
              "    </tr>\n",
              "    <tr>\n",
              "      <th>2014-12-01 07:59:00</th>\n",
              "      <td>370.0</td>\n",
              "    </tr>\n",
              "    <tr>\n",
              "      <th>2014-12-01 08:59:00</th>\n",
              "      <td>370.0</td>\n",
              "    </tr>\n",
              "    <tr>\n",
              "      <th>2014-12-01 09:59:00</th>\n",
              "      <td>370.0</td>\n",
              "    </tr>\n",
              "  </tbody>\n",
              "</table>\n",
              "</div>"
            ],
            "text/plain": [
              "                     Close\n",
              "Datetime                  \n",
              "2014-12-01 05:59:00  300.0\n",
              "2014-12-01 06:59:00  370.0\n",
              "2014-12-01 07:59:00  370.0\n",
              "2014-12-01 08:59:00  370.0\n",
              "2014-12-01 09:59:00  370.0"
            ]
          },
          "metadata": {},
          "execution_count": 26
        }
      ]
    },
    {
      "cell_type": "code",
      "metadata": {
        "id": "eUwHPlwdzNjw"
      },
      "source": [
        "# Delete the first Nan values\n",
        "#df = df[df.first_valid_index():]"
      ],
      "execution_count": null,
      "outputs": []
    },
    {
      "cell_type": "code",
      "metadata": {
        "id": "ZtLEcdUZIzyy"
      },
      "source": [
        "# df['Close'].update(df_coinbase['Close'])\n",
        "# df.index.name = 'Datetime'\n",
        "df.reset_index(level=0, inplace=True)"
      ],
      "execution_count": null,
      "outputs": []
    },
    {
      "cell_type": "code",
      "metadata": {
        "id": "ctqEWyZdGyVc"
      },
      "source": [
        "assert df.index.duplicated().sum() == 0"
      ],
      "execution_count": null,
      "outputs": []
    },
    {
      "cell_type": "code",
      "metadata": {
        "colab": {
          "base_uri": "https://localhost:8080/",
          "height": 1000
        },
        "id": "OxwUscGMOyXP",
        "outputId": "edb24c03-fffd-4572-f46b-21c6f4ed172a"
      },
      "source": [
        "df.head(50)"
      ],
      "execution_count": null,
      "outputs": [
        {
          "output_type": "execute_result",
          "data": {
            "text/html": [
              "<div>\n",
              "<style scoped>\n",
              "    .dataframe tbody tr th:only-of-type {\n",
              "        vertical-align: middle;\n",
              "    }\n",
              "\n",
              "    .dataframe tbody tr th {\n",
              "        vertical-align: top;\n",
              "    }\n",
              "\n",
              "    .dataframe thead th {\n",
              "        text-align: right;\n",
              "    }\n",
              "</style>\n",
              "<table border=\"1\" class=\"dataframe\">\n",
              "  <thead>\n",
              "    <tr style=\"text-align: right;\">\n",
              "      <th></th>\n",
              "      <th>Datetime</th>\n",
              "      <th>Close</th>\n",
              "    </tr>\n",
              "  </thead>\n",
              "  <tbody>\n",
              "    <tr>\n",
              "      <th>0</th>\n",
              "      <td>2014-12-01 05:59:00</td>\n",
              "      <td>300.0</td>\n",
              "    </tr>\n",
              "    <tr>\n",
              "      <th>1</th>\n",
              "      <td>2014-12-01 06:59:00</td>\n",
              "      <td>370.0</td>\n",
              "    </tr>\n",
              "    <tr>\n",
              "      <th>2</th>\n",
              "      <td>2014-12-01 07:59:00</td>\n",
              "      <td>370.0</td>\n",
              "    </tr>\n",
              "    <tr>\n",
              "      <th>3</th>\n",
              "      <td>2014-12-01 08:59:00</td>\n",
              "      <td>370.0</td>\n",
              "    </tr>\n",
              "    <tr>\n",
              "      <th>4</th>\n",
              "      <td>2014-12-01 09:59:00</td>\n",
              "      <td>370.0</td>\n",
              "    </tr>\n",
              "    <tr>\n",
              "      <th>5</th>\n",
              "      <td>2014-12-01 10:59:00</td>\n",
              "      <td>370.0</td>\n",
              "    </tr>\n",
              "    <tr>\n",
              "      <th>6</th>\n",
              "      <td>2014-12-01 11:59:00</td>\n",
              "      <td>370.0</td>\n",
              "    </tr>\n",
              "    <tr>\n",
              "      <th>7</th>\n",
              "      <td>2014-12-01 12:59:00</td>\n",
              "      <td>370.0</td>\n",
              "    </tr>\n",
              "    <tr>\n",
              "      <th>8</th>\n",
              "      <td>2014-12-01 13:59:00</td>\n",
              "      <td>370.0</td>\n",
              "    </tr>\n",
              "    <tr>\n",
              "      <th>9</th>\n",
              "      <td>2014-12-01 14:59:00</td>\n",
              "      <td>370.0</td>\n",
              "    </tr>\n",
              "    <tr>\n",
              "      <th>10</th>\n",
              "      <td>2014-12-01 15:59:00</td>\n",
              "      <td>370.0</td>\n",
              "    </tr>\n",
              "    <tr>\n",
              "      <th>11</th>\n",
              "      <td>2014-12-01 16:59:00</td>\n",
              "      <td>370.0</td>\n",
              "    </tr>\n",
              "    <tr>\n",
              "      <th>12</th>\n",
              "      <td>2014-12-01 17:59:00</td>\n",
              "      <td>370.0</td>\n",
              "    </tr>\n",
              "    <tr>\n",
              "      <th>13</th>\n",
              "      <td>2014-12-01 18:59:00</td>\n",
              "      <td>370.0</td>\n",
              "    </tr>\n",
              "    <tr>\n",
              "      <th>14</th>\n",
              "      <td>2014-12-01 19:59:00</td>\n",
              "      <td>370.0</td>\n",
              "    </tr>\n",
              "    <tr>\n",
              "      <th>15</th>\n",
              "      <td>2014-12-01 20:59:00</td>\n",
              "      <td>370.0</td>\n",
              "    </tr>\n",
              "    <tr>\n",
              "      <th>16</th>\n",
              "      <td>2014-12-01 21:59:00</td>\n",
              "      <td>370.0</td>\n",
              "    </tr>\n",
              "    <tr>\n",
              "      <th>17</th>\n",
              "      <td>2014-12-01 22:59:00</td>\n",
              "      <td>370.0</td>\n",
              "    </tr>\n",
              "    <tr>\n",
              "      <th>18</th>\n",
              "      <td>2014-12-01 23:59:00</td>\n",
              "      <td>370.0</td>\n",
              "    </tr>\n",
              "    <tr>\n",
              "      <th>19</th>\n",
              "      <td>2014-12-02 00:59:00</td>\n",
              "      <td>370.0</td>\n",
              "    </tr>\n",
              "    <tr>\n",
              "      <th>20</th>\n",
              "      <td>2014-12-02 01:59:00</td>\n",
              "      <td>370.0</td>\n",
              "    </tr>\n",
              "    <tr>\n",
              "      <th>21</th>\n",
              "      <td>2014-12-02 02:59:00</td>\n",
              "      <td>370.0</td>\n",
              "    </tr>\n",
              "    <tr>\n",
              "      <th>22</th>\n",
              "      <td>2014-12-02 03:59:00</td>\n",
              "      <td>370.0</td>\n",
              "    </tr>\n",
              "    <tr>\n",
              "      <th>23</th>\n",
              "      <td>2014-12-02 04:59:00</td>\n",
              "      <td>370.0</td>\n",
              "    </tr>\n",
              "    <tr>\n",
              "      <th>24</th>\n",
              "      <td>2014-12-02 05:59:00</td>\n",
              "      <td>377.0</td>\n",
              "    </tr>\n",
              "    <tr>\n",
              "      <th>25</th>\n",
              "      <td>2014-12-02 06:59:00</td>\n",
              "      <td>377.0</td>\n",
              "    </tr>\n",
              "    <tr>\n",
              "      <th>26</th>\n",
              "      <td>2014-12-02 07:59:00</td>\n",
              "      <td>377.0</td>\n",
              "    </tr>\n",
              "    <tr>\n",
              "      <th>27</th>\n",
              "      <td>2014-12-02 08:59:00</td>\n",
              "      <td>377.0</td>\n",
              "    </tr>\n",
              "    <tr>\n",
              "      <th>28</th>\n",
              "      <td>2014-12-02 09:59:00</td>\n",
              "      <td>377.0</td>\n",
              "    </tr>\n",
              "    <tr>\n",
              "      <th>29</th>\n",
              "      <td>2014-12-02 10:59:00</td>\n",
              "      <td>378.0</td>\n",
              "    </tr>\n",
              "    <tr>\n",
              "      <th>30</th>\n",
              "      <td>2014-12-02 11:59:00</td>\n",
              "      <td>378.0</td>\n",
              "    </tr>\n",
              "    <tr>\n",
              "      <th>31</th>\n",
              "      <td>2014-12-02 12:59:00</td>\n",
              "      <td>378.0</td>\n",
              "    </tr>\n",
              "    <tr>\n",
              "      <th>32</th>\n",
              "      <td>2014-12-02 13:59:00</td>\n",
              "      <td>378.0</td>\n",
              "    </tr>\n",
              "    <tr>\n",
              "      <th>33</th>\n",
              "      <td>2014-12-02 14:59:00</td>\n",
              "      <td>378.0</td>\n",
              "    </tr>\n",
              "    <tr>\n",
              "      <th>34</th>\n",
              "      <td>2014-12-02 15:59:00</td>\n",
              "      <td>378.0</td>\n",
              "    </tr>\n",
              "    <tr>\n",
              "      <th>35</th>\n",
              "      <td>2014-12-02 16:59:00</td>\n",
              "      <td>378.0</td>\n",
              "    </tr>\n",
              "    <tr>\n",
              "      <th>36</th>\n",
              "      <td>2014-12-02 17:59:00</td>\n",
              "      <td>378.0</td>\n",
              "    </tr>\n",
              "    <tr>\n",
              "      <th>37</th>\n",
              "      <td>2014-12-02 18:59:00</td>\n",
              "      <td>378.0</td>\n",
              "    </tr>\n",
              "    <tr>\n",
              "      <th>38</th>\n",
              "      <td>2014-12-02 19:59:00</td>\n",
              "      <td>378.0</td>\n",
              "    </tr>\n",
              "    <tr>\n",
              "      <th>39</th>\n",
              "      <td>2014-12-02 20:59:00</td>\n",
              "      <td>378.0</td>\n",
              "    </tr>\n",
              "    <tr>\n",
              "      <th>40</th>\n",
              "      <td>2014-12-02 21:59:00</td>\n",
              "      <td>378.0</td>\n",
              "    </tr>\n",
              "    <tr>\n",
              "      <th>41</th>\n",
              "      <td>2014-12-02 22:59:00</td>\n",
              "      <td>378.0</td>\n",
              "    </tr>\n",
              "    <tr>\n",
              "      <th>42</th>\n",
              "      <td>2014-12-02 23:59:00</td>\n",
              "      <td>378.0</td>\n",
              "    </tr>\n",
              "    <tr>\n",
              "      <th>43</th>\n",
              "      <td>2014-12-03 00:59:00</td>\n",
              "      <td>378.0</td>\n",
              "    </tr>\n",
              "    <tr>\n",
              "      <th>44</th>\n",
              "      <td>2014-12-03 01:59:00</td>\n",
              "      <td>378.0</td>\n",
              "    </tr>\n",
              "    <tr>\n",
              "      <th>45</th>\n",
              "      <td>2014-12-03 02:59:00</td>\n",
              "      <td>378.0</td>\n",
              "    </tr>\n",
              "    <tr>\n",
              "      <th>46</th>\n",
              "      <td>2014-12-03 03:59:00</td>\n",
              "      <td>378.0</td>\n",
              "    </tr>\n",
              "    <tr>\n",
              "      <th>47</th>\n",
              "      <td>2014-12-03 04:59:00</td>\n",
              "      <td>378.0</td>\n",
              "    </tr>\n",
              "    <tr>\n",
              "      <th>48</th>\n",
              "      <td>2014-12-03 05:59:00</td>\n",
              "      <td>378.0</td>\n",
              "    </tr>\n",
              "    <tr>\n",
              "      <th>49</th>\n",
              "      <td>2014-12-03 06:59:00</td>\n",
              "      <td>378.0</td>\n",
              "    </tr>\n",
              "  </tbody>\n",
              "</table>\n",
              "</div>"
            ],
            "text/plain": [
              "              Datetime  Close\n",
              "0  2014-12-01 05:59:00  300.0\n",
              "1  2014-12-01 06:59:00  370.0\n",
              "2  2014-12-01 07:59:00  370.0\n",
              "3  2014-12-01 08:59:00  370.0\n",
              "4  2014-12-01 09:59:00  370.0\n",
              "5  2014-12-01 10:59:00  370.0\n",
              "6  2014-12-01 11:59:00  370.0\n",
              "7  2014-12-01 12:59:00  370.0\n",
              "8  2014-12-01 13:59:00  370.0\n",
              "9  2014-12-01 14:59:00  370.0\n",
              "10 2014-12-01 15:59:00  370.0\n",
              "11 2014-12-01 16:59:00  370.0\n",
              "12 2014-12-01 17:59:00  370.0\n",
              "13 2014-12-01 18:59:00  370.0\n",
              "14 2014-12-01 19:59:00  370.0\n",
              "15 2014-12-01 20:59:00  370.0\n",
              "16 2014-12-01 21:59:00  370.0\n",
              "17 2014-12-01 22:59:00  370.0\n",
              "18 2014-12-01 23:59:00  370.0\n",
              "19 2014-12-02 00:59:00  370.0\n",
              "20 2014-12-02 01:59:00  370.0\n",
              "21 2014-12-02 02:59:00  370.0\n",
              "22 2014-12-02 03:59:00  370.0\n",
              "23 2014-12-02 04:59:00  370.0\n",
              "24 2014-12-02 05:59:00  377.0\n",
              "25 2014-12-02 06:59:00  377.0\n",
              "26 2014-12-02 07:59:00  377.0\n",
              "27 2014-12-02 08:59:00  377.0\n",
              "28 2014-12-02 09:59:00  377.0\n",
              "29 2014-12-02 10:59:00  378.0\n",
              "30 2014-12-02 11:59:00  378.0\n",
              "31 2014-12-02 12:59:00  378.0\n",
              "32 2014-12-02 13:59:00  378.0\n",
              "33 2014-12-02 14:59:00  378.0\n",
              "34 2014-12-02 15:59:00  378.0\n",
              "35 2014-12-02 16:59:00  378.0\n",
              "36 2014-12-02 17:59:00  378.0\n",
              "37 2014-12-02 18:59:00  378.0\n",
              "38 2014-12-02 19:59:00  378.0\n",
              "39 2014-12-02 20:59:00  378.0\n",
              "40 2014-12-02 21:59:00  378.0\n",
              "41 2014-12-02 22:59:00  378.0\n",
              "42 2014-12-02 23:59:00  378.0\n",
              "43 2014-12-03 00:59:00  378.0\n",
              "44 2014-12-03 01:59:00  378.0\n",
              "45 2014-12-03 02:59:00  378.0\n",
              "46 2014-12-03 03:59:00  378.0\n",
              "47 2014-12-03 04:59:00  378.0\n",
              "48 2014-12-03 05:59:00  378.0\n",
              "49 2014-12-03 06:59:00  378.0"
            ]
          },
          "metadata": {},
          "execution_count": 30
        }
      ]
    },
    {
      "cell_type": "code",
      "metadata": {
        "id": "a5aC_4mOh7A8"
      },
      "source": [
        "# gaps = datetime_ref[~datetime_ref.isin(df['Datetime'])]\n",
        "# print(len(gaps))\n",
        "# gaps[:50]"
      ],
      "execution_count": null,
      "outputs": []
    },
    {
      "cell_type": "code",
      "metadata": {
        "id": "V2GfyeRn4n8L"
      },
      "source": [
        "date_time = df.pop('Datetime')"
      ],
      "execution_count": null,
      "outputs": []
    },
    {
      "cell_type": "code",
      "metadata": {
        "colab": {
          "base_uri": "https://localhost:8080/",
          "height": 375
        },
        "id": "Uj1m5NRN45IX",
        "outputId": "18a8e96a-fceb-4a26-9e35-988a8bc940fd"
      },
      "source": [
        "plot_cols = ['Close']\n",
        "plot_features = df[plot_cols]\n",
        "plot_features.index = date_time\n",
        "_ = plot_features.plot(subplots=True)"
      ],
      "execution_count": null,
      "outputs": [
        {
          "output_type": "display_data",
          "data": {
            "image/png": "[encoded data removed]",
            "text/plain": [
              "<Figure size 576x432 with 1 Axes>"
            ]
          },
          "metadata": {
            "needs_background": "light"
          }
        }
      ]
    },
    {
      "cell_type": "code",
      "metadata": {
        "colab": {
          "base_uri": "https://localhost:8080/",
          "height": 383
        },
        "id": "0KI3j_KV5esy",
        "outputId": "fc3b639b-f0dd-4173-c37f-8f1f927be5dd"
      },
      "source": [
        "plot_features = df[plot_cols][:2228]\n",
        "plot_features.index = date_time[:2228]\n",
        "_ = plot_features.plot(subplots=True)"
      ],
      "execution_count": null,
      "outputs": [
        {
          "output_type": "display_data",
          "data": {
            "image/png": "[encoded data removed]",
            "text/plain": [
              "<Figure size 576x432 with 1 Axes>"
            ]
          },
          "metadata": {
            "needs_background": "light"
          }
        }
      ]
    },
    {
      "cell_type": "code",
      "metadata": {
        "id": "NyiMWUdrOV96"
      },
      "source": [
        "df['Log_return'] = np.log(df['Close']).diff()"
      ],
      "execution_count": null,
      "outputs": []
    },
    {
      "cell_type": "code",
      "metadata": {
        "colab": {
          "base_uri": "https://localhost:8080/",
          "height": 204
        },
        "id": "0Uirh8P0PBRx",
        "outputId": "55645f72-3558-40ba-e67e-96879e7230b0"
      },
      "source": [
        "df.head()"
      ],
      "execution_count": null,
      "outputs": [
        {
          "output_type": "execute_result",
          "data": {
            "text/html": [
              "<div>\n",
              "<style scoped>\n",
              "    .dataframe tbody tr th:only-of-type {\n",
              "        vertical-align: middle;\n",
              "    }\n",
              "\n",
              "    .dataframe tbody tr th {\n",
              "        vertical-align: top;\n",
              "    }\n",
              "\n",
              "    .dataframe thead th {\n",
              "        text-align: right;\n",
              "    }\n",
              "</style>\n",
              "<table border=\"1\" class=\"dataframe\">\n",
              "  <thead>\n",
              "    <tr style=\"text-align: right;\">\n",
              "      <th></th>\n",
              "      <th>Close</th>\n",
              "      <th>Log_return</th>\n",
              "    </tr>\n",
              "  </thead>\n",
              "  <tbody>\n",
              "    <tr>\n",
              "      <th>0</th>\n",
              "      <td>300.0</td>\n",
              "      <td>NaN</td>\n",
              "    </tr>\n",
              "    <tr>\n",
              "      <th>1</th>\n",
              "      <td>370.0</td>\n",
              "      <td>0.209721</td>\n",
              "    </tr>\n",
              "    <tr>\n",
              "      <th>2</th>\n",
              "      <td>370.0</td>\n",
              "      <td>0.000000</td>\n",
              "    </tr>\n",
              "    <tr>\n",
              "      <th>3</th>\n",
              "      <td>370.0</td>\n",
              "      <td>0.000000</td>\n",
              "    </tr>\n",
              "    <tr>\n",
              "      <th>4</th>\n",
              "      <td>370.0</td>\n",
              "      <td>0.000000</td>\n",
              "    </tr>\n",
              "  </tbody>\n",
              "</table>\n",
              "</div>"
            ],
            "text/plain": [
              "   Close  Log_return\n",
              "0  300.0         NaN\n",
              "1  370.0    0.209721\n",
              "2  370.0    0.000000\n",
              "3  370.0    0.000000\n",
              "4  370.0    0.000000"
            ]
          },
          "metadata": {},
          "execution_count": 36
        }
      ]
    },
    {
      "cell_type": "code",
      "metadata": {
        "colab": {
          "base_uri": "https://localhost:8080/",
          "height": 375
        },
        "id": "QDm62aTmPMtw",
        "outputId": "10cc2f05-dcf4-451a-d7e9-860bed99d659"
      },
      "source": [
        "plot_cols = ['Log_return']\n",
        "plot_features = df[plot_cols]\n",
        "plot_features.index = date_time\n",
        "_ = plot_features.plot(subplots=True)"
      ],
      "execution_count": null,
      "outputs": [
        {
          "output_type": "display_data",
          "data": {
            "image/png": "[encoded data removed]",
            "text/plain": [
              "<Figure size 576x432 with 1 Axes>"
            ]
          },
          "metadata": {
            "needs_background": "light"
          }
        }
      ]
    },
    {
      "cell_type": "code",
      "metadata": {
        "colab": {
          "base_uri": "https://localhost:8080/"
        },
        "id": "FJ6cBx8KSL8u",
        "outputId": "98a8072f-f3e9-4d27-d98d-15cc7381d3dd"
      },
      "source": [
        "df.pop('Log_return')"
      ],
      "execution_count": null,
      "outputs": [
        {
          "output_type": "execute_result",
          "data": {
            "text/plain": [
              "0             NaN\n",
              "1        0.209721\n",
              "2        0.000000\n",
              "3        0.000000\n",
              "4        0.000000\n",
              "           ...   \n",
              "35965    0.000107\n",
              "35966    0.002100\n",
              "35967   -0.004303\n",
              "35968   -0.000037\n",
              "35969   -0.000145\n",
              "Name: Log_return, Length: 35970, dtype: float64"
            ]
          },
          "metadata": {},
          "execution_count": 38
        }
      ]
    },
    {
      "cell_type": "code",
      "metadata": {
        "colab": {
          "base_uri": "https://localhost:8080/",
          "height": 204
        },
        "id": "LY-u3xliSQAn",
        "outputId": "ab4c21a6-2774-4159-a435-85311e12b87f"
      },
      "source": [
        "df.head()"
      ],
      "execution_count": null,
      "outputs": [
        {
          "output_type": "execute_result",
          "data": {
            "text/html": [
              "<div>\n",
              "<style scoped>\n",
              "    .dataframe tbody tr th:only-of-type {\n",
              "        vertical-align: middle;\n",
              "    }\n",
              "\n",
              "    .dataframe tbody tr th {\n",
              "        vertical-align: top;\n",
              "    }\n",
              "\n",
              "    .dataframe thead th {\n",
              "        text-align: right;\n",
              "    }\n",
              "</style>\n",
              "<table border=\"1\" class=\"dataframe\">\n",
              "  <thead>\n",
              "    <tr style=\"text-align: right;\">\n",
              "      <th></th>\n",
              "      <th>Close</th>\n",
              "    </tr>\n",
              "  </thead>\n",
              "  <tbody>\n",
              "    <tr>\n",
              "      <th>0</th>\n",
              "      <td>300.0</td>\n",
              "    </tr>\n",
              "    <tr>\n",
              "      <th>1</th>\n",
              "      <td>370.0</td>\n",
              "    </tr>\n",
              "    <tr>\n",
              "      <th>2</th>\n",
              "      <td>370.0</td>\n",
              "    </tr>\n",
              "    <tr>\n",
              "      <th>3</th>\n",
              "      <td>370.0</td>\n",
              "    </tr>\n",
              "    <tr>\n",
              "      <th>4</th>\n",
              "      <td>370.0</td>\n",
              "    </tr>\n",
              "  </tbody>\n",
              "</table>\n",
              "</div>"
            ],
            "text/plain": [
              "   Close\n",
              "0  300.0\n",
              "1  370.0\n",
              "2  370.0\n",
              "3  370.0\n",
              "4  370.0"
            ]
          },
          "metadata": {},
          "execution_count": 39
        }
      ]
    },
    {
      "cell_type": "markdown",
      "metadata": {
        "id": "K1fnycMHSkzJ"
      },
      "source": [
        "## Split data"
      ]
    },
    {
      "cell_type": "code",
      "metadata": {
        "colab": {
          "base_uri": "https://localhost:8080/"
        },
        "id": "qjuXQoZlUPU3",
        "outputId": "f4bde98b-9cbb-40a5-9acb-8ec4ac809890"
      },
      "source": [
        "df.shape"
      ],
      "execution_count": null,
      "outputs": [
        {
          "output_type": "execute_result",
          "data": {
            "text/plain": [
              "(35970, 1)"
            ]
          },
          "metadata": {},
          "execution_count": 40
        }
      ]
    },
    {
      "cell_type": "code",
      "metadata": {
        "id": "a9rFftDJSjpp"
      },
      "source": [
        "n = len(df)\n",
        "train_df = df[0:int(n*0.7)]\n",
        "val_df = df[int(n*0.7):int(n*0.9)]\n",
        "test_df = df[int(n*0.9):]"
      ],
      "execution_count": null,
      "outputs": []
    },
    {
      "cell_type": "code",
      "metadata": {
        "colab": {
          "base_uri": "https://localhost:8080/",
          "height": 377
        },
        "id": "wXOW0Nx6r9YR",
        "outputId": "33d11416-82c4-4357-c73b-2eaa2e9e4435"
      },
      "source": [
        "plot_cols = ['Close']\n",
        "plot_features = df[plot_cols].loc[int(n*0.7) - 10: int(n*0.7) + 10]\n",
        "plot_features.index = date_time.loc[int(n*0.7) - 10:int(n*0.7) + 10]\n",
        "_ = plot_features.plot(subplots=True)"
      ],
      "execution_count": null,
      "outputs": [
        {
          "output_type": "display_data",
          "data": {
            "image/png": "[encoded data removed]",
            "text/plain": [
              "<Figure size 576x432 with 1 Axes>"
            ]
          },
          "metadata": {
            "needs_background": "light"
          }
        }
      ]
    },
    {
      "cell_type": "code",
      "metadata": {
        "colab": {
          "base_uri": "https://localhost:8080/"
        },
        "id": "0JzPnnBJUI-v",
        "outputId": "461b5060-b951-41dc-d8ad-4c59680f7db8"
      },
      "source": [
        "train_df.shape"
      ],
      "execution_count": null,
      "outputs": [
        {
          "output_type": "execute_result",
          "data": {
            "text/plain": [
              "(25179, 1)"
            ]
          },
          "metadata": {},
          "execution_count": 43
        }
      ]
    },
    {
      "cell_type": "markdown",
      "metadata": {
        "id": "7gQ4P1xOSu10"
      },
      "source": [
        "### Normalize the data"
      ]
    },
    {
      "cell_type": "code",
      "metadata": {
        "id": "C8cY0PFbSvgU"
      },
      "source": [
        "train_mean = train_df.mean()\n",
        "train_std = train_df.std()\n",
        "\n",
        "train_df = (train_df - train_mean) / train_std\n",
        "val_df = (val_df - train_mean) / train_std\n",
        "test_df = (test_df - train_mean) / train_std"
      ],
      "execution_count": null,
      "outputs": []
    },
    {
      "cell_type": "code",
      "metadata": {
        "colab": {
          "base_uri": "https://localhost:8080/",
          "height": 405
        },
        "id": "4PWluMIiTUeM",
        "outputId": "02e2d08b-4cce-4fa4-ac42-15bf0955e2a1"
      },
      "source": [
        "df_std = (df - train_mean) / train_std\n",
        "df_std = df_std.melt(var_name='Column', value_name='Normalized')\n",
        "plt.figure(figsize=(12, 6))\n",
        "ax = sns.violinplot(x='Column', y='Normalized', data=df_std)\n",
        "_ = ax.set_xticklabels(df.keys(), rotation=90)"
      ],
      "execution_count": null,
      "outputs": [
        {
          "output_type": "display_data",
          "data": {
            "image/png": "[encoded data removed]",
            "text/plain": [
              "<Figure size 864x432 with 1 Axes>"
            ]
          },
          "metadata": {
            "needs_background": "light"
          }
        }
      ]
    },
    {
      "cell_type": "code",
      "metadata": {
        "id": "OKRLg_plYgHN"
      },
      "source": [
        "class WindowGenerator():\n",
        "  def __init__(self, input_width, label_width, shift,\n",
        "               train_df=train_df, val_df=val_df, test_df=test_df,\n",
        "               label_columns=None):\n",
        "    # Store the raw data.\n",
        "    self.train_df = train_df\n",
        "    self.val_df = val_df\n",
        "    self.test_df = test_df\n",
        "\n",
        "    # Work out the label column indices.\n",
        "    self.label_columns = label_columns\n",
        "    if label_columns is not None:\n",
        "      self.label_columns_indices = {name: i for i, name in\n",
        "                                    enumerate(label_columns)}\n",
        "    self.column_indices = {name: i for i, name in\n",
        "                           enumerate(train_df.columns)}\n",
        "\n",
        "    # Work out the window parameters.\n",
        "    self.input_width = input_width\n",
        "    self.label_width = label_width\n",
        "    self.shift = shift\n",
        "\n",
        "    self.total_window_size = input_width + shift\n",
        "\n",
        "    self.input_slice = slice(0, input_width)\n",
        "    self.input_indices = np.arange(self.total_window_size)[self.input_slice]\n",
        "\n",
        "    self.label_start = self.total_window_size - self.label_width\n",
        "    self.labels_slice = slice(self.label_start, None)\n",
        "    self.label_indices = np.arange(self.total_window_size)[self.labels_slice]\n",
        "\n",
        "  def __repr__(self):\n",
        "    return '\\n'.join([\n",
        "        f'Total window size: {self.total_window_size}',\n",
        "        f'Input indices: {self.input_indices}',\n",
        "        f'Label indices: {self.label_indices}',\n",
        "        f'Label column name(s): {self.label_columns}'])"
      ],
      "execution_count": null,
      "outputs": []
    },
    {
      "cell_type": "code",
      "metadata": {
        "id": "miwjPxgLYlpB"
      },
      "source": [
        "def split_window(self, features):\n",
        "  inputs = features[:, self.input_slice, :]\n",
        "  labels = features[:, self.labels_slice, :]\n",
        "  if self.label_columns is not None:\n",
        "    labels = tf.stack(\n",
        "        [labels[:, :, self.column_indices[name]] for name in self.label_columns],\n",
        "        axis=-1)\n",
        "\n",
        "  # Slicing doesn't preserve static shape information, so set the shapes\n",
        "  # manually. This way the `tf.data.Datasets` are easier to inspect.\n",
        "  inputs.set_shape([None, self.input_width, None])\n",
        "  labels.set_shape([None, self.label_width, None])\n",
        "\n",
        "  return inputs, labels\n",
        "\n",
        "WindowGenerator.split_window = split_window"
      ],
      "execution_count": null,
      "outputs": []
    },
    {
      "cell_type": "markdown",
      "metadata": {
        "id": "x9FG23B07Beg"
      },
      "source": [
        "## Plot data"
      ]
    },
    {
      "cell_type": "code",
      "metadata": {
        "id": "PF9_jw_RYr3H"
      },
      "source": [
        "def plot(self, model=None, plot_col='Close', max_subplots=3):\n",
        "  inputs, labels = self.example\n",
        "  plt.figure(figsize=(12, 8))\n",
        "  plot_col_index = self.column_indices[plot_col]\n",
        "  max_n = min(max_subplots, len(inputs))\n",
        "  for n in range(max_n):\n",
        "    plt.subplot(max_n, 1, n + 1)\n",
        "    plt.ylabel(f'{plot_col} [normed]')\n",
        "    plt.plot(self.input_indices, inputs[n, :, plot_col_index],\n",
        "             label='Inputs', marker='.', zorder=-10)\n",
        "\n",
        "    if self.label_columns:\n",
        "      label_col_index = self.label_columns_indices.get(plot_col, None)\n",
        "    else:\n",
        "      label_col_index = plot_col_index\n",
        "\n",
        "    if label_col_index is None:\n",
        "      continue\n",
        "\n",
        "    plt.scatter(self.label_indices, labels[n, :, label_col_index],\n",
        "                edgecolors='k', label='Labels', c='#2ca02c', s=64)\n",
        "    if model is not None:\n",
        "      predictions = model(inputs)\n",
        "      plt.scatter(self.label_indices - 1, predictions[n, :, label_col_index],\n",
        "                  marker='p', edgecolors='k', label='Predictions',\n",
        "                  c='#ff7f0e', s=64)\n",
        "\n",
        "    if n == 0:\n",
        "      plt.legend()\n",
        "\n",
        "  plt.xlabel('Time [h]')\n",
        "\n",
        "WindowGenerator.plot = plot"
      ],
      "execution_count": null,
      "outputs": []
    },
    {
      "cell_type": "code",
      "metadata": {
        "id": "VPeJAeKwYyAy"
      },
      "source": [
        "save_ds = []\n",
        "def make_dataset(self, data):\n",
        "  data = np.array(data, dtype=np.float32)\n",
        "  print(\"===================================================================\")\n",
        "  print(data.shape)\n",
        "  print(\"===================================================================\")\n",
        "  ds = tf.keras.preprocessing.timeseries_dataset_from_array(\n",
        "      data=data,\n",
        "      targets=None,\n",
        "      sequence_length=self.total_window_size,\n",
        "      sequence_stride=1,\n",
        "      shuffle=True,\n",
        "      batch_size=32,)\n",
        "\n",
        "  ds = ds.map(self.split_window)\n",
        "\n",
        "  global save_ds \n",
        "  save_ds.append(ds)\n",
        "\n",
        "  return ds\n",
        "\n",
        "WindowGenerator.make_dataset = make_dataset"
      ],
      "execution_count": null,
      "outputs": []
    },
    {
      "cell_type": "code",
      "metadata": {
        "id": "PFleu6woZJ5U"
      },
      "source": [
        "@property\n",
        "def train(self):\n",
        "  return self.make_dataset(self.train_df)\n",
        "\n",
        "@property\n",
        "def val(self):\n",
        "  return self.make_dataset(self.val_df)\n",
        "\n",
        "@property\n",
        "def test(self):\n",
        "  return self.make_dataset(self.test_df)\n",
        "\n",
        "@property\n",
        "def example(self):\n",
        "  \"\"\"Get and cache an example batch of `inputs, labels` for plotting.\"\"\"\n",
        "  result = getattr(self, '_example', None)\n",
        "  if result is None:\n",
        "    # No example batch was found, so get one from the `.train` dataset\n",
        "    result = next(iter(self.train))\n",
        "    # And cache it for next time\n",
        "    self._example = result\n",
        "  return result\n",
        "\n",
        "WindowGenerator.train = train\n",
        "WindowGenerator.val = val\n",
        "WindowGenerator.test = test\n",
        "WindowGenerator.example = example"
      ],
      "execution_count": null,
      "outputs": []
    },
    {
      "cell_type": "markdown",
      "metadata": {
        "id": "DwrE5f637J39"
      },
      "source": [
        "## RNN"
      ]
    },
    {
      "cell_type": "code",
      "metadata": {
        "id": "jWl-3JoOZQzi"
      },
      "source": [
        "lstm_model = tf.keras.models.Sequential([\n",
        "    # Shape [batch, time, features] => [batch, time, lstm_units]\n",
        "    tf.keras.layers.LSTM(32, return_sequences=True),\n",
        "    # Shape => [batch, time, features]\n",
        "    tf.keras.layers.Dense(units=1)\n",
        "])"
      ],
      "execution_count": null,
      "outputs": []
    },
    {
      "cell_type": "code",
      "metadata": {
        "id": "1jgb0atWeVLc"
      },
      "source": [
        "MAX_EPOCHS = 50\n",
        "\n",
        "def compile_and_fit(model, window, patience=5):\n",
        "  early_stopping = tf.keras.callbacks.EarlyStopping(monitor='val_loss',\n",
        "                                                    patience=patience,\n",
        "                                                    mode='min')\n",
        "\n",
        "  model.compile(loss=tf.losses.MeanSquaredError(),\n",
        "                optimizer=tf.optimizers.Adam(),\n",
        "                metrics=[tf.metrics.MeanAbsoluteError()])\n",
        "\n",
        "  history = model.fit(window.train, epochs=MAX_EPOCHS,\n",
        "                      validation_data=window.val,\n",
        "                      callbacks=[early_stopping])\n",
        "  return history"
      ],
      "execution_count": null,
      "outputs": []
    },
    {
      "cell_type": "code",
      "metadata": {
        "colab": {
          "base_uri": "https://localhost:8080/"
        },
        "id": "l6PWePjiZ1zi",
        "outputId": "3c005b77-3e84-4773-dba9-997a61d0cb14"
      },
      "source": [
        "wide_window = WindowGenerator(\n",
        "    input_width=24, label_width=24, shift=1,\n",
        "    label_columns=['Close'])\n",
        "\n",
        "wide_window"
      ],
      "execution_count": null,
      "outputs": [
        {
          "output_type": "execute_result",
          "data": {
            "text/plain": [
              "Total window size: 25\n",
              "Input indices: [ 0  1  2  3  4  5  6  7  8  9 10 11 12 13 14 15 16 17 18 19 20 21 22 23]\n",
              "Label indices: [ 1  2  3  4  5  6  7  8  9 10 11 12 13 14 15 16 17 18 19 20 21 22 23 24]\n",
              "Label column name(s): ['Close']"
            ]
          },
          "metadata": {},
          "execution_count": 53
        }
      ]
    },
    {
      "cell_type": "code",
      "metadata": {
        "colab": {
          "base_uri": "https://localhost:8080/"
        },
        "id": "GTBgvq3SZUaw",
        "outputId": "385585e6-48f7-4a90-a32f-344abfada1e9"
      },
      "source": [
        "print('Input shape:', wide_window.example[0].shape)\n",
        "print('Output shape:', lstm_model(wide_window.example[0]).shape)"
      ],
      "execution_count": null,
      "outputs": [
        {
          "output_type": "stream",
          "name": "stdout",
          "text": [
            "===================================================================\n",
            "(25179, 1)\n",
            "===================================================================\n",
            "Input shape: (32, 24, 1)\n",
            "Output shape: (32, 24, 1)\n"
          ]
        }
      ]
    },
    {
      "cell_type": "code",
      "metadata": {
        "colab": {
          "base_uri": "https://localhost:8080/"
        },
        "id": "eY_OL0hpZX5r",
        "outputId": "d8f979c4-67f8-4a29-953f-a0356f38975e"
      },
      "source": [
        "history = compile_and_fit(lstm_model, wide_window)"
      ],
      "execution_count": null,
      "outputs": [
        {
          "output_type": "stream",
          "name": "stdout",
          "text": [
            "===================================================================\n",
            "(25179, 1)\n",
            "===================================================================\n",
            "===================================================================\n",
            "(7194, 1)\n",
            "===================================================================\n",
            "Epoch 1/50\n",
            "787/787 [==============================] - 14s 15ms/step - loss: 0.0451 - mean_absolute_error: 0.0733 - val_loss: 10.4721 - val_mean_absolute_error: 2.1997\n",
            "Epoch 2/50\n",
            "787/787 [==============================] - 11s 14ms/step - loss: 0.0026 - mean_absolute_error: 0.0164 - val_loss: 6.5529 - val_mean_absolute_error: 1.5394\n",
            "Epoch 3/50\n",
            "787/787 [==============================] - 11s 14ms/step - loss: 3.7775e-04 - mean_absolute_error: 0.0088 - val_loss: 6.0509 - val_mean_absolute_error: 1.4506\n",
            "Epoch 4/50\n",
            "787/787 [==============================] - 12s 15ms/step - loss: 3.0148e-04 - mean_absolute_error: 0.0073 - val_loss: 5.9091 - val_mean_absolute_error: 1.4374\n",
            "Epoch 5/50\n",
            "787/787 [==============================] - 11s 14ms/step - loss: 2.7724e-04 - mean_absolute_error: 0.0068 - val_loss: 5.7149 - val_mean_absolute_error: 1.4009\n",
            "Epoch 6/50\n",
            "787/787 [==============================] - 11s 15ms/step - loss: 2.6098e-04 - mean_absolute_error: 0.0065 - val_loss: 5.5817 - val_mean_absolute_error: 1.3903\n",
            "Epoch 7/50\n",
            "787/787 [==============================] - 11s 14ms/step - loss: 2.5480e-04 - mean_absolute_error: 0.0066 - val_loss: 5.4200 - val_mean_absolute_error: 1.3380\n",
            "Epoch 8/50\n",
            "787/787 [==============================] - 12s 15ms/step - loss: 2.3532e-04 - mean_absolute_error: 0.0063 - val_loss: 5.1959 - val_mean_absolute_error: 1.2981\n",
            "Epoch 9/50\n",
            "787/787 [==============================] - 11s 14ms/step - loss: 2.1937e-04 - mean_absolute_error: 0.0061 - val_loss: 4.9172 - val_mean_absolute_error: 1.2395\n",
            "Epoch 10/50\n",
            "787/787 [==============================] - 11s 14ms/step - loss: 2.1019e-04 - mean_absolute_error: 0.0060 - val_loss: 4.6914 - val_mean_absolute_error: 1.2152\n",
            "Epoch 11/50\n",
            "787/787 [==============================] - 12s 16ms/step - loss: 2.0599e-04 - mean_absolute_error: 0.0060 - val_loss: 4.3938 - val_mean_absolute_error: 1.1268\n",
            "Epoch 12/50\n",
            "787/787 [==============================] - 11s 14ms/step - loss: 2.0102e-04 - mean_absolute_error: 0.0058 - val_loss: 4.2077 - val_mean_absolute_error: 1.0922\n",
            "Epoch 13/50\n",
            "787/787 [==============================] - 12s 15ms/step - loss: 1.9823e-04 - mean_absolute_error: 0.0057 - val_loss: 4.0319 - val_mean_absolute_error: 1.0491\n",
            "Epoch 14/50\n",
            "787/787 [==============================] - 12s 15ms/step - loss: 1.9482e-04 - mean_absolute_error: 0.0055 - val_loss: 3.8858 - val_mean_absolute_error: 1.0212\n",
            "Epoch 15/50\n",
            "787/787 [==============================] - 11s 14ms/step - loss: 1.9432e-04 - mean_absolute_error: 0.0055 - val_loss: 3.8200 - val_mean_absolute_error: 1.0306\n",
            "Epoch 16/50\n",
            "787/787 [==============================] - 12s 15ms/step - loss: 1.9041e-04 - mean_absolute_error: 0.0054 - val_loss: 3.6869 - val_mean_absolute_error: 0.9822\n",
            "Epoch 17/50\n",
            "787/787 [==============================] - 12s 15ms/step - loss: 1.9151e-04 - mean_absolute_error: 0.0055 - val_loss: 3.6550 - val_mean_absolute_error: 0.9962\n",
            "Epoch 18/50\n",
            "787/787 [==============================] - 12s 15ms/step - loss: 1.9256e-04 - mean_absolute_error: 0.0054 - val_loss: 3.5863 - val_mean_absolute_error: 0.9733\n",
            "Epoch 19/50\n",
            "787/787 [==============================] - 12s 15ms/step - loss: 1.8988e-04 - mean_absolute_error: 0.0053 - val_loss: 3.4842 - val_mean_absolute_error: 0.9371\n",
            "Epoch 20/50\n",
            "787/787 [==============================] - 12s 15ms/step - loss: 1.8536e-04 - mean_absolute_error: 0.0052 - val_loss: 3.4182 - val_mean_absolute_error: 0.9225\n",
            "Epoch 21/50\n",
            "787/787 [==============================] - 12s 15ms/step - loss: 1.8942e-04 - mean_absolute_error: 0.0053 - val_loss: 3.4526 - val_mean_absolute_error: 0.9391\n",
            "Epoch 22/50\n",
            "787/787 [==============================] - 12s 15ms/step - loss: 1.8803e-04 - mean_absolute_error: 0.0053 - val_loss: 3.4131 - val_mean_absolute_error: 0.9282\n",
            "Epoch 23/50\n",
            "787/787 [==============================] - 12s 16ms/step - loss: 1.8896e-04 - mean_absolute_error: 0.0053 - val_loss: 3.4121 - val_mean_absolute_error: 0.9266\n",
            "Epoch 24/50\n",
            "787/787 [==============================] - 12s 15ms/step - loss: 1.9064e-04 - mean_absolute_error: 0.0053 - val_loss: 3.4440 - val_mean_absolute_error: 0.9444\n",
            "Epoch 25/50\n",
            "787/787 [==============================] - 11s 14ms/step - loss: 1.8555e-04 - mean_absolute_error: 0.0052 - val_loss: 3.4286 - val_mean_absolute_error: 0.9331\n",
            "Epoch 26/50\n",
            "787/787 [==============================] - 11s 14ms/step - loss: 1.8833e-04 - mean_absolute_error: 0.0053 - val_loss: 3.4237 - val_mean_absolute_error: 0.9314\n",
            "Epoch 27/50\n",
            "787/787 [==============================] - 12s 15ms/step - loss: 1.8521e-04 - mean_absolute_error: 0.0052 - val_loss: 3.4022 - val_mean_absolute_error: 0.9276\n",
            "Epoch 28/50\n",
            "787/787 [==============================] - 14s 18ms/step - loss: 1.9169e-04 - mean_absolute_error: 0.0053 - val_loss: 3.4819 - val_mean_absolute_error: 0.9619\n",
            "Epoch 29/50\n",
            "787/787 [==============================] - 12s 16ms/step - loss: 1.8825e-04 - mean_absolute_error: 0.0052 - val_loss: 3.4522 - val_mean_absolute_error: 0.9488\n",
            "Epoch 30/50\n",
            "787/787 [==============================] - 12s 15ms/step - loss: 1.8375e-04 - mean_absolute_error: 0.0051 - val_loss: 3.4892 - val_mean_absolute_error: 0.9776\n",
            "Epoch 31/50\n",
            "787/787 [==============================] - 12s 15ms/step - loss: 1.8814e-04 - mean_absolute_error: 0.0052 - val_loss: 3.4761 - val_mean_absolute_error: 0.9577\n",
            "Epoch 32/50\n",
            "787/787 [==============================] - 13s 16ms/step - loss: 1.8843e-04 - mean_absolute_error: 0.0052 - val_loss: 3.5501 - val_mean_absolute_error: 1.0034\n"
          ]
        }
      ]
    },
    {
      "cell_type": "code",
      "metadata": {
        "colab": {
          "base_uri": "https://localhost:8080/",
          "height": 497
        },
        "id": "3fvYja5xZZoy",
        "outputId": "526524ba-dee8-467f-9ead-cd046c26c9c7"
      },
      "source": [
        "wide_window.plot(lstm_model)"
      ],
      "execution_count": null,
      "outputs": [
        {
          "output_type": "display_data",
          "data": {
            "image/png": "[encoded data removed]",
            "text/plain": [
              "<Figure size 864x576 with 3 Axes>"
            ]
          },
          "metadata": {
            "needs_background": "light"
          }
        }
      ]
    },
    {
      "cell_type": "code",
      "metadata": {
        "id": "XNC16crrTV-4"
      },
      "source": [
        "import tensorflow_datasets as tfds"
      ],
      "execution_count": null,
      "outputs": []
    },
    {
      "cell_type": "code",
      "metadata": {
        "id": "noZ2UPKiTXVk"
      },
      "source": [
        "# tfds.as_dataframe(save_ds[-2].take(4), (\"Hello\", \"you\"))"
      ],
      "execution_count": null,
      "outputs": []
    },
    {
      "cell_type": "code",
      "metadata": {
        "id": "r7hJ8hGnYMNe"
      },
      "source": [
        "data_ = tfds.as_numpy(save_ds[-2])"
      ],
      "execution_count": null,
      "outputs": []
    },
    {
      "cell_type": "code",
      "metadata": {
        "colab": {
          "base_uri": "https://localhost:8080/"
        },
        "id": "pvWOwAmTcs3k",
        "outputId": "f16af3f2-2c9d-4223-8a0b-9a5459b9410e"
      },
      "source": [
        "data_"
      ],
      "execution_count": null,
      "outputs": [
        {
          "output_type": "execute_result",
          "data": {
            "text/plain": [
              "<tensorflow_datasets.core.dataset_utils._IterableDataset at 0x7f5ff87a1e10>"
            ]
          },
          "metadata": {},
          "execution_count": 60
        }
      ]
    },
    {
      "cell_type": "code",
      "metadata": {
        "id": "P8jopUqMYU7d"
      },
      "source": [
        "# Code to understand the tensorflow/keras dataset\n",
        "i = 0\n",
        "limit = 2\n",
        "for ele in data_:\n",
        "  print(ele[1].shape)\n",
        "  i += 1\n",
        "  if i == limit:\n",
        "    break\n",
        "print(i)"
      ],
      "execution_count": null,
      "outputs": []
    },
    {
      "cell_type": "code",
      "metadata": {
        "colab": {
          "base_uri": "https://localhost:8080/"
        },
        "id": "d0YxSkO9bCHA",
        "outputId": "88b6207f-43e6-445c-b8ad-4a34cdb513c7"
      },
      "source": [
        "print(ele[0].shape)\n",
        "print(ele[1].shape)\n",
        "my_num = ele[0][0][1][0]\n",
        "my_num"
      ],
      "execution_count": null,
      "outputs": [
        {
          "output_type": "stream",
          "name": "stdout",
          "text": [
            "(32, 24, 1)\n",
            "(32, 24, 1)\n"
          ]
        },
        {
          "output_type": "execute_result",
          "data": {
            "text/plain": [
              "-0.5939172"
            ]
          },
          "metadata": {},
          "execution_count": 62
        }
      ]
    },
    {
      "cell_type": "code",
      "metadata": {
        "colab": {
          "base_uri": "https://localhost:8080/"
        },
        "id": "o6nncqq5gEWr",
        "outputId": "22371aed-343b-499d-87ab-a1fd46e4ff61"
      },
      "source": [
        "my_num = train_df.head(1).iloc[0][0]\n",
        "my_num"
      ],
      "execution_count": null,
      "outputs": [
        {
          "output_type": "execute_result",
          "data": {
            "text/plain": [
              "-0.5836778667669404"
            ]
          },
          "metadata": {},
          "execution_count": 63
        }
      ]
    },
    {
      "cell_type": "code",
      "metadata": {
        "id": "Geltbb-TgLWV"
      },
      "source": [
        "my_num = -0.583678"
      ],
      "execution_count": null,
      "outputs": []
    },
    {
      "cell_type": "code",
      "metadata": {
        "colab": {
          "base_uri": "https://localhost:8080/",
          "height": 49
        },
        "id": "4p6WrmqDfMZC",
        "outputId": "6e4eed0f-7ccb-4dbf-fcf1-9dc25caeeffd"
      },
      "source": [
        "train_df.loc[train_df['Close'] == my_num]"
      ],
      "execution_count": null,
      "outputs": [
        {
          "output_type": "execute_result",
          "data": {
            "text/html": [
              "<div>\n",
              "<style scoped>\n",
              "    .dataframe tbody tr th:only-of-type {\n",
              "        vertical-align: middle;\n",
              "    }\n",
              "\n",
              "    .dataframe tbody tr th {\n",
              "        vertical-align: top;\n",
              "    }\n",
              "\n",
              "    .dataframe thead th {\n",
              "        text-align: right;\n",
              "    }\n",
              "</style>\n",
              "<table border=\"1\" class=\"dataframe\">\n",
              "  <thead>\n",
              "    <tr style=\"text-align: right;\">\n",
              "      <th></th>\n",
              "      <th>Close</th>\n",
              "    </tr>\n",
              "  </thead>\n",
              "  <tbody>\n",
              "  </tbody>\n",
              "</table>\n",
              "</div>"
            ],
            "text/plain": [
              "Empty DataFrame\n",
              "Columns: [Close]\n",
              "Index: []"
            ]
          },
          "metadata": {},
          "execution_count": 65
        }
      ]
    },
    {
      "cell_type": "code",
      "metadata": {
        "colab": {
          "base_uri": "https://localhost:8080/",
          "height": 359
        },
        "id": "LDeZWAGVhbjH",
        "outputId": "e19b4cdb-bd59-4c31-c25a-01328cac20dd"
      },
      "source": [
        "input = my_num\n",
        "train_df.iloc[(train_df['Close']-input).abs().argsort()[:10]]"
      ],
      "execution_count": null,
      "outputs": [
        {
          "output_type": "execute_result",
          "data": {
            "text/html": [
              "<div>\n",
              "<style scoped>\n",
              "    .dataframe tbody tr th:only-of-type {\n",
              "        vertical-align: middle;\n",
              "    }\n",
              "\n",
              "    .dataframe tbody tr th {\n",
              "        vertical-align: top;\n",
              "    }\n",
              "\n",
              "    .dataframe thead th {\n",
              "        text-align: right;\n",
              "    }\n",
              "</style>\n",
              "<table border=\"1\" class=\"dataframe\">\n",
              "  <thead>\n",
              "    <tr style=\"text-align: right;\">\n",
              "      <th></th>\n",
              "      <th>Close</th>\n",
              "    </tr>\n",
              "  </thead>\n",
              "  <tbody>\n",
              "    <tr>\n",
              "      <th>0</th>\n",
              "      <td>-0.583678</td>\n",
              "    </tr>\n",
              "    <tr>\n",
              "      <th>1347</th>\n",
              "      <td>-0.583678</td>\n",
              "    </tr>\n",
              "    <tr>\n",
              "      <th>1350</th>\n",
              "      <td>-0.583678</td>\n",
              "    </tr>\n",
              "    <tr>\n",
              "      <th>7947</th>\n",
              "      <td>-0.583706</td>\n",
              "    </tr>\n",
              "    <tr>\n",
              "      <th>5353</th>\n",
              "      <td>-0.583929</td>\n",
              "    </tr>\n",
              "    <tr>\n",
              "      <th>7957</th>\n",
              "      <td>-0.583408</td>\n",
              "    </tr>\n",
              "    <tr>\n",
              "      <th>7958</th>\n",
              "      <td>-0.583380</td>\n",
              "    </tr>\n",
              "    <tr>\n",
              "      <th>5352</th>\n",
              "      <td>-0.583985</td>\n",
              "    </tr>\n",
              "    <tr>\n",
              "      <th>1348</th>\n",
              "      <td>-0.583306</td>\n",
              "    </tr>\n",
              "    <tr>\n",
              "      <th>5355</th>\n",
              "      <td>-0.583213</td>\n",
              "    </tr>\n",
              "  </tbody>\n",
              "</table>\n",
              "</div>"
            ],
            "text/plain": [
              "         Close\n",
              "0    -0.583678\n",
              "1347 -0.583678\n",
              "1350 -0.583678\n",
              "7947 -0.583706\n",
              "5353 -0.583929\n",
              "7957 -0.583408\n",
              "7958 -0.583380\n",
              "5352 -0.583985\n",
              "1348 -0.583306\n",
              "5355 -0.583213"
            ]
          },
          "metadata": {},
          "execution_count": 66
        }
      ]
    },
    {
      "cell_type": "code",
      "metadata": {
        "colab": {
          "base_uri": "https://localhost:8080/"
        },
        "id": "3QX0W84m2RsU",
        "outputId": "b80e835c-eeec-4a9d-c238-d996f2b3cebd"
      },
      "source": [
        "lstm_model.input_shape"
      ],
      "execution_count": null,
      "outputs": [
        {
          "output_type": "execute_result",
          "data": {
            "text/plain": [
              "(None, 24, 1)"
            ]
          },
          "metadata": {},
          "execution_count": 67
        }
      ]
    },
    {
      "cell_type": "code",
      "metadata": {
        "colab": {
          "base_uri": "https://localhost:8080/"
        },
        "id": "pAOMVyg3hj75",
        "outputId": "17e41582-f46d-4cde-d6e8-b32892b1a412"
      },
      "source": [
        "lstm_model.summary()"
      ],
      "execution_count": null,
      "outputs": [
        {
          "output_type": "stream",
          "name": "stdout",
          "text": [
            "Model: \"sequential\"\n",
            "_________________________________________________________________\n",
            "Layer (type)                 Output Shape              Param #   \n",
            "=================================================================\n",
            "lstm (LSTM)                  (None, 24, 32)            4352      \n",
            "_________________________________________________________________\n",
            "dense (Dense)                (None, 24, 1)             33        \n",
            "=================================================================\n",
            "Total params: 4,385\n",
            "Trainable params: 4,385\n",
            "Non-trainable params: 0\n",
            "_________________________________________________________________\n"
          ]
        }
      ]
    },
    {
      "cell_type": "code",
      "metadata": {
        "id": "EedEz-rrxXvL"
      },
      "source": [
        "prediction1 = lstm_model.predict(\n",
        "    tf.keras.preprocessing.timeseries_dataset_from_array(\n",
        "      data=train_df,\n",
        "      targets=None,\n",
        "      sequence_length=wide_window.total_window_size,\n",
        "      sequence_stride=1,\n",
        "      shuffle=False,\n",
        "      batch_size=32,)\n",
        ")"
      ],
      "execution_count": null,
      "outputs": []
    },
    {
      "cell_type": "code",
      "metadata": {
        "colab": {
          "base_uri": "https://localhost:8080/"
        },
        "id": "3T01LpfVzZBz",
        "outputId": "42d441da-0ab2-4b8c-b8da-01dd21a00154"
      },
      "source": [
        "prediction1.shape"
      ],
      "execution_count": null,
      "outputs": [
        {
          "output_type": "execute_result",
          "data": {
            "text/plain": [
              "(25155, 25, 1)"
            ]
          },
          "metadata": {},
          "execution_count": 70
        }
      ]
    },
    {
      "cell_type": "code",
      "metadata": {
        "colab": {
          "base_uri": "https://localhost:8080/"
        },
        "id": "3Sy8ic7o1Uij",
        "outputId": "c159cf85-80bf-4408-8a03-374b73267d99"
      },
      "source": [
        "train_df.shape"
      ],
      "execution_count": null,
      "outputs": [
        {
          "output_type": "execute_result",
          "data": {
            "text/plain": [
              "(25179, 1)"
            ]
          },
          "metadata": {},
          "execution_count": 107
        }
      ]
    },
    {
      "cell_type": "code",
      "metadata": {
        "id": "HYm8rvpA7kz2"
      },
      "source": [
        "outputs1 = prediction1[:, -1:,:]\n",
        "new_shape1 = (outputs1.shape[0], outputs1.shape[1])"
      ],
      "execution_count": null,
      "outputs": []
    },
    {
      "cell_type": "code",
      "metadata": {
        "id": "jOQ1XpI06Vip"
      },
      "source": [
        "df_preds2_train = pd.DataFrame(\n",
        "    data=outputs1.reshape(new_shape1),\n",
        "    columns=['Predictions'],\n",
        ")  "
      ],
      "execution_count": null,
      "outputs": []
    },
    {
      "cell_type": "code",
      "metadata": {
        "id": "5LpC4YJaDL0M"
      },
      "source": [
        "df_preds_train = pd.DataFrame(np.nan, index=range(24), columns=['Predictions'])\n",
        "df_preds_train = df_preds_train.append(df_preds2_train)\n",
        "df_preds_train.reset_index(drop=True, inplace=True)\n",
        "# df_preds_train.head(50)"
      ],
      "execution_count": null,
      "outputs": []
    },
    {
      "cell_type": "code",
      "metadata": {
        "id": "Fgff60ojxthy",
        "colab": {
          "base_uri": "https://localhost:8080/"
        },
        "outputId": "e82cd3ab-1a99-4fdd-ae27-66dcd46e9cc0"
      },
      "source": [
        "prediction1[0]"
      ],
      "execution_count": null,
      "outputs": [
        {
          "output_type": "execute_result",
          "data": {
            "text/plain": [
              "array([[-0.5833094 ],\n",
              "       [-0.51709896],\n",
              "       [-0.5179428 ],\n",
              "       [-0.5175989 ],\n",
              "       [-0.5176095 ],\n",
              "       [-0.5175207 ],\n",
              "       [-0.5174133 ],\n",
              "       [-0.51734924],\n",
              "       [-0.51732147],\n",
              "       [-0.51731044],\n",
              "       [-0.51730156],\n",
              "       [-0.5172889 ],\n",
              "       [-0.517272  ],\n",
              "       [-0.5172527 ],\n",
              "       [-0.5172332 ],\n",
              "       [-0.51721513],\n",
              "       [-0.5171995 ],\n",
              "       [-0.5171866 ],\n",
              "       [-0.5171763 ],\n",
              "       [-0.5171683 ],\n",
              "       [-0.5171622 ],\n",
              "       [-0.5171576 ],\n",
              "       [-0.51715404],\n",
              "       [-0.5171514 ],\n",
              "       [-0.5107373 ]], dtype=float32)"
            ]
          },
          "metadata": {},
          "execution_count": 74
        }
      ]
    },
    {
      "cell_type": "code",
      "metadata": {
        "colab": {
          "base_uri": "https://localhost:8080/"
        },
        "id": "7oHAEQb6ydhH",
        "outputId": "5718afbc-3f19-4cdc-9daa-11c66fed9d89"
      },
      "source": [
        "train_df.iloc[23]"
      ],
      "execution_count": null,
      "outputs": [
        {
          "output_type": "execute_result",
          "data": {
            "text/plain": [
              "Close   -0.518578\n",
              "Name: 23, dtype: float64"
            ]
          },
          "metadata": {},
          "execution_count": 75
        }
      ]
    },
    {
      "cell_type": "code",
      "metadata": {
        "id": "9mgRAJoWoYcP"
      },
      "source": [
        "prediction2 = lstm_model.predict(\n",
        "    tf.keras.preprocessing.timeseries_dataset_from_array(\n",
        "    data=val_df,\n",
        "    targets=None,\n",
        "    sequence_length=wide_window.total_window_size,\n",
        "    sequence_stride=1,\n",
        "    shuffle=False,\n",
        "    batch_size=1,)\n",
        ")"
      ],
      "execution_count": null,
      "outputs": []
    },
    {
      "cell_type": "code",
      "metadata": {
        "colab": {
          "base_uri": "https://localhost:8080/"
        },
        "id": "zQLTapv8oYce",
        "outputId": "6c777468-372c-4cfb-9967-668c14ba16b2"
      },
      "source": [
        "prediction2.shape"
      ],
      "execution_count": null,
      "outputs": [
        {
          "output_type": "execute_result",
          "data": {
            "text/plain": [
              "(7170, 25, 1)"
            ]
          },
          "metadata": {},
          "execution_count": 77
        }
      ]
    },
    {
      "cell_type": "code",
      "metadata": {
        "id": "9TSJ0gGboYce"
      },
      "source": [
        "outputs2 = prediction2[:, -1:,:]\n",
        "new_shape2 = (outputs2.shape[0], outputs2.shape[1])"
      ],
      "execution_count": null,
      "outputs": []
    },
    {
      "cell_type": "code",
      "metadata": {
        "id": "UzRg_DRIoYce"
      },
      "source": [
        "df_preds2_val = pd.DataFrame(\n",
        "    data=outputs2.reshape(new_shape2),\n",
        "    columns=['Predictions'],\n",
        ")  \n",
        "#df_preds2_val.head(50)"
      ],
      "execution_count": null,
      "outputs": []
    },
    {
      "cell_type": "code",
      "metadata": {
        "id": "Dvb46PAxoYce"
      },
      "source": [
        "df_preds_val = pd.DataFrame(np.nan, index=range(24), columns=['Predictions'])\n",
        "df_preds_val = df_preds_val.append(df_preds2_val)\n",
        "idx_start = val_df.index[0]\n",
        "idx_end = val_df.index[-1]\n",
        "df_preds_val['idxs'] = range(idx_start, idx_end + 1)\n",
        "df_preds_val.set_index(keys='idxs', drop=True, inplace=True)\n",
        "#df_preds_val.head(50)"
      ],
      "execution_count": null,
      "outputs": []
    },
    {
      "cell_type": "code",
      "metadata": {
        "id": "Npa3Qdpxz3ta"
      },
      "source": [
        "prediction3 = lstm_model.predict(\n",
        "    tf.keras.preprocessing.timeseries_dataset_from_array(\n",
        "    data=test_df,\n",
        "    targets=None,\n",
        "    sequence_length=wide_window.total_window_size,\n",
        "    sequence_stride=1,\n",
        "    shuffle=False,\n",
        "    batch_size=1,)\n",
        ")"
      ],
      "execution_count": null,
      "outputs": []
    },
    {
      "cell_type": "code",
      "metadata": {
        "colab": {
          "base_uri": "https://localhost:8080/"
        },
        "id": "TsHuYpQ70A46",
        "outputId": "c8eb8369-104b-4dd4-cadf-1157d8cc33a6"
      },
      "source": [
        "prediction3.shape"
      ],
      "execution_count": null,
      "outputs": [
        {
          "output_type": "execute_result",
          "data": {
            "text/plain": [
              "(3573, 25, 1)"
            ]
          },
          "metadata": {},
          "execution_count": 82
        }
      ]
    },
    {
      "cell_type": "code",
      "metadata": {
        "id": "hLHRHwNNiLAl"
      },
      "source": [
        "outputs3 = prediction3[:, -1:,:]\n",
        "new_shape3 = (outputs3.shape[0], outputs3.shape[1])"
      ],
      "execution_count": null,
      "outputs": []
    },
    {
      "cell_type": "code",
      "metadata": {
        "id": "jRD91MO-iLA4"
      },
      "source": [
        "df_preds2_test = pd.DataFrame(\n",
        "    data=outputs3.reshape(new_shape3),\n",
        "    columns=['Predictions'],\n",
        ")  \n",
        "#df_preds2_test.head(50)"
      ],
      "execution_count": null,
      "outputs": []
    },
    {
      "cell_type": "code",
      "metadata": {
        "id": "rN2xUVXbiLA4"
      },
      "source": [
        "df_preds_test = pd.DataFrame(np.nan, index=range(24), columns=['Predictions'])\n",
        "df_preds_test = df_preds_test.append(df_preds2_test)\n",
        "idx_start = test_df.index[0]\n",
        "idx_end = test_df.index[-1]\n",
        "df_preds_test['idxs'] = range(idx_start, idx_end + 1)\n",
        "df_preds_test.set_index(keys='idxs', drop=True, inplace=True)\n",
        "#df_preds_test.head(50)"
      ],
      "execution_count": null,
      "outputs": []
    },
    {
      "cell_type": "code",
      "metadata": {
        "colab": {
          "base_uri": "https://localhost:8080/"
        },
        "id": "871M0j53n0wK",
        "outputId": "e3ea9908-1488-46c2-9e57-f260dd2e8612"
      },
      "source": [
        "print(train_df.index[-1], test_df.index[0])"
      ],
      "execution_count": null,
      "outputs": [
        {
          "output_type": "stream",
          "name": "stdout",
          "text": [
            "25178 32373\n"
          ]
        }
      ]
    },
    {
      "cell_type": "code",
      "metadata": {
        "colab": {
          "base_uri": "https://localhost:8080/",
          "height": 447
        },
        "id": "K85Q0kGI855G",
        "outputId": "adeac19e-f96c-4f4c-a7fc-697abc61db7d"
      },
      "source": [
        "plt.figure(figsize=(15, 7))\n",
        "plt.plot(train_df.index[-90:], train_df[-90:],\n",
        "             label='Train_inputs', marker='.', zorder=-10)\n",
        "plt.plot(val_df.index[:100], val_df[:100],\n",
        "             label='Test_inputs', marker='.', zorder=-10, color='green')\n",
        "\n",
        "plt.scatter(df_preds_train.index[-90:], df_preds_train[-90:],\n",
        "                edgecolors='k', label='Preds', c='#2ca02c', s=20)\n",
        "\n",
        "plt.scatter(df_preds_val.index[:100], df_preds_val[:100],\n",
        "                edgecolors='k', label='Preds', c='#FF8000', s=20)\n",
        "plt.plot()"
      ],
      "execution_count": null,
      "outputs": [
        {
          "output_type": "execute_result",
          "data": {
            "text/plain": [
              "[]"
            ]
          },
          "metadata": {},
          "execution_count": 87
        },
        {
          "output_type": "display_data",
          "data": {
            "image/png": "[encoded data removed]",
            "text/plain": [
              "<Figure size 1080x504 with 1 Axes>"
            ]
          },
          "metadata": {
            "needs_background": "light"
          }
        }
      ]
    },
    {
      "cell_type": "code",
      "metadata": {
        "id": "y4LjO2ApvhWL"
      },
      "source": [
        "final_df = (df.copy() - train_mean) / train_std"
      ],
      "execution_count": null,
      "outputs": []
    },
    {
      "cell_type": "code",
      "metadata": {
        "id": "8R1zONw8vu0I"
      },
      "source": [
        "final_prediction = lstm_model.predict(\n",
        "    tf.keras.preprocessing.timeseries_dataset_from_array(\n",
        "      data=final_df,\n",
        "      targets=None,\n",
        "      sequence_length=wide_window.total_window_size,\n",
        "      sequence_stride=1,\n",
        "      shuffle=False,\n",
        "      batch_size=32,)\n",
        ")"
      ],
      "execution_count": null,
      "outputs": []
    },
    {
      "cell_type": "code",
      "metadata": {
        "colab": {
          "base_uri": "https://localhost:8080/"
        },
        "id": "TrlvrC3ovu0J",
        "outputId": "d94bab0e-d6e4-4c3c-ed44-dc1dc3ce42bb"
      },
      "source": [
        "final_prediction.shape"
      ],
      "execution_count": null,
      "outputs": [
        {
          "output_type": "execute_result",
          "data": {
            "text/plain": [
              "(35946, 25, 1)"
            ]
          },
          "metadata": {},
          "execution_count": 90
        }
      ]
    },
    {
      "cell_type": "code",
      "metadata": {
        "id": "Jslg6W19vu0J"
      },
      "source": [
        "final_outputs = final_prediction[:, -1:,:]\n",
        "new_shape_f = (final_outputs.shape[0], final_outputs.shape[1])"
      ],
      "execution_count": null,
      "outputs": []
    },
    {
      "cell_type": "code",
      "metadata": {
        "id": "nH6wbDJDvu0K"
      },
      "source": [
        "df_preds2_final = pd.DataFrame(\n",
        "    data=final_outputs.reshape(new_shape_f),\n",
        "    columns=['Predictions'],\n",
        ")  "
      ],
      "execution_count": null,
      "outputs": []
    },
    {
      "cell_type": "code",
      "metadata": {
        "id": "vrvxmrARvu0K",
        "colab": {
          "base_uri": "https://localhost:8080/",
          "height": 1000
        },
        "outputId": "07824368-6b9e-4f68-ccc7-f4dcdc00c14f"
      },
      "source": [
        "df_preds_final = pd.DataFrame(np.nan, index=range(24), columns=['Predictions'])\n",
        "df_preds_final = df_preds_final.append(df_preds2_final)\n",
        "df_preds_final.reset_index(drop=True, inplace=True)\n",
        "df_preds_final.head(50)"
      ],
      "execution_count": null,
      "outputs": [
        {
          "output_type": "execute_result",
          "data": {
            "text/html": [
              "<div>\n",
              "<style scoped>\n",
              "    .dataframe tbody tr th:only-of-type {\n",
              "        vertical-align: middle;\n",
              "    }\n",
              "\n",
              "    .dataframe tbody tr th {\n",
              "        vertical-align: top;\n",
              "    }\n",
              "\n",
              "    .dataframe thead th {\n",
              "        text-align: right;\n",
              "    }\n",
              "</style>\n",
              "<table border=\"1\" class=\"dataframe\">\n",
              "  <thead>\n",
              "    <tr style=\"text-align: right;\">\n",
              "      <th></th>\n",
              "      <th>Predictions</th>\n",
              "    </tr>\n",
              "  </thead>\n",
              "  <tbody>\n",
              "    <tr>\n",
              "      <th>0</th>\n",
              "      <td>NaN</td>\n",
              "    </tr>\n",
              "    <tr>\n",
              "      <th>1</th>\n",
              "      <td>NaN</td>\n",
              "    </tr>\n",
              "    <tr>\n",
              "      <th>2</th>\n",
              "      <td>NaN</td>\n",
              "    </tr>\n",
              "    <tr>\n",
              "      <th>3</th>\n",
              "      <td>NaN</td>\n",
              "    </tr>\n",
              "    <tr>\n",
              "      <th>4</th>\n",
              "      <td>NaN</td>\n",
              "    </tr>\n",
              "    <tr>\n",
              "      <th>5</th>\n",
              "      <td>NaN</td>\n",
              "    </tr>\n",
              "    <tr>\n",
              "      <th>6</th>\n",
              "      <td>NaN</td>\n",
              "    </tr>\n",
              "    <tr>\n",
              "      <th>7</th>\n",
              "      <td>NaN</td>\n",
              "    </tr>\n",
              "    <tr>\n",
              "      <th>8</th>\n",
              "      <td>NaN</td>\n",
              "    </tr>\n",
              "    <tr>\n",
              "      <th>9</th>\n",
              "      <td>NaN</td>\n",
              "    </tr>\n",
              "    <tr>\n",
              "      <th>10</th>\n",
              "      <td>NaN</td>\n",
              "    </tr>\n",
              "    <tr>\n",
              "      <th>11</th>\n",
              "      <td>NaN</td>\n",
              "    </tr>\n",
              "    <tr>\n",
              "      <th>12</th>\n",
              "      <td>NaN</td>\n",
              "    </tr>\n",
              "    <tr>\n",
              "      <th>13</th>\n",
              "      <td>NaN</td>\n",
              "    </tr>\n",
              "    <tr>\n",
              "      <th>14</th>\n",
              "      <td>NaN</td>\n",
              "    </tr>\n",
              "    <tr>\n",
              "      <th>15</th>\n",
              "      <td>NaN</td>\n",
              "    </tr>\n",
              "    <tr>\n",
              "      <th>16</th>\n",
              "      <td>NaN</td>\n",
              "    </tr>\n",
              "    <tr>\n",
              "      <th>17</th>\n",
              "      <td>NaN</td>\n",
              "    </tr>\n",
              "    <tr>\n",
              "      <th>18</th>\n",
              "      <td>NaN</td>\n",
              "    </tr>\n",
              "    <tr>\n",
              "      <th>19</th>\n",
              "      <td>NaN</td>\n",
              "    </tr>\n",
              "    <tr>\n",
              "      <th>20</th>\n",
              "      <td>NaN</td>\n",
              "    </tr>\n",
              "    <tr>\n",
              "      <th>21</th>\n",
              "      <td>NaN</td>\n",
              "    </tr>\n",
              "    <tr>\n",
              "      <th>22</th>\n",
              "      <td>NaN</td>\n",
              "    </tr>\n",
              "    <tr>\n",
              "      <th>23</th>\n",
              "      <td>NaN</td>\n",
              "    </tr>\n",
              "    <tr>\n",
              "      <th>24</th>\n",
              "      <td>-0.510737</td>\n",
              "    </tr>\n",
              "    <tr>\n",
              "      <th>25</th>\n",
              "      <td>-0.510840</td>\n",
              "    </tr>\n",
              "    <tr>\n",
              "      <th>26</th>\n",
              "      <td>-0.510742</td>\n",
              "    </tr>\n",
              "    <tr>\n",
              "      <th>27</th>\n",
              "      <td>-0.510703</td>\n",
              "    </tr>\n",
              "    <tr>\n",
              "      <th>28</th>\n",
              "      <td>-0.510681</td>\n",
              "    </tr>\n",
              "    <tr>\n",
              "      <th>29</th>\n",
              "      <td>-0.509753</td>\n",
              "    </tr>\n",
              "    <tr>\n",
              "      <th>30</th>\n",
              "      <td>-0.509761</td>\n",
              "    </tr>\n",
              "    <tr>\n",
              "      <th>31</th>\n",
              "      <td>-0.509744</td>\n",
              "    </tr>\n",
              "    <tr>\n",
              "      <th>32</th>\n",
              "      <td>-0.509737</td>\n",
              "    </tr>\n",
              "    <tr>\n",
              "      <th>33</th>\n",
              "      <td>-0.509734</td>\n",
              "    </tr>\n",
              "    <tr>\n",
              "      <th>34</th>\n",
              "      <td>-0.509733</td>\n",
              "    </tr>\n",
              "    <tr>\n",
              "      <th>35</th>\n",
              "      <td>-0.509732</td>\n",
              "    </tr>\n",
              "    <tr>\n",
              "      <th>36</th>\n",
              "      <td>-0.509733</td>\n",
              "    </tr>\n",
              "    <tr>\n",
              "      <th>37</th>\n",
              "      <td>-0.509733</td>\n",
              "    </tr>\n",
              "    <tr>\n",
              "      <th>38</th>\n",
              "      <td>-0.509734</td>\n",
              "    </tr>\n",
              "    <tr>\n",
              "      <th>39</th>\n",
              "      <td>-0.509734</td>\n",
              "    </tr>\n",
              "    <tr>\n",
              "      <th>40</th>\n",
              "      <td>-0.509735</td>\n",
              "    </tr>\n",
              "    <tr>\n",
              "      <th>41</th>\n",
              "      <td>-0.509736</td>\n",
              "    </tr>\n",
              "    <tr>\n",
              "      <th>42</th>\n",
              "      <td>-0.509736</td>\n",
              "    </tr>\n",
              "    <tr>\n",
              "      <th>43</th>\n",
              "      <td>-0.509736</td>\n",
              "    </tr>\n",
              "    <tr>\n",
              "      <th>44</th>\n",
              "      <td>-0.509737</td>\n",
              "    </tr>\n",
              "    <tr>\n",
              "      <th>45</th>\n",
              "      <td>-0.509737</td>\n",
              "    </tr>\n",
              "    <tr>\n",
              "      <th>46</th>\n",
              "      <td>-0.509737</td>\n",
              "    </tr>\n",
              "    <tr>\n",
              "      <th>47</th>\n",
              "      <td>-0.509737</td>\n",
              "    </tr>\n",
              "    <tr>\n",
              "      <th>48</th>\n",
              "      <td>-0.509738</td>\n",
              "    </tr>\n",
              "    <tr>\n",
              "      <th>49</th>\n",
              "      <td>-0.509738</td>\n",
              "    </tr>\n",
              "  </tbody>\n",
              "</table>\n",
              "</div>"
            ],
            "text/plain": [
              "    Predictions\n",
              "0           NaN\n",
              "1           NaN\n",
              "2           NaN\n",
              "3           NaN\n",
              "4           NaN\n",
              "5           NaN\n",
              "6           NaN\n",
              "7           NaN\n",
              "8           NaN\n",
              "9           NaN\n",
              "10          NaN\n",
              "11          NaN\n",
              "12          NaN\n",
              "13          NaN\n",
              "14          NaN\n",
              "15          NaN\n",
              "16          NaN\n",
              "17          NaN\n",
              "18          NaN\n",
              "19          NaN\n",
              "20          NaN\n",
              "21          NaN\n",
              "22          NaN\n",
              "23          NaN\n",
              "24    -0.510737\n",
              "25    -0.510840\n",
              "26    -0.510742\n",
              "27    -0.510703\n",
              "28    -0.510681\n",
              "29    -0.509753\n",
              "30    -0.509761\n",
              "31    -0.509744\n",
              "32    -0.509737\n",
              "33    -0.509734\n",
              "34    -0.509733\n",
              "35    -0.509732\n",
              "36    -0.509733\n",
              "37    -0.509733\n",
              "38    -0.509734\n",
              "39    -0.509734\n",
              "40    -0.509735\n",
              "41    -0.509736\n",
              "42    -0.509736\n",
              "43    -0.509736\n",
              "44    -0.509737\n",
              "45    -0.509737\n",
              "46    -0.509737\n",
              "47    -0.509737\n",
              "48    -0.509738\n",
              "49    -0.509738"
            ]
          },
          "metadata": {},
          "execution_count": 93
        }
      ]
    },
    {
      "cell_type": "code",
      "metadata": {
        "colab": {
          "base_uri": "https://localhost:8080/"
        },
        "id": "gWz23VVIyKKT",
        "outputId": "037c5c93-7ced-4ab6-cfe4-850963802283"
      },
      "source": [
        "print(final_df.shape, df_preds_final.shape)"
      ],
      "execution_count": null,
      "outputs": [
        {
          "output_type": "stream",
          "name": "stdout",
          "text": [
            "(35970, 1) (35970, 1)\n"
          ]
        }
      ]
    },
    {
      "cell_type": "code",
      "metadata": {
        "id": "DlDL7y-n7A0m"
      },
      "source": [
        "last_24 = final_df[-24:]"
      ],
      "execution_count": null,
      "outputs": []
    },
    {
      "cell_type": "code",
      "metadata": {
        "id": "GanI9RSmxZM3"
      },
      "source": [
        "final_df = (final_df * train_std) + train_mean\n",
        "df_preds_final = (df_preds_final * train_std[0]) + train_mean[0]"
      ],
      "execution_count": null,
      "outputs": []
    },
    {
      "cell_type": "code",
      "metadata": {
        "colab": {
          "base_uri": "https://localhost:8080/"
        },
        "id": "mgay6mB3yY8Y",
        "outputId": "98d629e8-494d-48f7-d11e-99d61fd3f16c"
      },
      "source": [
        "print(final_df.shape, df_preds_final.shape)"
      ],
      "execution_count": null,
      "outputs": [
        {
          "output_type": "stream",
          "name": "stdout",
          "text": [
            "(35970, 1) (35970, 1)\n"
          ]
        }
      ]
    },
    {
      "cell_type": "code",
      "metadata": {
        "colab": {
          "base_uri": "https://localhost:8080/",
          "height": 447
        },
        "id": "kdLZgZSVtkG2",
        "outputId": "29ee749c-0a1a-45f0-a804-6449024fd78c"
      },
      "source": [
        "s = 0\n",
        "e = 95000050\n",
        "plt.figure(figsize=(15, 7))\n",
        "plt.plot(date_time[s:e], final_df[s:e],\n",
        "             label='Total_inputs', marker='.', zorder=-10, color='green')\n",
        "\n",
        "plt.scatter(date_time[s:e], df_preds_final[s:e],\n",
        "                edgecolors='k', label='Preds', c='#FF8000', s=20)\n",
        "plt.plot()"
      ],
      "execution_count": null,
      "outputs": [
        {
          "output_type": "execute_result",
          "data": {
            "text/plain": [
              "[]"
            ]
          },
          "metadata": {},
          "execution_count": 98
        },
        {
          "output_type": "display_data",
          "data": {
            "image/png": "[encoded data removed]",
            "text/plain": [
              "<Figure size 1080x504 with 1 Axes>"
            ]
          },
          "metadata": {
            "needs_background": "light"
          }
        }
      ]
    },
    {
      "cell_type": "code",
      "metadata": {
        "colab": {
          "base_uri": "https://localhost:8080/",
          "height": 447
        },
        "id": "FfjZhDfIwS6q",
        "outputId": "fb608deb-fd78-448f-cd12-a82b8c525824"
      },
      "source": [
        "s = -9600\n",
        "e = -9550\n",
        "plt.figure(figsize=(15, 7))\n",
        "plt.plot(date_time[s:e], final_df[s:e],\n",
        "             label='Total_inputs', marker='.', zorder=-10, color='green')\n",
        "\n",
        "plt.scatter(date_time[s:e], df_preds_final[s:e],\n",
        "                edgecolors='k', label='Preds', c='#FF8000', s=20)\n",
        "plt.plot()"
      ],
      "execution_count": null,
      "outputs": [
        {
          "output_type": "execute_result",
          "data": {
            "text/plain": [
              "[]"
            ]
          },
          "metadata": {},
          "execution_count": 99
        },
        {
          "output_type": "display_data",
          "data": {
            "image/png": "[encoded data removed]",
            "text/plain": [
              "<Figure size 1080x504 with 1 Axes>"
            ]
          },
          "metadata": {
            "needs_background": "light"
          }
        }
      ]
    },
    {
      "cell_type": "code",
      "metadata": {
        "colab": {
          "base_uri": "https://localhost:8080/",
          "height": 447
        },
        "id": "641W_tjPoFC-",
        "outputId": "ce9da9d4-99b2-4faa-d6d6-b3b7e956fc12"
      },
      "source": [
        "s = -300\n",
        "e = 955000\n",
        "plt.figure(figsize=(15, 7))\n",
        "plt.plot(date_time[s:e], final_df[s:e],\n",
        "             label='Total_inputs', marker='.', zorder=-10, color='green')\n",
        "\n",
        "plt.scatter(date_time[s:e], df_preds_final[s:e],\n",
        "                edgecolors='k', label='Preds', c='#FF8000', s=20)\n",
        "plt.plot()"
      ],
      "execution_count": null,
      "outputs": [
        {
          "output_type": "execute_result",
          "data": {
            "text/plain": [
              "[]"
            ]
          },
          "metadata": {},
          "execution_count": 100
        },
        {
          "output_type": "display_data",
          "data": {
            "image/png": "[encoded data removed]",
            "text/plain": [
              "<Figure size 1080x504 with 1 Axes>"
            ]
          },
          "metadata": {
            "needs_background": "light"
          }
        }
      ]
    },
    {
      "cell_type": "code",
      "metadata": {
        "colab": {
          "base_uri": "https://localhost:8080/"
        },
        "id": "hhMNbmwH6pTT",
        "outputId": "eab293ec-4dba-4301-eba8-8c00070c5e70"
      },
      "source": [
        "last_24_np = last_24.to_numpy()\n",
        "last_24_np = last_24_np.reshape((1, last_24_np.shape[0], 1))\n",
        "prediction_24 = lstm_model.predict(last_24_np) # (1, 24, 1) => (batch, time, feature)\n",
        "end = prediction_24.reshape((24, 1))\n",
        "end"
      ],
      "execution_count": null,
      "outputs": [
        {
          "output_type": "execute_result",
          "data": {
            "text/plain": [
              "array([[2.893365 ],\n",
              "       [2.8769064],\n",
              "       [2.8626723],\n",
              "       [2.8594668],\n",
              "       [2.8673158],\n",
              "       [2.8616714],\n",
              "       [2.870041 ],\n",
              "       [2.8650846],\n",
              "       [2.8665648],\n",
              "       [2.8770351],\n",
              "       [2.8325772],\n",
              "       [2.842051 ],\n",
              "       [2.85086  ],\n",
              "       [2.831966 ],\n",
              "       [2.8522794],\n",
              "       [2.85748  ],\n",
              "       [2.842845 ],\n",
              "       [2.8513048],\n",
              "       [2.8471694],\n",
              "       [2.8473887],\n",
              "       [2.8549268],\n",
              "       [2.8397255],\n",
              "       [2.8394532],\n",
              "       [2.8389657]], dtype=float32)"
            ]
          },
          "metadata": {},
          "execution_count": 101
        }
      ]
    },
    {
      "cell_type": "code",
      "metadata": {
        "colab": {
          "base_uri": "https://localhost:8080/",
          "height": 450
        },
        "id": "peI1Ec75-qjN",
        "outputId": "9e0aa86d-d966-4e2a-b68b-54a2b52a1545"
      },
      "source": [
        "s = -24\n",
        "e = 955000\n",
        "plt.figure(figsize=(15, 7))\n",
        "plt.plot(date_time[s:e], last_24[s:e],\n",
        "             label='Total_inputs', marker='.', zorder=-10, color='green')\n",
        "\n",
        "plt.scatter(date_time[s:e], end,\n",
        "                edgecolors='k', label='Preds', c='#FF8000', s=20)\n",
        "plt.plot()"
      ],
      "execution_count": null,
      "outputs": [
        {
          "output_type": "execute_result",
          "data": {
            "text/plain": [
              "[]"
            ]
          },
          "metadata": {},
          "execution_count": 102
        },
        {
          "output_type": "display_data",
          "data": {
            "image/png": "[encoded data removed]",
            "text/plain": [
              "<Figure size 1080x504 with 1 Axes>"
            ]
          },
          "metadata": {
            "needs_background": "light"
          }
        }
      ]
    }
  ]
}