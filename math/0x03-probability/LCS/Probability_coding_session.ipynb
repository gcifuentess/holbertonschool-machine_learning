{
  "nbformat": 4,
  "nbformat_minor": 0,
  "metadata": {
    "colab": {
      "name": "Probability_coding_session.ipynb",
      "provenance": [],
      "collapsed_sections": []
    },
    "kernelspec": {
      "name": "python3",
      "display_name": "Python 3"
    },
    "language_info": {
      "name": "python"
    }
  },
  "cells": [
    {
      "cell_type": "markdown",
      "metadata": {
        "id": "aRH6T2TLpIoj"
      },
      "source": [
        "## **Poisson distribution:**"
      ]
    },
    {
      "cell_type": "markdown",
      "metadata": {
        "id": "bcq90ksEptli"
      },
      "source": [
        "A discrete probability distribution that expresses the probability of a given number of events occurring in a fixed interval of time (distance, area or volume).\n",
        "\n",
        " These events occur with a known constant mean rate : ![image.png](data:image/png;base64,iVBORw0KGgoAAAANSUhEUgAAAC0AAAARCAYAAABJoiVMAAABjElEQVRIDe2W6zEEQRSFPxkgAjYCRIAI2AgQASJABGRABFYEiIAMyIAMqK+qe2q6zXbPzP7wKPfPbvfcx7mnz+0Z+AO2Aaz/tj4OgXfg9gcA3wQugXvgukbmFfABGPRdNgVeWxiOgLcScOUh6JsBiJXVHrA0IKbk+gScZw4PwCzbS5Y62NlyslteKC3jjoGVsmvxqScsaeZrmwoQ01xiDOgKbCfp+m9CY++CHte6nCp7+6H2buYn82LayfabpUw5kDI31iwqeIdoa0CSCG4e6Hy/Sa0sXkJni16Bxjsf6lHd16wGupNpizgIJwH0Ra1Kz+er4eSeK/410F+YdggUu7pUn147Mr6IKbWDAFhAteGuaTo5eXUnYO/EaLFrEw01wZ4BMhtJ6JNDUA6ctdumvCSxuT3UiYBzx5jAYeprxuj/WJr0SjIvgLymJ57gs7PcKea1Q5/XjtXGLebQTWLwyF9reUKe1Hb4rBBHgqH0ytZR8ScBGRgTy0Kit8xnzNLX+WnrdT4mx3/MaAY+AZSZVOmEzagQAAAAAElFTkSuQmCC)"
      ]
    },
    {
      "cell_type": "markdown",
      "metadata": {
        "id": "fg39dZCrrdK7"
      },
      "source": [
        "**Probability mass function:** \n",
        "\n",
        "![image.png](data:image/png;base64,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)"
      ]
    },
    {
      "cell_type": "markdown",
      "metadata": {
        "id": "9cK8tZqksV8E"
      },
      "source": [
        "![image.png](data:image/png;base64,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)\n",
        "\n",
        "**Cumulative probability function:**\n",
        "\n",
        "\n",
        "![image.png](data:image/png;base64,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)"
      ]
    },
    {
      "cell_type": "code",
      "metadata": {
        "id": "sQsEVfnno_GS"
      },
      "source": [
        "#!/usr/bin/env python3\n",
        "\"new class\"\n",
        "\n",
        "\n",
        "class Poisson():\n",
        "    \"poisson distribution\"\n",
        "    def __init__(self, data=None, lambtha=1.):\n",
        "\n",
        "        if data is None:\n",
        "            self.lambtha = float(lambtha)\n",
        "            if (lambtha <= 0):\n",
        "                raise ValueError(\"lambtha must be a positive value\")\n",
        "        else:\n",
        "            if type(data) is not list:\n",
        "                raise TypeError(\"data must be a list\")\n",
        "            if (len(data) < 2):\n",
        "                raise ValueError(\"data must contain multiple values\")\n",
        "\n",
        "            # Calculate the lambtha of data\n",
        "            self.lambtha = sum(data) / len(data)\n",
        "\n",
        "    # probability mass function\n",
        "    def pmf(self, k):\n",
        "        \"Calculates the value of the PMF for a given number of “successes” \"\n",
        "        k = int(k)\n",
        "        if k < 0:\n",
        "            return 0\n",
        "\n",
        "        e = 2.7182818285\n",
        "        fact_k = 1\n",
        "        for i in range(1, k + 1):\n",
        "            fact_k *= i\n",
        "        P = ((self.lambtha ** k) * (e ** (- self.lambtha))) / fact_k\n",
        "        return P\n",
        "\n",
        "    # cumulative distribution function\n",
        "    def cdf(self, k):\n",
        "        \"Calculates the value of the CDF for a given number of “successes” \"\n",
        "        k = int(k)\n",
        "        if k < 0:\n",
        "            return 0\n",
        "\n",
        "        e = 2.7182818285\n",
        "        cdf = 0\n",
        "        for i in range(k+1):\n",
        "            fact_i = 1\n",
        "            for j in range(1, i + 1):\n",
        "                fact_i *= j\n",
        "            \n",
        "            cdf += ((self.lambtha ** i) * (e ** (- self.lambtha))) / fact_i\n",
        "        return cdf\n",
        "\n",
        "\n",
        "\"\"\"\n",
        "# factorial\n",
        "def fact(self, x):\n",
        "  f = 1\n",
        "  for i in range(1, x + 1):\n",
        "      f *= i\n",
        "  return f\n",
        "\"\"\""
      ],
      "execution_count": null,
      "outputs": []
    },
    {
      "cell_type": "markdown",
      "metadata": {
        "id": "AoW-NuAwwDYL"
      },
      "source": [
        "## **Exponential distribution:**"
      ]
    },
    {
      "cell_type": "markdown",
      "metadata": {
        "id": "-obkGC9pxBLk"
      },
      "source": [
        "A probability distribution of the time between events in a Poisson point process, i.e., a process in which events occur continuously and independently at a constant average rate.\n",
        "\n",
        "\n",
        "\n",
        "\n",
        "\n",
        "**Probability density function:**\n",
        "\n",
        "\n",
        "\n",
        "\n",
        "\n",
        "\n",
        "![image.png](data:image/png;base64,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)\n",
        "\n",
        "**Cumulative distribution function**\n",
        "\n",
        "\n",
        "\n",
        "![image.png](data:image/png;base64,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)\n",
        "\n",
        "\n",
        "**The rate parameter λ is given by:**\n",
        "\n",
        "![image.png](data:image/png;base64,iVBORw0KGgoAAAANSUhEUgAAAFYAAAArCAYAAADi6n/oAAADdklEQVRoBe2azZEUMQxGRQaQAZy4LncO/CQAGQAZkAGQAHDiCGQAEQARLBkAB86QAdSj/E0Jl+3xzGi7e7utKpd7e2zZei3LsmvNhgwCMxG4PtO4qxz2ipndMbO3ZvZ5lRbOYNStBPOdmX0fYOO/AF6Ltw6PDWY7wAYDlboBViSC6wE2GKjUDbAiEVwPsMFApW6AFYngelawDE6JkEhdUfOZJY+9m04mX8zs7ERL6I8eTjronVO4G3hmZi/N7FcqPD8/dFJP3AlDX6hWe90AqA32yMw+ZYXJIkDMf+NcjqBvbrBX0xyYR17SNPsrjP1qZn/M7LFb3nw9jH6VfuMcLWmBpc219MHQmX8A9OGdD8wMQyRLAKu5hNV4KRBqHsPv99xo+8DS9GHS+dH10yWHB6qfVw1WyxJjMV73kU+TNwtCD1g2pN8J7o3kxawM7/nSR71qsN5jCQtaxoQL4rGkByxtXyew1GxQNai0XTVYljuehoedO7ACqroXLHoIMRRCQ0t6wSo166lb403ym2IsS5VnNpfSxqPJ9IKl/beky68G6fF1D1hCU55V6G/mzcp44YpWnB9n0meB9caze/uJ4SGSXrD0V8bxXp0rdQ9YupY8tfW+Mtzu9U0zu31gIevpkhLYHB6hQZL/pve+JkYDExDaxFoT6gXrx4h4fmNmPw8s93sHFlifFeR92Xwk+8ASTz+ocQJMaCG7qEkP2FYCz5zy0tosa/MIfS+wTKwkeJ8H1QJLBoE+n6tiIGCJtzXpAUuMpV1vaX3I2jyOec+8lJr+178FFoicmzFGUgLLksdTaeuhqo9ibW1V9ICVrqXVulfY2U1uSuzEmyg00C5LrffUPl3KwerYq/ZA9OLHoA268y98mcFiL5nUDizGl3bZ0jsPKgcrPb7Noc9LAcuK4tIIGyeXEthTJ7EUsHgd2Qwra3K4awaLg5AWAtZfIJ3qOF39BZaQESHoWYrHyh6gAreVe6ttWE1KRV5L4fkUidR1yjzyvqSYgKUeEkgAT+XE6PP3QPXbVqVNbNJwsAXkpF2Eg6lOcFtg+i+2ciIlHPgLqE0Yf1FGsmFxmvI5bX5SvKixV6uXYz5eqmyH1JJwQDo45EgCSrH8dSM59o89N3NHDreNboJaylvxVrxWXrwNIkFWApT/4ikJsZZ8dmQHJTrj3SUn8Bf4A+d9tC1MSAAAAABJRU5ErkJggg==)"
      ]
    },
    {
      "cell_type": "code",
      "metadata": {
        "id": "bLhXPOZkwLnb"
      },
      "source": [
        "#!/usr/bin/env python3\n",
        "\"new class\"\n",
        "\n",
        "\n",
        "class Exponential():\n",
        "    \"exponential distribution\"\n",
        "    def __init__(self, data=None, lambtha=1.):\n",
        "\n",
        "        if data is None:\n",
        "            self.lambtha = float(lambtha)\n",
        "            if (lambtha <= 0):\n",
        "                raise ValueError(\"lambtha must be a positive value\")\n",
        "        else:\n",
        "            if type(data) is not list:\n",
        "                raise TypeError(\"data must be a list\")\n",
        "            if (len(data) < 2):\n",
        "                raise ValueError(\"data must contain multiple values\")\n",
        "\n",
        "            # Calculate the lambtha of data\n",
        "            self.lambtha = len(data) / sum(data)\n",
        "\n",
        "    # Probability density function\n",
        "    def pdf(self, x):\n",
        "        \"Calculates the value of the PDF for a given time period \"\n",
        "        if x < 0:\n",
        "            return 0\n",
        "\n",
        "        e = 2.7182818285\n",
        "\n",
        "        pdf = self.lambtha * (e ** (- self.lambtha * x))\n",
        "        return pdf\n",
        "\n",
        "    # cumulative distribution function\n",
        "    def cdf(self, x):\n",
        "        \"Calculates the value of the CDF for a given time period\"\n",
        "\n",
        "        if x < 0:\n",
        "            return 0\n",
        "\n",
        "        e = 2.7182818285\n",
        "        cdf = 1 - e ** (- self.lambtha * x)\n",
        "        return cdf"
      ],
      "execution_count": null,
      "outputs": []
    },
    {
      "cell_type": "markdown",
      "metadata": {
        "id": "t52x7tJPyqGU"
      },
      "source": [
        "## **Normal Distribution:**\n",
        "\n",
        "A normal (or Gaussian) distribution is a type of continuous probability distribution for a real-valued random variable. \n",
        "\n",
        "The parameter ![image.png](data:image/png;base64,iVBORw0KGgoAAAANSUhEUgAAAAsAAAARCAYAAAAL4VbbAAAAqElEQVQ4EdWQ0Q1BURBEjw749EcHShAVUIHQwasAHdABHeiAEnRAJ2SSe16u9/4l5meys7t35i78Cg0w75itgGFHYwq8gW3VUMvCFzZlOANCbaQgX4CXReEz8OhoDIAnkAWhdlKQzRZboZa8M2Bsw2z1R/blD8kbx3Y4RS5xA5bADjgWbQ1cfdVsWVgAcZmUZuyz3N7ZbHVeH+qxeev79oYUDsDd4g/4A1xEIPQdles8AAAAAElFTkSuQmCC) is the mean or expectation of the distribution (and also its median and mode), while the parameter ![image.png](data:image/png;base64,iVBORw0KGgoAAAANSUhEUgAAAAsAAAANCAYAAAB/9ZQ7AAAAjklEQVQoFb3Q4Q3BMRQE8J8NsIER2IBN2MAGbGAEozABm7ABOdqmEfl/45LmvVyv9+6Vf2KBLXZfTssxwwUPXEut/QnnqpzjhiOmhcyEiA9VVGsc4zaqRKnh49pQHdaNeTfj4rzv+VUhE6XHBndkl4aIkq0XZ1p2+Jz2ehSXZM53ZaH0mTiIJSaDip9cPgHUNR2ESbvM7AAAAABJRU5ErkJggg==) is its standard deviation. The variance of the distribution is ![image.png](data:image/png;base64,iVBORw0KGgoAAAANSUhEUgAAABMAAAAVCAYAAACkCdXRAAAA+ElEQVQ4Ed2T4W0CMQyFPzaADRgBOgFiAkYoGxQWaLtBOwFsQJmAdgIYoRuUDVp9kiNZgkO5HuIHlqL4EvvZeX4H92RPwBuwAYZdHibILAAE/QH6/wX8BD5S8m8CT8d1rl2UTnyiYKO61MtRPnl9OaTu9vGaQPOo6RMndfVPo0zeA8/AS8ijEWwcGtoBTq7s+kpCnvTzOi0JqBun8wVsw/8GXmNVT00OjsAD0ItS7yHKs5WbDtWNSjY52yK6K+D5rtGfRpJ8ZVNDh9Rpvmv0lwGWAwbRrd21MnmSeAGKrWJi5bvVbnfqx8n5I7t3MomWt1aEd6p4s+Q/+X8uffy2Ax0AAAAASUVORK5CYII=)"
      ]
    },
    {
      "cell_type": "markdown",
      "metadata": {
        "id": "_A3r8ZB1zqfX"
      },
      "source": [
        "**Probability density function**\n",
        "\n",
        "\n",
        "\n",
        "![image.png](data:image/png;base64,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)\n",
        "\n",
        "\n",
        "\n",
        "\n",
        "**Cumulative distribution function**\n",
        "\n",
        "\n",
        "\n",
        "\n",
        "![image.png](data:image/png;base64,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)"
      ]
    },
    {
      "cell_type": "markdown",
      "metadata": {
        "id": "KY1h542s0Qr8"
      },
      "source": [
        "![image.png](data:image/png;base64,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)"
      ]
    },
    {
      "cell_type": "markdown",
      "metadata": {
        "id": "vH3-eWxp0dtn"
      },
      "source": [
        "**Z-score**\n",
        "\n",
        "\n",
        "\n",
        "\n",
        "![image.png](data:image/png;base64,iVBORw0KGgoAAAANSUhEUgAAAFUAAAApCAYAAABEFWXgAAACrElEQVRoBe2a3zEEQRDGPyUBRMA7VYgAESACMiADJIAMiAARIAIy4MmLBzKgfmq6qmtrd293a+3d7HVXTc2fu5ue/qa7p6dvpKBAIBAIBAKBeUJgTdKOE5j+lusP1dwcitF/87mRdC3pStKLpBNJt5Ke0th/87f5dyX9SKI2WpL0JenABnKoAdMvGKHuJaGptAF2KGIt8FxwDI/TGOvJhtBOI0wPoRAEOpNUZ45oES6jSWkCClZS3EQs5r0AdFpeHtVpAnW54XIB86JhsY2qmhqebOh54QtvyRUVhvPpPkh6ndJycUGA6v2puaBJGzKlJZezxXzvJKGh+DGEwq8ZMT6UQOZPjTc1vFkTUQjtI//hrLbttMV3cuIjAG0IQYr+LX3Ue8WG4k8NQBjgy7/TGH3WghJkQYRTnPZoCoI8u/5QQpiZAxyHEuvhAF1NYDKehZbO0o57M5+ldWW9FsImTD2oRwQImzD5oB4RANC6S0aPrGKqVghwa3h0twd2iZAmqCMCAMqthTCBmviMui58IXZsU+bOlPbdZgAk4E7KW/L5XkkheC8rdRvk2I+vSQKBwLtJ9qZv6VckfWZaPqrAsCtg02wQ17g2pYqvjS9K2si0rJsQvsbfYfIeUDI0XMmqiJCD62PT4v8WqZpzNONoKIEuhxWC0+dOO610W/bAcngAHlppGSGyMiQQADeoAwKYtzdx2pzc3g10mDZ+EggEAoFAIDBiBIiniWw4L6ym7c+TEYvfv2iX6TUJUU2xRL60A96WICJkRDPpA+xh5Eo7oJkuM/wd4sNDgAVU6qCWCOBDAc+/F2AKA3W75Xzx9ZSOLNNIQEZ7AT2oJQLkeQHV53Bp8/yRFy5BHREgf2EAAihPiYruoOPU8/szYlBCJl6V8MiNCCAoEAgE/hD4BTLmwCbqo1lgAAAAAElFTkSuQmCC)"
      ]
    },
    {
      "cell_type": "code",
      "metadata": {
        "id": "NBU-gumPzUE-"
      },
      "source": [
        "#!/usr/bin/env python3\n",
        "\"new class\"\n",
        "\n",
        "\n",
        "class Normal():\n",
        "    \" normal distribution\"\n",
        "    def __init__(self, data=None, mean=0., stddev=1.):\n",
        "        if data is None:\n",
        "            if stddev <= 0:\n",
        "                raise ValueError(\"stddev must be a positive value\")\n",
        "            self.mean = float(mean)\n",
        "            self.stddev = float(stddev)\n",
        "        else:\n",
        "            if type(data) is not list:\n",
        "                raise TypeError(\"data must be a list\")\n",
        "            if (len(data) < 2):\n",
        "                raise ValueError(\"data must contain multiple values\")\n",
        "            # Calculate the mean and standard deviation of data\n",
        "            self.mean = sum(data) / len(data)\n",
        "            L = [(i - self.mean) ** 2 for i in data]\n",
        "            self.stddev = (sum(L) / len(L)) ** (1 / 2)\n",
        "\n",
        "    def z_score(self, x):\n",
        "        \"Calculates the z-score of a given x-value\"\n",
        "        z = (x - self.mean) / self.stddev\n",
        "        return z\n",
        "\n",
        "    def x_value(self, z):\n",
        "        \"Calculates the x-value of a given z-score\"\n",
        "        x = z * self.stddev + self.mean\n",
        "        return x\n",
        "\n",
        "    def pdf(self, x):\n",
        "        \"Calculates the value of the PDF for a given x-value\"\n",
        "        pi = 3.1415926536\n",
        "        e = 2.7182818285\n",
        "        c = self.stddev * ((2*pi) ** (1/2))\n",
        "        pdf = (e ** ( - (self.z_score(x) ** 2) / 2)) / c\n",
        "        return pdf\n",
        "\n",
        "    def erf(self, x):\n",
        "        \"error function\"\n",
        "        pi = 3.1415926536\n",
        "        c = (x - (x ** 3) / 3 + (x ** 5) / 10 - (x ** 7) / 42 + (x ** 9) / 216)\n",
        "        return 2 * c / (pi ** (1 / 2))\n",
        "\n",
        "    # cumulative distribution function\n",
        "    def cdf(self, x):\n",
        "        \"Calculates the value of the CDF for a given x-value\"\n",
        "        c = self.z_score(x) / (2 ** (1 / 2))\n",
        "        cdf = (1 + self.erf(c)) / 2\n",
        "        return cdf\n",
        "\n",
        "\n"
      ],
      "execution_count": null,
      "outputs": []
    },
    {
      "cell_type": "markdown",
      "metadata": {
        "id": "T1xI8ji5fa_f"
      },
      "source": [
        "## **Binomial distribution:**"
      ]
    },
    {
      "cell_type": "markdown",
      "metadata": {
        "id": "TXin62LLfgUL"
      },
      "source": [
        "The binomial distribution with parameters n and p is the discrete probability distribution of the number of successes in a sequence of n independent experiments, each asking a yes–no question, and each with its own Boolean-valued outcome: success (with probability p) or failure (with probability q = 1 − p)."
      ]
    },
    {
      "cell_type": "markdown",
      "metadata": {
        "id": "8swdSjhSf0tS"
      },
      "source": [
        "**Probability density function**\n",
        "\n",
        "\n",
        "\n",
        "\n",
        "\n",
        "![image.png](data:image/png;base64,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)"
      ]
    },
    {
      "cell_type": "markdown",
      "metadata": {
        "id": "r1xTN56vgi1c"
      },
      "source": [
        "where : ![image.png](data:image/png;base64,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)"
      ]
    },
    {
      "cell_type": "markdown",
      "metadata": {
        "id": "7mbw7gUbgFQ5"
      },
      "source": [
        "![image.png](data:image/png;base64,iVBORw0KGgoAAAANSUhEUgAAAFkAAAAXCAYAAABgWeOzAAADYUlEQVRoBe2YjY0TQQyFHx1AB0AFRwdAA/xUAB0ADQAVABUAFUAHwDUAHQAVQAegL/ILxtlsnNuVskrO0iizM7bHfuOxfSdd0uIRuCKJMQfNqWsOexah40zSpxjMp1DWdWuKoqXK3pH0ojmyD8i93BLJtwf0PQrh6wN78BPJ6EPv0dENSU8l/ZD0JwDA0buSHobj32IPXpNB9nf+he9B0vlRkqP9qiS+Oet18LEGHS3I4Z8+h+NE1RBxCTnKxkC2/OPQ+d4LkgCUswx62jodkDOQGYBnEXVe64B8TdJvSb8kMYc+SAL8ITqZSM4g8+RxHKqg1u9g2/ghikkNAPt2BGAElwLyPp3OXt2V00UGmZxpkCt6XZDhA2RGThtV36FApiBTc+iUSGVPJJ1HPXlXjLwfqe5r8NIwUF++l1dexP59GmQUcCC/ADMVZG7aRZXOYow6kTzUnezqjradCahfYhNfAYsXh80Ub9ZyagMjiHXSoOsKLz6nxGDb/DHI5F6ijwLIDU8FGUMwCMPebB7730oHZATofOrA5qEx1ncTxXRW8FT7KsjgwcumtsDL3OTXCtijZJARMOWczFpVvO0CLI/x6L0ZhnHbYzmsC7L1z/VLtAJcblHxnbV6SV7PXZjl2yBnYZ5TPhjADBKXMQYyN85LsLx74zFDuiBjQ3d0LoJa8TP5hgxrpDn7az28RsDP5LV6IZlnNR+K5MzkqPTaGMjuhfOhjgDA3kYdkMnJONkdADVGgEguzkWONV6dCzUFz0StAqtMyNe1vL+e7wKZ/jZH7jaQiWAMGYpYF0BH9/rwmHRAhrUbxTUK63l8YwsXlgscvrGGD1xqvgDWa9pkDRnTq/h7gGBbEZtUZ24DZnrZXK0R8B5FwlRBpohgDBGAHuQyPU97dC+cUbuNLshZ79S5X1i+eF4gPlC0CT7bafAp5MzvRUqpAeVC7+5jxYxzneHDcKyCTCRwCawz9z+EDAJPjo7Acpy3vulgOgTIAEFvXAkfsCf7zDfgcyEECf7mfetAJ35OJoM1WVFScAiQ0/E7p0R1K/fu1NRkODWQye9E8a5evwlfj+2UQCbV+S9g6lMufD20LsgFyBSwmrcuoo68hh70oXeJ1OlUZrebogUgjFrA9j1sTl37nn3JfwwI/AV/Ye9mGu/O2AAAAABJRU5ErkJggg==)"
      ]
    },
    {
      "cell_type": "markdown",
      "metadata": {
        "id": "kaeY8yNohEuv"
      },
      "source": [
        "![image.png](data:image/png;base64,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)"
      ]
    },
    {
      "cell_type": "markdown",
      "metadata": {
        "id": "yWTiKLByguYh"
      },
      "source": [
        "\n",
        "**Cumulative distribution function**\n",
        "\n",
        "\n",
        "\n",
        "![image.png](data:image/png;base64,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)"
      ]
    },
    {
      "cell_type": "code",
      "metadata": {
        "id": "MZvGXrqt0mze"
      },
      "source": [
        "#!/usr/bin/env python3\n",
        "\"new class\"\n",
        "\n",
        "\n",
        "class Binomial():\n",
        "    \"Binomial distribution\"\n",
        "    def __init__(self, data=None, n=1, p=0.5):\n",
        "\n",
        "        if data is None:\n",
        "            if (n <= 0):\n",
        "                raise ValueError(\"n must be a positive value\")\n",
        "            if (p >= 1) or (p <= 0):\n",
        "                raise ValueError(\"p must be greater than 0 and less than 1\")\n",
        "            self.n = int(n)\n",
        "            self.p = float(p)\n",
        "        else:\n",
        "            if type(data) is not list:\n",
        "                raise TypeError(\"data must be a list\")\n",
        "            if (len(data) < 2):\n",
        "                raise ValueError(\"data must contain multiple values\")\n",
        "\n",
        "            # Calculate the n of p\n",
        "            mean = sum(data) / len(data)\n",
        "            var = sum([(i - mean) ** 2 for i in data]) / len(data)\n",
        "            p = 1 - (var / mean)\n",
        "            self.n = round(mean / p)\n",
        "            self.p = mean / self.n\n",
        "\n",
        "    # factorial\n",
        "    def fact(self, x):\n",
        "        f = 1\n",
        "        for i in range(1, x + 1):\n",
        "            f *= i\n",
        "        return f\n",
        "\n",
        "    # probability mass function\n",
        "    def pmf(self, k):\n",
        "        \"Calculates the value of the PMF for a given number of “successes” \"\n",
        "        a = self.n - k\n",
        "        c = self.fact(self.n) / (self.fact(k) * self.fact(a))\n",
        "        pmf = c * (self.p ** k) * (1 - self.p) ** a\n",
        "        return pmf\n",
        "\n",
        "    # cumulative distribution function\n",
        "    def cdf(self, k):\n",
        "        \"Calculates the value of the CDF for a given number of “successes” \"\n",
        "        k = int(k)\n",
        "        L = [self.pmf(i) for i in range(k + 1)]\n",
        "        return sum(L)\n",
        "\n",
        "\n"
      ],
      "execution_count": null,
      "outputs": []
    }
  ]
}